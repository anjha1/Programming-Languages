{
  "nbformat": 4,
  "nbformat_minor": 0,
  "metadata": {
    "colab": {
      "provenance": [],
      "authorship_tag": "ABX9TyOlndst4mJ6OMJxDVgbf4wZ",
      "include_colab_link": true
    },
    "kernelspec": {
      "name": "python3",
      "display_name": "Python 3"
    },
    "language_info": {
      "name": "python"
    }
  },
  "cells": [
    {
      "cell_type": "markdown",
      "metadata": {
        "id": "view-in-github",
        "colab_type": "text"
      },
      "source": [
        "<a href=\"https://colab.research.google.com/github/anjha1/Programming-Languages/blob/main/python/Geeks%20for%20Geeks-700%2B%20Problem-Solution/Practice_Sheet2(Exercise)_By_anjha.ipynb\" target=\"_parent\"><img src=\"https://colab.research.google.com/assets/colab-badge.svg\" alt=\"Open In Colab\"/></a>"
      ]
    },
    {
      "cell_type": "markdown",
      "source": [
        "[**Solution Link**](https://sites.google.com/view/achhuta-nand-jha/programming-language/python)\n"
      ],
      "metadata": {
        "id": "IivyxqlVYSBj"
      }
    },
    {
      "cell_type": "markdown",
      "source": [
        "**Practice Sheet Overview by Achhuta Nand Jha**\n",
        "\n",
        "\n",
        "\n",
        "**Author:** Achhuta Nand Jha\n",
        "\n",
        "\n",
        "**Purpose:** To provide structured practice exercises covering fundamental and advanced topics in Python programming.\n",
        "\n",
        "**Structure of the Practice Sheet:**\n",
        "\n",
        "**Types of Questions:**\n",
        "\n",
        "> **Basic String Programs:** Includes exercises like checking for symmetry, palindrome, reversing words, removing characters, etc.\n",
        "\n",
        "\n",
        "> **Advanced String Programs:** Covers more complex operations like substring manipulation, frequency analysis, permutations, etc.\n",
        "\n",
        "\n",
        "> **Basic List Programs:** Exercises on list manipulation, element swapping, finding max/min values, etc.\n",
        "\n",
        "\n",
        "> **Advanced List Programs:** Focuses on operations involving nested lists, combinations, filtering, etc.\n",
        "\n",
        "\n",
        "> **Basic Set Programs:** Tasks involving set operations like intersection, difference, checking for common elements, etc.\n",
        "\n",
        "\n",
        "> **Advanced Set Programs:** Exercises on subset finding, unique value counting, etc.\n",
        "\n",
        "\n",
        "> **Basic Tuple Programs:** Includes tuple creation, manipulation, sorting, etc.\n",
        "\n",
        "\n",
        "> **Advanced Tuple Programs:** Covers complex tuple operations such as nested tuple handling, sorting, filtering, etc.\n",
        "\n",
        "\n",
        "> **Basic Dictionary Programs:** Exercises on dictionary manipulation, sorting, key-value operations, etc.\n",
        "\n",
        "\n",
        "> **Advanced Dictionary Programs:** Includes tasks like nested dictionary operations, value extraction, filtering, etc.\n",
        "\n",
        "\n",
        "**Question Labels:**\n",
        "\n",
        "> Each question is likely labeled by its specific topic (e.g., \"Palindrome Check,\" \"Intersection of Sets,\" \"Tuple Sorting\").\n",
        "\n",
        "\n",
        "> Labels help identify the focus area of each exercise, making it easier to navigate and target specific concepts for practice.\n",
        "Other Features:\n",
        "\n",
        "> Difficulty Levels: Exercises may vary in difficulty from basic to advanced, catering to learners at different stages.\n",
        "\n",
        "\n",
        "**Solutions:** Solutions or hints may be provided alongside each question to aid understanding and self-assessment.\n",
        "\n",
        "\n",
        "**Application Scenarios:** Some exercises might simulate real-world scenarios or practical problems to solve using Python.\n",
        "\n",
        "\n",
        "**Benefits of Using Such Practice Sheets:**\n",
        "\n",
        "\n",
        "> **Comprehensive Coverage:** Helps in mastering Python programming by covering a wide range of topics.\n",
        "\n",
        "\n",
        "> **Structured Learning:** Organized format allows for systematic practice and skill development.\n",
        "\n",
        "> **Self-assessment:** Provides opportunities to test and evaluate understanding through practical exercises.\n",
        "\n",
        "\n",
        "> **Application Oriented:** Focuses on applying Python concepts to solve typical programming problems.\n",
        "\n",
        "\n",
        "By working through these exercises systematically, learners can enhance their proficiency in Python programming and build confidence in tackling various coding challenges."
      ],
      "metadata": {
        "id": "yOzCr6G2WHJG"
      }
    },
    {
      "cell_type": "markdown",
      "source": [
        "> Total number of questions: 303\n",
        "\n"
      ],
      "metadata": {
        "id": "cXYIR8_xts6z"
      }
    },
    {
      "cell_type": "markdown",
      "source": [
        "\n",
        "\n",
        "---\n",
        "\n",
        "\n",
        "\n",
        "---\n",
        "\n",
        "\n",
        "\n",
        "---\n",
        "\n"
      ],
      "metadata": {
        "id": "gmzKYlxd6m6F"
      }
    },
    {
      "cell_type": "markdown",
      "source": [
        "."
      ],
      "metadata": {
        "id": "JFS74bh06oS7"
      }
    },
    {
      "cell_type": "markdown",
      "source": [
        "                                                                         \n",
        "                                                                          \n",
        "                                                                           \n",
        "                                                                            \n",
        "                                                                             \n",
        "                                                                              \n",
        "                                                                               \n",
        "                                                                                \n",
        "                                                                                 \n",
        "                                                                                  \n",
        "                                                                                   \n",
        "                                                                                    \n",
        "                                                                                     \n",
        "                                                                                      \n",
        "                                                                                       \n",
        "                                                                                        \n",
        "                                                                                         \n",
        "                                                                                          \n",
        "                                                                                           \n",
        "                                                                                            \n",
        "                                                                                             \n",
        "                                                                                              \n",
        "                                                                                               \n",
        "                                                                                                \n",
        "                                                                        Exercise\n",
        "\n"
      ],
      "metadata": {
        "id": "JJFmQiJl56h8"
      }
    },
    {
      "cell_type": "markdown",
      "source": [
        "."
      ],
      "metadata": {
        "id": "lobdHX0N5--Y"
      }
    },
    {
      "cell_type": "markdown",
      "source": [
        "\n",
        "\n",
        "---\n",
        "\n",
        "\n",
        "\n",
        "---\n",
        "\n",
        "\n",
        "\n",
        "---\n",
        "\n"
      ],
      "metadata": {
        "id": "hTwyFaAa6rg1"
      }
    },
    {
      "cell_type": "markdown",
      "source": [
        "> Basic String Programs\n",
        "\n"
      ],
      "metadata": {
        "id": "U42rtA63McAf"
      }
    },
    {
      "cell_type": "markdown",
      "source": [
        "\n",
        "\n",
        "---\n",
        "\n",
        "\n",
        "\n",
        "---\n",
        "\n",
        "\n",
        "\n",
        "---\n",
        "\n"
      ],
      "metadata": {
        "id": "63pBZ3QSMZ44"
      }
    },
    {
      "cell_type": "markdown",
      "source": [
        " 1.Python program to check whether the string is Symmetrical or Palindrome"
      ],
      "metadata": {
        "id": "pwlATv5q6tBQ"
      }
    },
    {
      "cell_type": "markdown",
      "source": [
        "2.Reverse words in a given String in Python"
      ],
      "metadata": {
        "id": "81eCpGmq6wny"
      }
    },
    {
      "cell_type": "markdown",
      "source": [
        "3.Ways to remove i\"th character from string in Python"
      ],
      "metadata": {
        "id": "Lz-S9Wnw6y6F"
      }
    },
    {
      "cell_type": "markdown",
      "source": [
        " 4.Find length of a string in python (4 ways)"
      ],
      "metadata": {
        "id": "Ro1c6KOL606U"
      }
    },
    {
      "cell_type": "markdown",
      "source": [
        "5.Python - Avoid Spaces in string length"
      ],
      "metadata": {
        "id": "nKrKA6OV626P"
      }
    },
    {
      "cell_type": "markdown",
      "source": [
        "6.Python program to print even length words in a string"
      ],
      "metadata": {
        "id": "wEEWO39Y65Bp"
      }
    },
    {
      "cell_type": "markdown",
      "source": [
        " 7.Python - Uppercase Half String"
      ],
      "metadata": {
        "id": "VwCB11Vv67IL"
      }
    },
    {
      "cell_type": "markdown",
      "source": [
        " 8.Python program to capitalize the first and last character of each word in astring"
      ],
      "metadata": {
        "id": "beAAw6bP69Mz"
      }
    },
    {
      "cell_type": "markdown",
      "source": [
        "9.Python program to check if a string has at least one letter and one number"
      ],
      "metadata": {
        "id": "5Bm9k1FZ7ClC"
      }
    },
    {
      "cell_type": "markdown",
      "source": [
        "10.Python | Program to accept the strings which contains all vowels"
      ],
      "metadata": {
        "id": "0dpqlPE37adq"
      }
    },
    {
      "cell_type": "markdown",
      "source": [
        "11.Python | Count the Number of matching characters in a pair of string"
      ],
      "metadata": {
        "id": "pX1byGt57cqf"
      }
    },
    {
      "cell_type": "markdown",
      "source": [
        "12.Python program to count number of vowels using sets in given string"
      ],
      "metadata": {
        "id": "pLKSrUSk7fQp"
      }
    },
    {
      "cell_type": "markdown",
      "source": [
        "13.Python Program to remove all duplicates from a given string"
      ],
      "metadata": {
        "id": "zwM2Dv7H7huQ"
      }
    },
    {
      "cell_type": "markdown",
      "source": [
        "14.Python - Least Frequent Character in String"
      ],
      "metadata": {
        "id": "sOwp99Dt7kBL"
      }
    },
    {
      "cell_type": "markdown",
      "source": [
        "15.Python | Maximum frequency character in String"
      ],
      "metadata": {
        "id": "fP307W_k7mXu"
      }
    },
    {
      "cell_type": "markdown",
      "source": [
        "16.Python - Odd Frequency Characters"
      ],
      "metadata": {
        "id": "77T7KW1J7o1V"
      }
    },
    {
      "cell_type": "markdown",
      "source": [
        "17.Python - Specific Characters Frequency in String List"
      ],
      "metadata": {
        "id": "PTVITMhP7qvR"
      }
    },
    {
      "cell_type": "markdown",
      "source": [
        " 18.Python | Frequency of numbers in String"
      ],
      "metadata": {
        "id": "OsmSoFpL7s5e"
      }
    },
    {
      "cell_type": "markdown",
      "source": [
        "19.Python | Program to check if a string contains any special character"
      ],
      "metadata": {
        "id": "wpcgrkfV7vDD"
      }
    },
    {
      "cell_type": "markdown",
      "source": [
        "20.Generating random strings until a given string is generated"
      ],
      "metadata": {
        "id": "Kd2aMdAT7yHN"
      }
    },
    {
      "cell_type": "markdown",
      "source": [
        "21.Find words which are greater than given length k"
      ],
      "metadata": {
        "id": "ZkJEpgqD70Lu"
      }
    },
    {
      "cell_type": "markdown",
      "source": [
        "22.Python program for removing i-th character from a string"
      ],
      "metadata": {
        "id": "E-VX-ewa72iJ"
      }
    },
    {
      "cell_type": "markdown",
      "source": [
        "23.Python program to split and join a string"
      ],
      "metadata": {
        "id": "jXeJvL4a74je"
      }
    },
    {
      "cell_type": "markdown",
      "source": [
        "24.Python | Check if a given string is binary string or not"
      ],
      "metadata": {
        "id": "tWXhvn1h76zj"
      }
    },
    {
      "cell_type": "markdown",
      "source": [
        "25.Python | Find all close matches of input string from a list"
      ],
      "metadata": {
        "id": "EIF-KoLA79Nc"
      }
    },
    {
      "cell_type": "markdown",
      "source": [
        "26.Python program to find uncommon words from two Strings"
      ],
      "metadata": {
        "id": "SPwdkSZB7_UC"
      }
    },
    {
      "cell_type": "markdown",
      "source": [
        "27.Python | Swap commas and dots in a String"
      ],
      "metadata": {
        "id": "HfHK1nfY8DRp"
      }
    },
    {
      "cell_type": "markdown",
      "source": [
        "28.Python | Permutation of a given string using inbuilt function"
      ],
      "metadata": {
        "id": "-6LN5kh_8Fr-"
      }
    },
    {
      "cell_type": "markdown",
      "source": [
        "29.Python | Check for URL in a String"
      ],
      "metadata": {
        "id": "PxDQN_th8H8r"
      }
    },
    {
      "cell_type": "markdown",
      "source": [
        "30.Execute a String of Code in Python"
      ],
      "metadata": {
        "id": "7m9n_tLX8Kbp"
      }
    },
    {
      "cell_type": "markdown",
      "source": [],
      "metadata": {
        "id": "LIGf522m8NnK"
      }
    },
    {
      "cell_type": "markdown",
      "source": [
        "\n",
        "\n",
        "---\n",
        "\n",
        "\n",
        "\n",
        "---\n",
        "\n",
        "\n",
        "\n",
        "---\n",
        "\n"
      ],
      "metadata": {
        "id": "d-Ifo7z_8s70"
      }
    },
    {
      "cell_type": "markdown",
      "source": [
        "> Advance String Programs"
      ],
      "metadata": {
        "id": "ipblQgJq8qTG"
      }
    },
    {
      "cell_type": "markdown",
      "source": [
        "\n",
        "\n",
        "---\n",
        "\n",
        "\n",
        "\n",
        "---\n",
        "\n",
        "\n",
        "\n",
        "---\n",
        "\n"
      ],
      "metadata": {
        "id": "ZL4DI2Qn-aZG"
      }
    },
    {
      "cell_type": "markdown",
      "source": [
        "31.Python | Convert numeric words to numbers"
      ],
      "metadata": {
        "id": "Np-R_9GQ8zm9"
      }
    },
    {
      "cell_type": "markdown",
      "source": [
        "32.Python | Word location in String"
      ],
      "metadata": {
        "id": "7QKyEhTl82WO"
      }
    },
    {
      "cell_type": "markdown",
      "source": [
        " 33.Python | Consecutive characters frequency"
      ],
      "metadata": {
        "id": "YMFOREvV84fb"
      }
    },
    {
      "cell_type": "markdown",
      "source": [
        " 34.String slicing in Python to rotate a string"
      ],
      "metadata": {
        "id": "Rn541m_s9CQP"
      }
    },
    {
      "cell_type": "markdown",
      "source": [
        "35.String slicing in Python to check if a string can become empty by recursive deletion"
      ],
      "metadata": {
        "id": "bYKOzTKd9EWg"
      }
    },
    {
      "cell_type": "markdown",
      "source": [
        "36.Python Program to find minimum number of rotations to obtain actual string"
      ],
      "metadata": {
        "id": "jG2wLApP9HFA"
      }
    },
    {
      "cell_type": "markdown",
      "source": [
        "37.Python - Words Frequency in String Shorthands"
      ],
      "metadata": {
        "id": "SqFjVKIt9J2W"
      }
    },
    {
      "cell_type": "markdown",
      "source": [
        " 38.Python - Successive Characters Frequency"
      ],
      "metadata": {
        "id": "ZG_NfyPX9MIo"
      }
    },
    {
      "cell_type": "markdown",
      "source": [
        " 39.Python - Sort String list by K character frequency"
      ],
      "metadata": {
        "id": "R6KuiGg-9OVk"
      }
    },
    {
      "cell_type": "markdown",
      "source": [
        "40.Python - Convert Snake case to Pascal case"
      ],
      "metadata": {
        "id": "tREi0X7i9RCO"
      }
    },
    {
      "cell_type": "markdown",
      "source": [
        "41.Python - Avoid Last occurrence of delimitter"
      ],
      "metadata": {
        "id": "EeFj4L3-9VqL"
      }
    },
    {
      "cell_type": "markdown",
      "source": [
        "42.Python program to find the character position of Kth word from a list of strings"
      ],
      "metadata": {
        "id": "vPArzrVs9X8k"
      }
    },
    {
      "cell_type": "markdown",
      "source": [
        "43.Python - Right and Left Shift characters in String"
      ],
      "metadata": {
        "id": "OGZIxvE_9abc"
      }
    },
    {
      "cell_type": "markdown",
      "source": [
        "44.Python | Exceptional Split in String"
      ],
      "metadata": {
        "id": "dc5yjYbu9diX"
      }
    },
    {
      "cell_type": "markdown",
      "source": [
        "45.Python - Split String on vowels"
      ],
      "metadata": {
        "id": "fAFyCQef9f6H"
      }
    },
    {
      "cell_type": "markdown",
      "source": [
        " 46.Python - Mirror Image of String"
      ],
      "metadata": {
        "id": "IHF-Uta49i4Y"
      }
    },
    {
      "cell_type": "markdown",
      "source": [
        "47.Python - Replace multiple words with K"
      ],
      "metadata": {
        "id": "M-SU8gRL9lBD"
      }
    },
    {
      "cell_type": "markdown",
      "source": [
        "48.Python - Replace Different characters in String at Once"
      ],
      "metadata": {
        "id": "rUrtEFsE9ne0"
      }
    },
    {
      "cell_type": "markdown",
      "source": [
        " 49.Python | Multiple indices Replace in String"
      ],
      "metadata": {
        "id": "SEqv9UUA9qI2"
      }
    },
    {
      "cell_type": "markdown",
      "source": [
        "50.Python - Ways to remove multiple empty spaces from string List"
      ],
      "metadata": {
        "id": "Q8lpxcAg9sPt"
      }
    },
    {
      "cell_type": "markdown",
      "source": [
        "51.Python | Remove punctuation from string"
      ],
      "metadata": {
        "id": "7QdcEZ2H9ubC"
      }
    },
    {
      "cell_type": "markdown",
      "source": [
        " 52.Python - Similar characters Strings comparison"
      ],
      "metadata": {
        "id": "73pboS019we4"
      }
    },
    {
      "cell_type": "markdown",
      "source": [
        " 53.Python - Remove K length Duplicates from String"
      ],
      "metadata": {
        "id": "qLQtQkiU9zEo"
      }
    },
    {
      "cell_type": "markdown",
      "source": [
        "54.Python - Remove suffix from string list"
      ],
      "metadata": {
        "id": "M3udc04B91OM"
      }
    },
    {
      "cell_type": "markdown",
      "source": [
        "55.Python Counter| Find all duplicate characters in string"
      ],
      "metadata": {
        "id": "bF2RaIGC93H9"
      }
    },
    {
      "cell_type": "markdown",
      "source": [
        " 56.Python - Replace duplicate Occurrence in String"
      ],
      "metadata": {
        "id": "UtLzcFeE95P0"
      }
    },
    {
      "cell_type": "markdown",
      "source": [
        "57.Ways to convert string to dictionary"
      ],
      "metadata": {
        "id": "QPZqTH-L97mK"
      }
    },
    {
      "cell_type": "markdown",
      "source": [
        " 58.Python - Check if two strings are Rotationally Equivalent"
      ],
      "metadata": {
        "id": "eIIvgEk99-TC"
      }
    },
    {
      "cell_type": "markdown",
      "source": [
        "59.Python | Test if string is subset of another"
      ],
      "metadata": {
        "id": "W1PyaR38-Dg1"
      }
    },
    {
      "cell_type": "markdown",
      "source": [
        "60.Python Program to Generate Random binary string"
      ],
      "metadata": {
        "id": "c8zkAqFf-G3t"
      }
    },
    {
      "cell_type": "markdown",
      "source": [
        "61.Python Program to convert binary to string"
      ],
      "metadata": {
        "id": "yzaEi7y4-J3E"
      }
    },
    {
      "cell_type": "markdown",
      "source": [
        "62.Python - Reverse Sort a String"
      ],
      "metadata": {
        "id": "5GVTSOuq-MAg"
      }
    },
    {
      "cell_type": "markdown",
      "source": [
        "\n",
        "\n",
        "---\n",
        "\n",
        "\n",
        "\n",
        "---\n",
        "\n",
        "\n",
        "\n",
        "---\n",
        "\n"
      ],
      "metadata": {
        "id": "DfddJCyY8v2B"
      }
    },
    {
      "cell_type": "markdown",
      "source": [
        "> Programs on SubString"
      ],
      "metadata": {
        "id": "tj0urRG28xgt"
      }
    },
    {
      "cell_type": "markdown",
      "source": [
        "\n",
        "\n",
        "---\n",
        "\n",
        "\n",
        "\n",
        "---\n",
        "\n",
        "\n",
        "\n",
        "---\n",
        "\n"
      ],
      "metadata": {
        "id": "378vM3Lk-nzq"
      }
    },
    {
      "cell_type": "markdown",
      "source": [
        "63.Python | Check if a Substring is Present in a Given String"
      ],
      "metadata": {
        "id": "rnXy6b6i-pQI"
      }
    },
    {
      "cell_type": "markdown",
      "source": [
        "64.Python - Substring presence in Strings List"
      ],
      "metadata": {
        "id": "NY4QlHLr-ssX"
      }
    },
    {
      "cell_type": "markdown",
      "source": [
        "65.Python - All substrings Frequency in String"
      ],
      "metadata": {
        "id": "T1JrHbT6-uvh"
      }
    },
    {
      "cell_type": "markdown",
      "source": [
        "66.Python - Maximum Consecutive Substring Occurrence"
      ],
      "metadata": {
        "id": "VzLsojXz-wvu"
      }
    },
    {
      "cell_type": "markdown",
      "source": [
        "67.Python - Maximum occurring Substring from list"
      ],
      "metadata": {
        "id": "lI8mavzK-yt5"
      }
    },
    {
      "cell_type": "markdown",
      "source": [
        "68.Python - Possible Substring count from String"
      ],
      "metadata": {
        "id": "F_ejYg55-07r"
      }
    },
    {
      "cell_type": "markdown",
      "source": [
        "69.Python - Replace all occurrences of a substring in a string"
      ],
      "metadata": {
        "id": "spdn5vod-3Nv"
      }
    },
    {
      "cell_type": "markdown",
      "source": [
        "70.Python - Longest Substring Length of K"
      ],
      "metadata": {
        "id": "iFMMzK55-5M_"
      }
    },
    {
      "cell_type": "markdown",
      "source": [
        "71.Python - Extract Indices of substring matches"
      ],
      "metadata": {
        "id": "f_NfXbkZ-7xl"
      }
    },
    {
      "cell_type": "markdown",
      "source": [
        "72.Python | Split by repeating substring"
      ],
      "metadata": {
        "id": "Sis-hEE6-966"
      }
    },
    {
      "cell_type": "markdown",
      "source": [
        "73.Python | Remove substring list from String"
      ],
      "metadata": {
        "id": "ItVwiKBJ_AQ2"
      }
    },
    {
      "cell_type": "markdown",
      "source": [
        "74.Python - Remove after substring in String"
      ],
      "metadata": {
        "id": "HMGBZNix_CbC"
      }
    },
    {
      "cell_type": "markdown",
      "source": [
        "75.Python | Remove Reduntant Substrings from Strings List"
      ],
      "metadata": {
        "id": "diJKL_gH_E6O"
      }
    },
    {
      "cell_type": "markdown",
      "source": [
        "76.Python - Test substring order"
      ],
      "metadata": {
        "id": "cf1W_6gz_G8L"
      }
    },
    {
      "cell_type": "markdown",
      "source": [
        " 77.Python - String till Substring"
      ],
      "metadata": {
        "id": "IfBSvNHu_J5W"
      }
    },
    {
      "cell_type": "markdown",
      "source": [
        " 78.Python - Filter Strings combination of K substrings"
      ],
      "metadata": {
        "id": "m58jcaOd_Mk6"
      }
    },
    {
      "cell_type": "markdown",
      "source": [
        "\n",
        "\n",
        "---\n",
        "\n",
        "\n",
        "\n",
        "---\n",
        "\n",
        "\n",
        "\n",
        "---\n",
        "\n"
      ],
      "metadata": {
        "id": "AZKD-MrC_pqp"
      }
    },
    {
      "cell_type": "markdown",
      "source": [
        "."
      ],
      "metadata": {
        "id": "Y93potfc_1_u"
      }
    },
    {
      "cell_type": "markdown",
      "source": [
        "                                                                         \n",
        "                                                                          \n",
        "                                                                           \n",
        "                                                                            \n",
        "                                                                             \n",
        "                                                                              \n",
        "                                                                               \n",
        "                                                                                \n",
        "                                                                                 \n",
        "                                                                                  \n",
        "                                                                                   \n",
        "                                                                                    \n",
        "                                                                                     \n",
        "                                                                                      \n",
        "                                                                                       \n",
        "                                                                                        \n",
        "                                                                                         \n",
        "                                                                                          \n",
        "                                                                                           \n",
        "                                                                                            \n",
        "                                                                                             \n",
        "                                                                                              \n",
        "                                                                                               \n",
        "                                                                                                \n",
        "                                                                       List Exercise\n",
        "\n"
      ],
      "metadata": {
        "id": "VcFQnLaV_qEj"
      }
    },
    {
      "cell_type": "markdown",
      "source": [
        "."
      ],
      "metadata": {
        "id": "LxgJZ10o_zBI"
      }
    },
    {
      "cell_type": "markdown",
      "source": [
        "\n",
        "\n",
        "---\n",
        "\n",
        "\n",
        "\n",
        "---\n",
        "\n",
        "\n",
        "\n",
        "---\n",
        "\n"
      ],
      "metadata": {
        "id": "yNI4ymrY_367"
      }
    },
    {
      "cell_type": "markdown",
      "source": [
        "Basic List Programs"
      ],
      "metadata": {
        "id": "waWLTexM_4-4"
      }
    },
    {
      "cell_type": "markdown",
      "source": [
        "\n",
        "\n",
        "---\n",
        "\n",
        "\n",
        "\n",
        "---\n",
        "\n",
        "\n",
        "\n",
        "---\n",
        "\n"
      ],
      "metadata": {
        "id": "CAlxZ18IC5zY"
      }
    },
    {
      "cell_type": "markdown",
      "source": [
        "1.Python program to interchange first and last elements in a list"
      ],
      "metadata": {
        "id": "DrqiKYPwAe-G"
      }
    },
    {
      "cell_type": "markdown",
      "source": [
        "2.Python program to swap two elements in a list"
      ],
      "metadata": {
        "id": "i743DWn4AhqU"
      }
    },
    {
      "cell_type": "markdown",
      "source": [
        "3.Python - Swap elements in String list"
      ],
      "metadata": {
        "id": "NKgxmUl_AjwW"
      }
    },
    {
      "cell_type": "markdown",
      "source": [
        "4.Python | Ways to find length of list"
      ],
      "metadata": {
        "id": "bsTXVEWdAlyV"
      }
    },
    {
      "cell_type": "markdown",
      "source": [
        "5.Maximum of two numbers in Python"
      ],
      "metadata": {
        "id": "tNEObQcYAnxW"
      }
    },
    {
      "cell_type": "markdown",
      "source": [
        "6.Minimum of two numbers in Python"
      ],
      "metadata": {
        "id": "9GUWGFmHAp2L"
      }
    },
    {
      "cell_type": "markdown",
      "source": [
        "7.Python | Ways to check if element exists in list"
      ],
      "metadata": {
        "id": "56Pp3jdwAr22"
      }
    },
    {
      "cell_type": "markdown",
      "source": [
        "8.Different ways to clear a list in Python"
      ],
      "metadata": {
        "id": "LgLfzwySAtw1"
      }
    },
    {
      "cell_type": "markdown",
      "source": [
        " 9.Python | Reversing a List"
      ],
      "metadata": {
        "id": "TGplyV31Avu0"
      }
    },
    {
      "cell_type": "markdown",
      "source": [
        "10.Python | Cloning or Copying a list"
      ],
      "metadata": {
        "id": "AisDgD1CAyEo"
      }
    },
    {
      "cell_type": "markdown",
      "source": [
        "11.Python | Count occurrences of an element in a list"
      ],
      "metadata": {
        "id": "_lOiVAjyA0Kq"
      }
    },
    {
      "cell_type": "markdown",
      "source": [
        "12.Python Program to find sum and average of List in Python"
      ],
      "metadata": {
        "id": "94beMr3BA2c0"
      }
    },
    {
      "cell_type": "markdown",
      "source": [
        "13.Python | Sum of number digits in List"
      ],
      "metadata": {
        "id": "UOwl77OTA4rg"
      }
    },
    {
      "cell_type": "markdown",
      "source": [
        " 14.Python | Multiply all numbers in the list"
      ],
      "metadata": {
        "id": "F5p3_rTvA6tf"
      }
    },
    {
      "cell_type": "markdown",
      "source": [
        " 15.Python program to find smallest number in a list"
      ],
      "metadata": {
        "id": "MkjrGuNsA8rM"
      }
    },
    {
      "cell_type": "markdown",
      "source": [
        " 16.Python program to find largest number in a list"
      ],
      "metadata": {
        "id": "g_whJXxOBAT9"
      }
    },
    {
      "cell_type": "markdown",
      "source": [
        "17.Python program to find second largest number in a list"
      ],
      "metadata": {
        "id": "2p4lTgzNBDGN"
      }
    },
    {
      "cell_type": "markdown",
      "source": [
        " 18.Python program to print even numbers in a list"
      ],
      "metadata": {
        "id": "y1Oe3id8BGAp"
      }
    },
    {
      "cell_type": "markdown",
      "source": [
        "19.Python program to print odd numbers in a List"
      ],
      "metadata": {
        "id": "jI8NwpgtBIWv"
      }
    },
    {
      "cell_type": "markdown",
      "source": [
        " 20.Python program to print all even numbers in a range"
      ],
      "metadata": {
        "id": "wba08iAJBKdz"
      }
    },
    {
      "cell_type": "markdown",
      "source": [
        "21.Python program to print all odd numbers in a range"
      ],
      "metadata": {
        "id": "4DUxzwyYBMYg"
      }
    },
    {
      "cell_type": "markdown",
      "source": [
        "22.Python program to count Even and Odd numbers in a List"
      ],
      "metadata": {
        "id": "Vofk5KzCBOkV"
      }
    },
    {
      "cell_type": "markdown",
      "source": [
        "23.Python program to print positive numbers in a list"
      ],
      "metadata": {
        "id": "kmXgBoibBQyi"
      }
    },
    {
      "cell_type": "markdown",
      "source": [
        "24.Python program to print negative numbers in a list"
      ],
      "metadata": {
        "id": "QqTgM4ZGBSzw"
      }
    },
    {
      "cell_type": "markdown",
      "source": [
        " 25.Python program to print all positive numbers in a range"
      ],
      "metadata": {
        "id": "-T_Ba7cuBU8n"
      }
    },
    {
      "cell_type": "markdown",
      "source": [
        " 26.Python program to print all negative numbers in a range"
      ],
      "metadata": {
        "id": "dp6cR40OBXUX"
      }
    },
    {
      "cell_type": "markdown",
      "source": [
        " 27.Python program to count positive and negative numbers in a list"
      ],
      "metadata": {
        "id": "dOGcJBf1BZjs"
      }
    },
    {
      "cell_type": "markdown",
      "source": [
        "28.Remove multiple elements from a list in Python"
      ],
      "metadata": {
        "id": "1wrxKX6TBbrW"
      }
    },
    {
      "cell_type": "markdown",
      "source": [
        " 29.Python | Remove empty tuples from a list"
      ],
      "metadata": {
        "id": "fR24d6d6Bd4z"
      }
    },
    {
      "cell_type": "markdown",
      "source": [
        " 30.Python | Program to print duplicates from a list of integer"
      ],
      "metadata": {
        "id": "59oQKzH7Bf7f"
      }
    },
    {
      "cell_type": "markdown",
      "source": [
        "\n",
        "\n",
        "---\n",
        "\n",
        "\n",
        "\n",
        "---\n",
        "\n",
        "\n",
        "\n",
        "---\n",
        "\n"
      ],
      "metadata": {
        "id": "P2Ahh9ptBidI"
      }
    },
    {
      "cell_type": "markdown",
      "source": [
        "> Programs on List of Lists"
      ],
      "metadata": {
        "id": "K3NrReNgBmoC"
      }
    },
    {
      "cell_type": "markdown",
      "source": [
        "\n",
        "\n",
        "---\n",
        "\n",
        "\n",
        "\n",
        "---\n",
        "\n",
        "\n",
        "\n",
        "---\n",
        "\n"
      ],
      "metadata": {
        "id": "rw0OMyv1BnuU"
      }
    },
    {
      "cell_type": "markdown",
      "source": [
        "31.Remove empty List from List"
      ],
      "metadata": {
        "id": "7FW9vx28Bosd"
      }
    },
    {
      "cell_type": "markdown",
      "source": [
        " 32.Python - Convert List to List of dictionaries"
      ],
      "metadata": {
        "id": "VQzTleLmBxes"
      }
    },
    {
      "cell_type": "markdown",
      "source": [
        "33.Python - Convert Lists of List to Dictionary"
      ],
      "metadata": {
        "id": "DLwhF1JXBzyP"
      }
    },
    {
      "cell_type": "markdown",
      "source": [
        "34.Python | Uncommon elements in Lists of List"
      ],
      "metadata": {
        "id": "0FtFCa-pB8kk"
      }
    },
    {
      "cell_type": "markdown",
      "source": [
        "35.Python program to select Random value from list of lists"
      ],
      "metadata": {
        "id": "-k55aFXjB--Y"
      }
    },
    {
      "cell_type": "markdown",
      "source": [
        "36.Python - Reverse Row sort in Lists of List"
      ],
      "metadata": {
        "id": "Zo6ZHVYKCA83"
      }
    },
    {
      "cell_type": "markdown",
      "source": [
        "37.Python - Pair elements with Rear element in Matrix Row"
      ],
      "metadata": {
        "id": "FRUN8tRoCCy1"
      }
    },
    {
      "cell_type": "markdown",
      "source": [
        "\n",
        "\n",
        "---\n",
        "\n",
        "\n",
        "\n",
        "---\n",
        "\n",
        "\n",
        "\n",
        "---\n",
        "\n"
      ],
      "metadata": {
        "id": "bs-qJ-ETCFNy"
      }
    },
    {
      "cell_type": "markdown",
      "source": [
        "> Advance List Programs"
      ],
      "metadata": {
        "id": "eBEZ08LTCHjk"
      }
    },
    {
      "cell_type": "markdown",
      "source": [
        "\n",
        "\n",
        "---\n",
        "\n",
        "\n",
        "\n",
        "---\n",
        "\n",
        "\n",
        "\n",
        "---\n",
        "\n"
      ],
      "metadata": {
        "id": "vb90rNuhCLE3"
      }
    },
    {
      "cell_type": "markdown",
      "source": [
        "38.Python Program to count unique values inside a list"
      ],
      "metadata": {
        "id": "83IICAG9CMi3"
      }
    },
    {
      "cell_type": "markdown",
      "source": [
        "39.Python - List product excluding duplicates"
      ],
      "metadata": {
        "id": "Y4srYDZ9CPYm"
      }
    },
    {
      "cell_type": "markdown",
      "source": [
        " 40.Python - Extract elements with Frequency greater than K"
      ],
      "metadata": {
        "id": "jcSIRU6qCRdP"
      }
    },
    {
      "cell_type": "markdown",
      "source": [
        "41.Python - Test if List contains elements in Range"
      ],
      "metadata": {
        "id": "zjDaW3uJCTU7"
      }
    },
    {
      "cell_type": "markdown",
      "source": [
        " 42.Python program to check if the list contains three consecutive common numbers in Python"
      ],
      "metadata": {
        "id": "UB16o31KCVbz"
      }
    },
    {
      "cell_type": "markdown",
      "source": [
        " 43.Python program to find the Strongest Neighbour"
      ],
      "metadata": {
        "id": "j_siXRcYCXv3"
      }
    },
    {
      "cell_type": "markdown",
      "source": [
        "44.Python Program to print all Possible Combinations from the three Digits"
      ],
      "metadata": {
        "id": "CkoKy9DVCZ4G"
      }
    },
    {
      "cell_type": "markdown",
      "source": [
        " 45.Python program to find all the Combinations in the list with the given condition"
      ],
      "metadata": {
        "id": "K-gzFjaDCcsD"
      }
    },
    {
      "cell_type": "markdown",
      "source": [
        "46.Python program to get all unique combinations of two Lists"
      ],
      "metadata": {
        "id": "0eF58XL2CfC1"
      }
    },
    {
      "cell_type": "markdown",
      "source": [
        " 47.Python program to remove all the occurrences of an element from a list"
      ],
      "metadata": {
        "id": "kpdite3MChYm"
      }
    },
    {
      "cell_type": "markdown",
      "source": [
        "48.Python - Remove Consecutive K element records"
      ],
      "metadata": {
        "id": "8i2gVuIGCjed"
      }
    },
    {
      "cell_type": "markdown",
      "source": [
        " 49.Python - Replace index elements with elements in Other List"
      ],
      "metadata": {
        "id": "zXlHoG5zCleO"
      }
    },
    {
      "cell_type": "markdown",
      "source": [
        " 50.Python Program to Retain records with N occurrences of K"
      ],
      "metadata": {
        "id": "YhmczcSaCnsg"
      }
    },
    {
      "cell_type": "markdown",
      "source": [
        " 51.Python Program to Sort the list according to the"
      ],
      "metadata": {
        "id": "lsRFY_M7CpvC"
      }
    },
    {
      "cell_type": "markdown",
      "source": [
        "\n",
        "\n",
        "---\n",
        "\n",
        "\n",
        "\n",
        "---\n",
        "\n",
        "\n",
        "\n",
        "---\n",
        "\n"
      ],
      "metadata": {
        "id": "acCFLVSICv_f"
      }
    },
    {
      "cell_type": "markdown",
      "source": [
        "> Programs on List of Strings"
      ],
      "metadata": {
        "id": "IBHafG47CsHk"
      }
    },
    {
      "cell_type": "markdown",
      "source": [
        "\n",
        "\n",
        "---\n",
        "\n",
        "\n",
        "\n",
        "---\n",
        "\n",
        "\n",
        "\n",
        "---\n",
        "\n"
      ],
      "metadata": {
        "id": "mt-DF1N3CxT2"
      }
    },
    {
      "cell_type": "markdown",
      "source": [
        "52.Python - Swap elements in String list"
      ],
      "metadata": {
        "id": "zEie5kU7CyYd"
      }
    },
    {
      "cell_type": "markdown",
      "source": [
        "53.Python program to reverse All Strings in String List"
      ],
      "metadata": {
        "id": "KVJG0stpDAxs"
      }
    },
    {
      "cell_type": "markdown",
      "source": [
        " 54.Python program to find the character position of Kth word from a list of strings"
      ],
      "metadata": {
        "id": "BvS9c1eaDCis"
      }
    },
    {
      "cell_type": "markdown",
      "source": [
        "55.Python - Extract words starting with K in String List"
      ],
      "metadata": {
        "id": "fcMqtMtNDEjO"
      }
    },
    {
      "cell_type": "markdown",
      "source": [
        "56.Python - Prefix frequency in string List"
      ],
      "metadata": {
        "id": "PS4RLu2jDG0M"
      }
    },
    {
      "cell_type": "markdown",
      "source": [
        " 57.Python - Split String of list on K character"
      ],
      "metadata": {
        "id": "8HfC3i4uDI7_"
      }
    },
    {
      "cell_type": "markdown",
      "source": [
        " 58.Python - Split Strings on Prefix Occurrence"
      ],
      "metadata": {
        "id": "sqon_cEcDLd4"
      }
    },
    {
      "cell_type": "markdown",
      "source": [
        "59.Python program to Replace all Characters of a List Except the given character"
      ],
      "metadata": {
        "id": "OZN6kwa6DNwi"
      }
    },
    {
      "cell_type": "markdown",
      "source": [
        "60.Python - Remove words containing list characters"
      ],
      "metadata": {
        "id": "aoQFHLWJDP6m"
      }
    },
    {
      "cell_type": "markdown",
      "source": [
        "61.Python - Ways to remove multiple empty spaces from string List"
      ],
      "metadata": {
        "id": "Hixhh1SgDSGi"
      }
    },
    {
      "cell_type": "markdown",
      "source": [
        " 62.Python - Add Space between Potential Words"
      ],
      "metadata": {
        "id": "GPn1dck9DUEj"
      }
    },
    {
      "cell_type": "markdown",
      "source": [
        "63.Python - Filter the List of String whose index in second List contains the given Substring"
      ],
      "metadata": {
        "id": "4ONA_4FxDWGc"
      }
    },
    {
      "cell_type": "markdown",
      "source": [
        " 64.Python | Convert Character Matrix to single String"
      ],
      "metadata": {
        "id": "5CpAg93rDY2t"
      }
    },
    {
      "cell_type": "markdown",
      "source": [
        " 65.Python - Count Strings with substring String List"
      ],
      "metadata": {
        "id": "uPv3RoAYDbQN"
      }
    },
    {
      "cell_type": "markdown",
      "source": [
        " 66.Python - Replace Substrings from String List"
      ],
      "metadata": {
        "id": "M8J9wGxGDdah"
      }
    },
    {
      "cell_type": "markdown",
      "source": [
        " 67.Python - Group Sublists by another List"
      ],
      "metadata": {
        "id": "KszJ47y9DfkK"
      }
    },
    {
      "cell_type": "markdown",
      "source": [
        " 68.Python | Remove Reduntant Substrings from Strings List"
      ],
      "metadata": {
        "id": "6ywevXq4Dhes"
      }
    },
    {
      "cell_type": "markdown",
      "source": [
        " 69.Python - Sort String by Custom Integer Substrings"
      ],
      "metadata": {
        "id": "2n_pxUTPDjwC"
      }
    },
    {
      "cell_type": "markdown",
      "source": [
        " 70.Python - Test if Substring occurs in specific position"
      ],
      "metadata": {
        "id": "3tZu7HCUDmWM"
      }
    },
    {
      "cell_type": "markdown",
      "source": [
        "\n",
        "\n",
        "---\n",
        "\n",
        "\n",
        "\n",
        "---\n",
        "\n",
        "\n",
        "\n",
        "---\n",
        "\n"
      ],
      "metadata": {
        "id": "rppWwQQ0Do1Y"
      }
    },
    {
      "cell_type": "markdown",
      "source": [
        "."
      ],
      "metadata": {
        "id": "8HgAjvfjD692"
      }
    },
    {
      "cell_type": "markdown",
      "source": [
        "                                                                         \n",
        "                                                                          \n",
        "                                                                           \n",
        "                                                                            \n",
        "                                                                             \n",
        "                                                                              \n",
        "                                                                               \n",
        "                                                                                \n",
        "                                                                                 \n",
        "                                                                                  \n",
        "                                                                                   \n",
        "                                                                                    \n",
        "                                                                                     \n",
        "                                                                                      \n",
        "                                                                                       \n",
        "                                                                                        \n",
        "                                                                                         \n",
        "                                                                                          \n",
        "                                                                                           \n",
        "                                                                                            \n",
        "                                                                                             \n",
        "                                                                                              \n",
        "                                                                                               \n",
        "                                                                                                \n",
        "                                                                       Set Exercise\n",
        "\n"
      ],
      "metadata": {
        "id": "BrXfZFuVD4ai"
      }
    },
    {
      "cell_type": "markdown",
      "source": [
        "."
      ],
      "metadata": {
        "id": "AekGo1XtEA66"
      }
    },
    {
      "cell_type": "markdown",
      "source": [
        "\n",
        "\n",
        "---\n",
        "\n",
        "\n",
        "\n",
        "---\n",
        "\n",
        "\n",
        "\n",
        "---\n",
        "\n",
        "\n"
      ],
      "metadata": {
        "id": "Sd_fRjz8EBkk"
      }
    },
    {
      "cell_type": "markdown",
      "source": [
        ">Basic Set Programs"
      ],
      "metadata": {
        "id": "nuXl1qp5EDwt"
      }
    },
    {
      "cell_type": "markdown",
      "source": [
        "\n",
        "\n",
        "---\n",
        "\n",
        "\n",
        "\n",
        "---\n",
        "\n",
        "\n",
        "\n",
        "---\n",
        "\n"
      ],
      "metadata": {
        "id": "olheALUBEaV1"
      }
    },
    {
      "cell_type": "markdown",
      "source": [
        "1.Find the size of a Set in Python"
      ],
      "metadata": {
        "id": "RzMQ92OBEbmI"
      }
    },
    {
      "cell_type": "markdown",
      "source": [
        " 2.Iterate over a set in Python"
      ],
      "metadata": {
        "id": "m2dowU0THah5"
      }
    },
    {
      "cell_type": "markdown",
      "source": [
        "3.Python - Maximum and Minimum in a Set"
      ],
      "metadata": {
        "id": "xshxgWjUHciT"
      }
    },
    {
      "cell_type": "markdown",
      "source": [
        " 4.Python - Remove items from Set"
      ],
      "metadata": {
        "id": "-oh-LYVFHegW"
      }
    },
    {
      "cell_type": "markdown",
      "source": [
        " 5.Python - Check if two lists have at-least one element common"
      ],
      "metadata": {
        "id": "JAYDE22uHhSv"
      }
    },
    {
      "cell_type": "markdown",
      "source": [
        " 6.Python program to find common elements in three lists using sets"
      ],
      "metadata": {
        "id": "TxhYn8ZeHjNV"
      }
    },
    {
      "cell_type": "markdown",
      "source": [
        " 7.Python - Find missing and additional values in two lists"
      ],
      "metadata": {
        "id": "c7sd5hU0Hloz"
      }
    },
    {
      "cell_type": "markdown",
      "source": [
        "8.Python program to find the difference between two lists"
      ],
      "metadata": {
        "id": "BhvK_2qrHqFO"
      }
    },
    {
      "cell_type": "markdown",
      "source": [
        " 9.Python Set difference to find lost element from a duplicated array"
      ],
      "metadata": {
        "id": "x1hQAnKvHscJ"
      }
    },
    {
      "cell_type": "markdown",
      "source": [
        "10.Python program to count number of vowels using sets in given string"
      ],
      "metadata": {
        "id": "SbQV65WcHuoO"
      }
    },
    {
      "cell_type": "markdown",
      "source": [
        " 11.Concatenated string with uncommon characters in Python"
      ],
      "metadata": {
        "id": "Tk-6BHa2HxJk"
      }
    },
    {
      "cell_type": "markdown",
      "source": [
        " 12.Python - Program to accept the strings which contains all vowels"
      ],
      "metadata": {
        "id": "-WC0sZuAHzZq"
      }
    },
    {
      "cell_type": "markdown",
      "source": [
        " 13.Python - Check if a given string is binary string or not"
      ],
      "metadata": {
        "id": "Z9o1REqkH1w8"
      }
    },
    {
      "cell_type": "markdown",
      "source": [
        " 14.Python set to check if string is panagram"
      ],
      "metadata": {
        "id": "JRPb1aI9H4U7"
      }
    },
    {
      "cell_type": "markdown",
      "source": [
        " 15.Python Set - Pairs of complete strings in two sets"
      ],
      "metadata": {
        "id": "ZFtqu_EpH6ub"
      }
    },
    {
      "cell_type": "markdown",
      "source": [
        " 16.Python program to check whether a given string is Heterogram or not"
      ],
      "metadata": {
        "id": "8W6tQl0CH8ui"
      }
    },
    {
      "cell_type": "markdown",
      "source": [
        "\n",
        "\n",
        "---\n",
        "\n",
        "---\n",
        "\n",
        "\n",
        "\n",
        "\n",
        "\n",
        "---\n",
        "\n"
      ],
      "metadata": {
        "id": "CenLJ6IwH_T6"
      }
    },
    {
      "cell_type": "markdown",
      "source": [
        "> Conversion of Set Programs"
      ],
      "metadata": {
        "id": "Uv5Q-JWaIEyF"
      }
    },
    {
      "cell_type": "markdown",
      "source": [
        "\n",
        "\n",
        "---\n",
        "\n",
        "\n",
        "\n",
        "---\n",
        "\n",
        "\n",
        "\n",
        "---\n",
        "\n",
        "\n",
        "\n"
      ],
      "metadata": {
        "id": "n_ZFlIOcIKYF"
      }
    },
    {
      "cell_type": "markdown",
      "source": [
        "17.Python program to convert Set into Tuple and Tuple into Set"
      ],
      "metadata": {
        "id": "2Au-NVRDIOGY"
      }
    },
    {
      "cell_type": "markdown",
      "source": [
        "18.Python program to convert set into a list"
      ],
      "metadata": {
        "id": "dkQ0QnzRITRc"
      }
    },
    {
      "cell_type": "markdown",
      "source": [
        " 19.Python program to convert Set to String"
      ],
      "metadata": {
        "id": "0p0rooD7IVR2"
      }
    },
    {
      "cell_type": "markdown",
      "source": [
        "20.Python program to convert String to Set"
      ],
      "metadata": {
        "id": "bUGh9DxeIXVx"
      }
    },
    {
      "cell_type": "markdown",
      "source": [
        " 21.Python - Convert a set into dictionary"
      ],
      "metadata": {
        "id": "S9SJqt4AIZbB"
      }
    },
    {
      "cell_type": "markdown",
      "source": [
        "\n",
        "\n",
        "---\n",
        "\n",
        "\n",
        "\n",
        "---\n",
        "\n",
        "\n",
        "\n",
        "---\n",
        "\n"
      ],
      "metadata": {
        "id": "rAMKGiTDIbuc"
      }
    },
    {
      "cell_type": "markdown",
      "source": [
        "> Advance Set Programs"
      ],
      "metadata": {
        "id": "Ib-huyfnIe3Y"
      }
    },
    {
      "cell_type": "markdown",
      "source": [
        "\n",
        "\n",
        "---\n",
        "\n",
        "\n",
        "\n",
        "---\n",
        "\n",
        "\n",
        "\n",
        "---\n",
        "\n"
      ],
      "metadata": {
        "id": "VPPq_I-qIg-x"
      }
    },
    {
      "cell_type": "markdown",
      "source": [
        "22.Python program to find union of n arrays"
      ],
      "metadata": {
        "id": "q-cInyyhIiXY"
      }
    },
    {
      "cell_type": "markdown",
      "source": [
        "23.Python - Intersection of two lists"
      ],
      "metadata": {
        "id": "1IjdpxGNIlKQ"
      }
    },
    {
      "cell_type": "markdown",
      "source": [
        "24.Python program to get all subsets of given size of a set"
      ],
      "metadata": {
        "id": "qlVrtZ1MIni8"
      }
    },
    {
      "cell_type": "markdown",
      "source": [
        " 25.Python - Minimum number of subsets with distinct elements using Counter"
      ],
      "metadata": {
        "id": "Yc1H3W_VIp3v"
      }
    },
    {
      "cell_type": "markdown",
      "source": [
        " 26.Python dictionary, set and counter to check if frequencies can become same"
      ],
      "metadata": {
        "id": "I7_XdyRBIs6K"
      }
    },
    {
      "cell_type": "markdown",
      "source": [
        "\n",
        "\n",
        "---\n",
        "\n",
        "\n",
        "\n",
        "---\n",
        "\n",
        "\n",
        "\n",
        "---\n",
        "\n",
        "\n",
        "\n",
        "\n"
      ],
      "metadata": {
        "id": "paLNhLnxIvSj"
      }
    },
    {
      "cell_type": "markdown",
      "source": [
        "."
      ],
      "metadata": {
        "id": "CbapeAZ7JBiX"
      }
    },
    {
      "cell_type": "markdown",
      "source": [
        "                                                                         \n",
        "                                                                          \n",
        "                                                                           \n",
        "                                                                            \n",
        "                                                                             \n",
        "                                                                              \n",
        "                                                                               \n",
        "                                                                                \n",
        "                                                                                 \n",
        "                                                                                  \n",
        "                                                                                   \n",
        "                                                                                    \n",
        "                                                                                     \n",
        "                                                                                      \n",
        "                                                                                       \n",
        "                                                                                        \n",
        "                                                                                         \n",
        "                                                                                          \n",
        "                                                                                           \n",
        "                                                                                            \n",
        "                                                                                             \n",
        "                                                                                              \n",
        "                                                                                               \n",
        "                                                                                                \n",
        "                                                                       Tuple Exercise\n",
        "\n"
      ],
      "metadata": {
        "id": "wcKdKOsDJCq3"
      }
    },
    {
      "cell_type": "markdown",
      "source": [
        "."
      ],
      "metadata": {
        "id": "vcUCfnCgJEvU"
      }
    },
    {
      "cell_type": "markdown",
      "source": [
        "\n",
        "\n",
        "---\n",
        "\n",
        "\n",
        "\n",
        "---\n",
        "\n",
        "\n",
        "\n",
        "---\n",
        "\n"
      ],
      "metadata": {
        "id": "D0fTPw4mJFZw"
      }
    },
    {
      "cell_type": "markdown",
      "source": [
        "> Basic Tuple Programs"
      ],
      "metadata": {
        "id": "ZIOq8F3OJG8w"
      }
    },
    {
      "cell_type": "markdown",
      "source": [
        "\n",
        "\n",
        "---\n",
        "\n",
        "\n",
        "\n",
        "---\n",
        "\n",
        "\n",
        "\n",
        "---\n",
        "\n"
      ],
      "metadata": {
        "id": "gtJv0IDULMo9"
      }
    },
    {
      "cell_type": "markdown",
      "source": [
        "1.Create a Empty Tuple"
      ],
      "metadata": {
        "id": "ORow8FTTLNwL"
      }
    },
    {
      "cell_type": "markdown",
      "source": [
        "2.Python program to Find the size of a Tuple"
      ],
      "metadata": {
        "id": "8MkL7SbzLaub"
      }
    },
    {
      "cell_type": "markdown",
      "source": [
        "3.Python - Maximum and Minimum K elements in Tuple"
      ],
      "metadata": {
        "id": "NqOvUcz7LdXq"
      }
    },
    {
      "cell_type": "markdown",
      "source": [
        " 4.Create a list of tuples from given list having number and its cube in each tuple"
      ],
      "metadata": {
        "id": "xkm83TwHLfia"
      }
    },
    {
      "cell_type": "markdown",
      "source": [
        "5.Python - Adding Tuple to List and vice - versa"
      ],
      "metadata": {
        "id": "w0JTlEJZLhqx"
      }
    },
    {
      "cell_type": "markdown",
      "source": [
        "6.Python - Sum of tuple elements"
      ],
      "metadata": {
        "id": "vnnr7soiLjwA"
      }
    },
    {
      "cell_type": "markdown",
      "source": [
        " 7.Python - Modulo of tuple elements"
      ],
      "metadata": {
        "id": "Sqoo8ANCM7or"
      }
    },
    {
      "cell_type": "markdown",
      "source": [
        " 8.Python - Row-wise element Addition in Tuple Matrix"
      ],
      "metadata": {
        "id": "DCXzT-TcM9ix"
      }
    },
    {
      "cell_type": "markdown",
      "source": [
        "9.Python - Update each element in tuple list"
      ],
      "metadata": {
        "id": "ZeHArIwwM_bN"
      }
    },
    {
      "cell_type": "markdown",
      "source": [
        " 10.Python - Multiply Adjacent elements"
      ],
      "metadata": {
        "id": "F0vXy79kNBeI"
      }
    },
    {
      "cell_type": "markdown",
      "source": [
        " 11.Python - Join Tuples if similar initial element"
      ],
      "metadata": {
        "id": "95Hd01enNDc9"
      }
    },
    {
      "cell_type": "markdown",
      "source": [
        "12.Python - All pair combinations of 2 tuples"
      ],
      "metadata": {
        "id": "YFf2ziw2NFnX"
      }
    },
    {
      "cell_type": "markdown",
      "source": [
        " 13.Python - Remove Tuples of Length K"
      ],
      "metadata": {
        "id": "FCDY468aNHq7"
      }
    },
    {
      "cell_type": "markdown",
      "source": [
        "14.Python - Remove Tuples from the List having every element as None"
      ],
      "metadata": {
        "id": "mQnCER-zNJ1U"
      }
    },
    {
      "cell_type": "markdown",
      "source": [
        "15.Sort a list of tuples by second Item"
      ],
      "metadata": {
        "id": "-VkKIqJLNkRr"
      }
    },
    {
      "cell_type": "markdown",
      "source": [
        "16.Python - Sort Tuples by Total digits"
      ],
      "metadata": {
        "id": "NbKrxf7GNmbF"
      }
    },
    {
      "cell_type": "markdown",
      "source": [
        "17.Python - Elements frequency in Tuple"
      ],
      "metadata": {
        "id": "EBeC6Hn6Nqlw"
      }
    },
    {
      "cell_type": "markdown",
      "source": [
        "18.Python - Filter Range Length Tuples"
      ],
      "metadata": {
        "id": "E4d7MB3YNrKe"
      }
    },
    {
      "cell_type": "markdown",
      "source": [
        "19.Python - Assign Frequency to Tuples"
      ],
      "metadata": {
        "id": "oxwZdHg7Ntu_"
      }
    },
    {
      "cell_type": "markdown",
      "source": [
        "20.Python - Records with Value at K index"
      ],
      "metadata": {
        "id": "6JnoqYnGNySR"
      }
    },
    {
      "cell_type": "markdown",
      "source": [
        "21.Python - Test if tuple is distinct"
      ],
      "metadata": {
        "id": "3tYpRsD-Ny8D"
      }
    },
    {
      "cell_type": "markdown",
      "source": [
        "\n",
        "\n",
        "---\n",
        "\n",
        "\n",
        "\n",
        "---\n",
        "\n",
        "\n",
        "\n",
        "---\n",
        "\n"
      ],
      "metadata": {
        "id": "GF4WanI6N1HP"
      }
    },
    {
      "cell_type": "markdown",
      "source": [
        "> List of Tuples Programs"
      ],
      "metadata": {
        "id": "mNvepL2eN4bZ"
      }
    },
    {
      "cell_type": "markdown",
      "source": [
        "\n",
        "\n",
        "---\n",
        "\n",
        "\n",
        "\n",
        "---\n",
        "\n",
        "\n",
        "\n",
        "---\n",
        "\n"
      ],
      "metadata": {
        "id": "G8RqGmxZN5wQ"
      }
    },
    {
      "cell_type": "markdown",
      "source": [
        "22.Python program to find tuples which have all elements divisible by K from a list of tuples"
      ],
      "metadata": {
        "id": "RWG4HrXWN7Ml"
      }
    },
    {
      "cell_type": "markdown",
      "source": [
        "23.Python program to find Tuples with positive elements in List of tuples"
      ],
      "metadata": {
        "id": "bwOZBKW1OAYy"
      }
    },
    {
      "cell_type": "markdown",
      "source": [
        "24.Python - Count tuples occurrence in list of tuples"
      ],
      "metadata": {
        "id": "bvi1GM7oOCs7"
      }
    },
    {
      "cell_type": "markdown",
      "source": [
        "25.Python - Removing duplicates from tuple"
      ],
      "metadata": {
        "id": "-bLlEpAnOE_D"
      }
    },
    {
      "cell_type": "markdown",
      "source": [
        "26.Python - Remove duplicate lists in tuples (Preserving Order)"
      ],
      "metadata": {
        "id": "29ADyU1ZOHwG"
      }
    },
    {
      "cell_type": "markdown",
      "source": [
        "27.Python - Extract digits from Tuple list"
      ],
      "metadata": {
        "id": "yi61J6EjOUgM"
      }
    },
    {
      "cell_type": "markdown",
      "source": [
        "28.Python - Cross Pairing in Tuple List"
      ],
      "metadata": {
        "id": "Ix2NDBXFOZ_V"
      }
    },
    {
      "cell_type": "markdown",
      "source": [
        "29.Python - Consecutive Kth column Difference in Tuple List"
      ],
      "metadata": {
        "id": "HJK7kh9POcLk"
      }
    },
    {
      "cell_type": "markdown",
      "source": [
        "30.Python - Kth Column Product in Tuple List"
      ],
      "metadata": {
        "id": "fEF-JvKwOegr"
      }
    },
    {
      "cell_type": "markdown",
      "source": [
        "31.Python - Flatten tuple of List to tuple"
      ],
      "metadata": {
        "id": "SkM5NFu4Ogtr"
      }
    },
    {
      "cell_type": "markdown",
      "source": [
        "32.Python - Flatten Tuples List to String"
      ],
      "metadata": {
        "id": "5PDy6N3KOjJk"
      }
    },
    {
      "cell_type": "markdown",
      "source": [
        "33.Python program to sort a list of tuples alphabetically"
      ],
      "metadata": {
        "id": "QLI3SbWCOlcO"
      }
    },
    {
      "cell_type": "markdown",
      "source": [
        "34.Python - Combinations of sum with tuples in tuple list"
      ],
      "metadata": {
        "id": "i7XFZGc0OoAB"
      }
    },
    {
      "cell_type": "markdown",
      "source": [
        "35.Python - Custom sorting in list of tuples"
      ],
      "metadata": {
        "id": "YLc8jBeqOqRV"
      }
    },
    {
      "cell_type": "markdown",
      "source": [
        "\n",
        "\n",
        "---\n",
        "\n",
        "\n",
        "\n",
        "---\n",
        "\n",
        "\n",
        "\n",
        "---\n",
        "\n"
      ],
      "metadata": {
        "id": "JVRGN5toOxKQ"
      }
    },
    {
      "cell_type": "markdown",
      "source": [
        "> Conversion of Tuple Program"
      ],
      "metadata": {
        "id": "-1YjsZz0Oye0"
      }
    },
    {
      "cell_type": "markdown",
      "source": [
        "\n",
        "\n",
        "---\n",
        "\n",
        "\n",
        "\n",
        "---\n",
        "\n",
        "\n",
        "\n",
        "---\n",
        "\n"
      ],
      "metadata": {
        "id": "IhBJYh8KOz6A"
      }
    },
    {
      "cell_type": "markdown",
      "source": [
        "36.Python program to convert tuple into list by adding the given string after every element"
      ],
      "metadata": {
        "id": "kcbgwp9rO1IO"
      }
    },
    {
      "cell_type": "markdown",
      "source": [
        "37.Python - Convert Tuple Matrix to Tuple List"
      ],
      "metadata": {
        "id": "WnriQZ2aO60C"
      }
    },
    {
      "cell_type": "markdown",
      "source": [
        "38.Python - Convert Tuple to Tuple Pair"
      ],
      "metadata": {
        "id": "MZPf-_jxO9Bs"
      }
    },
    {
      "cell_type": "markdown",
      "source": [
        "39.Python - Convert List of Lists to Tuple of Tuples"
      ],
      "metadata": {
        "id": "whCd2fV1O_jJ"
      }
    },
    {
      "cell_type": "markdown",
      "source": [
        "40.Python - Convert Matrix to Custom Tuple Matrix"
      ],
      "metadata": {
        "id": "r98c4sWfPB79"
      }
    },
    {
      "cell_type": "markdown",
      "source": [
        "41.Python - Convert Nested Tuple to Custom Key Dictionary"
      ],
      "metadata": {
        "id": "WLIIl4eDPEa6"
      }
    },
    {
      "cell_type": "markdown",
      "source": [
        "42.Python program to convert tuple to float value"
      ],
      "metadata": {
        "id": "rHvydPrnPGrO"
      }
    },
    {
      "cell_type": "markdown",
      "source": [
        "\n",
        "\n",
        "---\n",
        "\n",
        "\n",
        "\n",
        "---\n",
        "\n",
        "\n",
        "\n",
        "---\n",
        "\n"
      ],
      "metadata": {
        "id": "TYuHgRVPPI7Q"
      }
    },
    {
      "cell_type": "markdown",
      "source": [
        "> Advance Tuple Programs"
      ],
      "metadata": {
        "id": "uI440UVIPMhM"
      }
    },
    {
      "cell_type": "markdown",
      "source": [
        "\n",
        "\n",
        "---\n",
        "\n",
        "\n",
        "\n",
        "---\n",
        "\n",
        "\n",
        "\n",
        "---\n",
        "\n"
      ],
      "metadata": {
        "id": "r6QbZU4XPOL9"
      }
    },
    {
      "cell_type": "markdown",
      "source": [
        "43.Python - Extract tuples having K digit elements"
      ],
      "metadata": {
        "id": "RCEDuTIVPPOX"
      }
    },
    {
      "cell_type": "markdown",
      "source": [
        "44.Python - Extract Symmetric Tuples"
      ],
      "metadata": {
        "id": "SsJis_W8PVWW"
      }
    },
    {
      "cell_type": "markdown",
      "source": [
        "45.Python program to Sort Tuples by their Maximum element"
      ],
      "metadata": {
        "id": "y4Lx0RlLPYGD"
      }
    },
    {
      "cell_type": "markdown",
      "source": [
        "46.Python - Remove nested records from tuple"
      ],
      "metadata": {
        "id": "Z2h1ha-kPamh"
      }
    },
    {
      "cell_type": "markdown",
      "source": [
        "47.Python - Elements Frequency in Mixed Nested Tuple"
      ],
      "metadata": {
        "id": "GwfRd3uXPdOz"
      }
    },
    {
      "cell_type": "markdown",
      "source": [
        "48.Python Program to get unique elements in nested tuple"
      ],
      "metadata": {
        "id": "nivW3EY9PfXo"
      }
    },
    {
      "cell_type": "markdown",
      "source": [
        "49.Python program to Concatenate tuples to nested tuples"
      ],
      "metadata": {
        "id": "mLRkDTLPPh33"
      }
    },
    {
      "cell_type": "markdown",
      "source": [
        "50.Python - Sort by Frequency of second element in Tuple List"
      ],
      "metadata": {
        "id": "SpuaFuE4PkBg"
      }
    },
    {
      "cell_type": "markdown",
      "source": [
        "51.Python - Sort lists in tuple"
      ],
      "metadata": {
        "id": "SROEW06tPmPG"
      }
    },
    {
      "cell_type": "markdown",
      "source": [
        "52.Python program to Order Tuples using external List"
      ],
      "metadata": {
        "id": "HUw_g9N5PoWp"
      }
    },
    {
      "cell_type": "markdown",
      "source": [
        "53.Python - Filter Tuples by Kth element from List"
      ],
      "metadata": {
        "id": "Qx-xCC-5Pqgd"
      }
    },
    {
      "cell_type": "markdown",
      "source": [
        " 54.Python - Closest Pair to Kth index element in Tuple"
      ],
      "metadata": {
        "id": "t_LDb7E_Pshp"
      }
    },
    {
      "cell_type": "markdown",
      "source": [
        "55.Python - Tuple List intersection (Order irrespective)"
      ],
      "metadata": {
        "id": "B5i0rwsjPujO"
      }
    },
    {
      "cell_type": "markdown",
      "source": [
        "56.Python - Intersection in Tuple Records Data"
      ],
      "metadata": {
        "id": "zwK_D4CtPwfG"
      }
    },
    {
      "cell_type": "markdown",
      "source": [
        "57.Python - Unique Tuple Frequency (Order Irrespective)"
      ],
      "metadata": {
        "id": "_q1m28AvPyiw"
      }
    },
    {
      "cell_type": "markdown",
      "source": [
        " 58.Python - Skew Nested Tuple Summation"
      ],
      "metadata": {
        "id": "gIUEPkMuP1ZW"
      }
    },
    {
      "cell_type": "markdown",
      "source": [
        "59.Python - Convert Binary tuple to Integer"
      ],
      "metadata": {
        "id": "qeQwQAA9P36f"
      }
    },
    {
      "cell_type": "markdown",
      "source": [
        " 60.Python - Tuple XOR operation"
      ],
      "metadata": {
        "id": "dkaDxb_cP6DP"
      }
    },
    {
      "cell_type": "markdown",
      "source": [
        " 61.Python - AND operation between Tuples"
      ],
      "metadata": {
        "id": "pSfQRa-xP8SU"
      }
    },
    {
      "cell_type": "markdown",
      "source": [
        "62.Python - Elementwise AND in tuples"
      ],
      "metadata": {
        "id": "Gi7d_KQTP-9M"
      }
    },
    {
      "cell_type": "markdown",
      "source": [
        "\n",
        "\n",
        "---\n",
        "\n",
        "\n",
        "\n",
        "---\n",
        "\n",
        "\n",
        "\n",
        "---\n",
        "\n",
        "\n",
        "\n"
      ],
      "metadata": {
        "id": "TkjP0RRWQEIZ"
      }
    },
    {
      "cell_type": "markdown",
      "source": [
        "."
      ],
      "metadata": {
        "id": "_hmfva8CQaFE"
      }
    },
    {
      "cell_type": "markdown",
      "source": [
        "                                                                         \n",
        "                                                                          \n",
        "                                                                           \n",
        "                                                                            \n",
        "                                                                             \n",
        "                                                                              \n",
        "                                                                               \n",
        "                                                                                \n",
        "                                                                                 \n",
        "                                                                                  \n",
        "                                                                                   \n",
        "                                                                                    \n",
        "                                                                                     \n",
        "                                                                                      \n",
        "                                                                                       \n",
        "                                                                                        \n",
        "                                                                                         \n",
        "                                                                                          \n",
        "                                                                                           \n",
        "                                                                                            \n",
        "                                                                                             \n",
        "                                                                                              \n",
        "                                                                                               \n",
        "                                                                                                \n",
        "                                                                Dictionary Exercise\n",
        "\n"
      ],
      "metadata": {
        "id": "FGg2JupcQclu"
      }
    },
    {
      "cell_type": "markdown",
      "source": [
        "."
      ],
      "metadata": {
        "id": "PqVUoPPHQdxq"
      }
    },
    {
      "cell_type": "markdown",
      "source": [
        "\n",
        "\n",
        "---\n",
        "\n",
        "\n",
        "\n",
        "---\n",
        "\n",
        "\n",
        "\n",
        "---\n",
        "\n"
      ],
      "metadata": {
        "id": "Xd4s470QQerN"
      }
    },
    {
      "cell_type": "markdown",
      "source": [
        "> Basic Dictionary Programs"
      ],
      "metadata": {
        "id": "pSzbIVB9Qgmg"
      }
    },
    {
      "cell_type": "markdown",
      "source": [
        "1.Basic Dictionary Programs"
      ],
      "metadata": {
        "id": "WoRcpz1bQuqt"
      }
    },
    {
      "cell_type": "markdown",
      "source": [
        " 2.Python | Sort Python Dictionaries by Key or Value"
      ],
      "metadata": {
        "id": "majVacdyQyvo"
      }
    },
    {
      "cell_type": "markdown",
      "source": [
        "3.Handling missing keys in Python dictionaries"
      ],
      "metadata": {
        "id": "_u0vzTBTQ1Em"
      }
    },
    {
      "cell_type": "markdown",
      "source": [
        " 4.Python dictionary with keys having multiple inputs"
      ],
      "metadata": {
        "id": "vFqUvF6yQ3L2"
      }
    },
    {
      "cell_type": "markdown",
      "source": [
        " 5.Python program to find the sum of all items in a dictionary"
      ],
      "metadata": {
        "id": "JEqRj4nbQ5Jp"
      }
    },
    {
      "cell_type": "markdown",
      "source": [
        "6.Python program to find the size of a Dictionary"
      ],
      "metadata": {
        "id": "k6I5d-b1RExi"
      }
    },
    {
      "cell_type": "markdown",
      "source": [
        " 7.Ways to sort list of dictionaries by values in Python - Using itemgetter"
      ],
      "metadata": {
        "id": "fw3eqROJRG1O"
      }
    },
    {
      "cell_type": "markdown",
      "source": [
        " 8.Ways to sort list of dictionaries by values in Python - Using lambda function"
      ],
      "metadata": {
        "id": "a-0D7oAQRJpG"
      }
    },
    {
      "cell_type": "markdown",
      "source": [
        "9.Python | Merging two Dictionaries"
      ],
      "metadata": {
        "id": "xH4MrldtRLrP"
      }
    },
    {
      "cell_type": "markdown",
      "source": [
        " 10.Program to create grade calculator in Python"
      ],
      "metadata": {
        "id": "11RDxPiGRNo-"
      }
    },
    {
      "cell_type": "markdown",
      "source": [
        " 11.Python - Insertion at the beginning in OrderedDict"
      ],
      "metadata": {
        "id": "9jHD-v0GRPwD"
      }
    },
    {
      "cell_type": "markdown",
      "source": [
        " 12.0Python | Check order of character in string using OrderedDict( )"
      ],
      "metadata": {
        "id": "alprAh1sRSEa"
      }
    },
    {
      "cell_type": "markdown",
      "source": [
        " 12.Python | Find common elements in three sorted arrays by dictionary intersection"
      ],
      "metadata": {
        "id": "1zcSa6QxRULK"
      }
    },
    {
      "cell_type": "markdown",
      "source": [
        "13.Dictionary and counter in Python to find winner of election"
      ],
      "metadata": {
        "id": "lJQxCjuuRWWN"
      }
    },
    {
      "cell_type": "markdown",
      "source": [
        "14.Python - Key with maximum unique values"
      ],
      "metadata": {
        "id": "zUReW6HlRYv4"
      }
    },
    {
      "cell_type": "markdown",
      "source": [
        " 15.Find all duplicate characters in string"
      ],
      "metadata": {
        "id": "vVnF92kdRbBK"
      }
    },
    {
      "cell_type": "markdown",
      "source": [
        " 16.Python - Group Similar items to Dictionary Values List"
      ],
      "metadata": {
        "id": "CRJvocCJRdLD"
      }
    },
    {
      "cell_type": "markdown",
      "source": [
        " 17.K\"th Non-repeating Character in Python using List Comprehension and OrderedDict"
      ],
      "metadata": {
        "id": "W1MR7iaQRfHu"
      }
    },
    {
      "cell_type": "markdown",
      "source": [
        " 18.Python - Replace String by Kth Dictionary value"
      ],
      "metadata": {
        "id": "jFAutBWYRiFh"
      }
    },
    {
      "cell_type": "markdown",
      "source": [
        " 19.Python | Ways to remove a key from dictionary"
      ],
      "metadata": {
        "id": "_LxGJrM8RkFZ"
      }
    },
    {
      "cell_type": "markdown",
      "source": [
        "20.Python - Replace words from Dictionary"
      ],
      "metadata": {
        "id": "6SEvyQxzRmkO"
      }
    },
    {
      "cell_type": "markdown",
      "source": [
        "21.Python - Remove Dictionary Key Words"
      ],
      "metadata": {
        "id": "CBxnksHpRov3"
      }
    },
    {
      "cell_type": "markdown",
      "source": [
        " 22.Python | Remove all duplicates words from a given sentence"
      ],
      "metadata": {
        "id": "XlgqzO7ZRq6J"
      }
    },
    {
      "cell_type": "markdown",
      "source": [
        " 23.Python - Remove duplicate values across Dictionary Values"
      ],
      "metadata": {
        "id": "QF0Ijd-5RtBD"
      }
    },
    {
      "cell_type": "markdown",
      "source": [
        " 24.Python Dictionary to find mirror characters in a string"
      ],
      "metadata": {
        "id": "fDNq5MKSRvPP"
      }
    },
    {
      "cell_type": "markdown",
      "source": [
        " 25.Counting the frequencies in a list using dictionary in Python"
      ],
      "metadata": {
        "id": "R_CuE4MGRxUD"
      }
    },
    {
      "cell_type": "markdown",
      "source": [
        "26.Python - Dictionary Values Mean"
      ],
      "metadata": {
        "id": "4BOS1-SIRzeB"
      }
    },
    {
      "cell_type": "markdown",
      "source": [
        "27.Python counter and dictionary intersection example (Make a string using deletion and rearrangement)"
      ],
      "metadata": {
        "id": "4WIBPme5R1qo"
      }
    },
    {
      "cell_type": "markdown",
      "source": [
        "28.Python dictionary, set and counter to check if frequencies can become same"
      ],
      "metadata": {
        "id": "-9GwBvMTR4TX"
      }
    },
    {
      "cell_type": "markdown",
      "source": [
        "29.Scraping And Finding Ordered Words In A Dictionary using Python"
      ],
      "metadata": {
        "id": "rIHGh2hiR7td"
      }
    },
    {
      "cell_type": "markdown",
      "source": [
        "30.Possible Words using given characters in Python"
      ],
      "metadata": {
        "id": "fpxUgRnxR98a"
      }
    },
    {
      "cell_type": "markdown",
      "source": [
        " 31.Python - Maximum record value key in dictionary"
      ],
      "metadata": {
        "id": "5GG29fZNSApz"
      }
    },
    {
      "cell_type": "markdown",
      "source": [
        "32.Python - Extract values of Particular Key in Nested Values"
      ],
      "metadata": {
        "id": "Og-MwTJ8SDEh"
      }
    },
    {
      "cell_type": "markdown",
      "source": [
        "\n",
        "\n",
        "---\n",
        "\n",
        "\n",
        "\n",
        "---\n",
        "\n",
        "\n",
        "\n",
        "---\n",
        "\n"
      ],
      "metadata": {
        "id": "xGs2-9EwSHFS"
      }
    },
    {
      "cell_type": "markdown",
      "source": [
        "> Conversion of dictionary"
      ],
      "metadata": {
        "id": "1j4usFP9SKZG"
      }
    },
    {
      "cell_type": "markdown",
      "source": [
        "\n",
        "\n",
        "---\n",
        "\n",
        "\n",
        "\n",
        "---\n",
        "\n",
        "\n",
        "\n",
        "---\n",
        "\n"
      ],
      "metadata": {
        "id": "S80GJYmSSLey"
      }
    },
    {
      "cell_type": "markdown",
      "source": [
        "33.Python - Convert Key-Value list Dictionary to List of Lists"
      ],
      "metadata": {
        "id": "WUm1s87SSMY5"
      }
    },
    {
      "cell_type": "markdown",
      "source": [
        "34.Python - Convert List to List of dictionaries"
      ],
      "metadata": {
        "id": "h3mDPRKDSOpG"
      }
    },
    {
      "cell_type": "markdown",
      "source": [
        "35.Python - Convert Lists of List to Dictionary"
      ],
      "metadata": {
        "id": "9ARi2xxQSQfR"
      }
    },
    {
      "cell_type": "markdown",
      "source": [
        "36.Python - Convert List of Dictionaries to List of Lists"
      ],
      "metadata": {
        "id": "oQLM6nnaSSkw"
      }
    },
    {
      "cell_type": "markdown",
      "source": [
        "37.Python - Convert key-values list to flat dictionary"
      ],
      "metadata": {
        "id": "if-_G5ueSUnU"
      }
    },
    {
      "cell_type": "markdown",
      "source": [
        "38.Python | Convert a list of Tuples into Dictionary"
      ],
      "metadata": {
        "id": "Q_akNa2bSWz9"
      }
    },
    {
      "cell_type": "markdown",
      "source": [
        "39.Python - Convert Nested dictionary to Mapped Tuple"
      ],
      "metadata": {
        "id": "m686PTSMSZQD"
      }
    },
    {
      "cell_type": "markdown",
      "source": [
        "40.Python Program to convert string to dictionary"
      ],
      "metadata": {
        "id": "D5Aw_yO7Sbh-"
      }
    },
    {
      "cell_type": "markdown",
      "source": [
        "41.Python - Convert dictionary to K sized dictionaries"
      ],
      "metadata": {
        "id": "wAzhr0-xSdmq"
      }
    },
    {
      "cell_type": "markdown",
      "source": [
        "42.Python - Convert Matrix to dictionary"
      ],
      "metadata": {
        "id": "bOZAAru4Sf2o"
      }
    },
    {
      "cell_type": "markdown",
      "source": [
        "\n",
        "\n",
        "---\n",
        "\n",
        "\n",
        "\n",
        "---\n",
        "\n",
        "\n",
        "\n",
        "---\n",
        "\n"
      ],
      "metadata": {
        "id": "Y-Q7Fk7jSh4v"
      }
    },
    {
      "cell_type": "markdown",
      "source": [
        "> Advance Dictionary Programs"
      ],
      "metadata": {
        "id": "LYBxzebcSk2o"
      }
    },
    {
      "cell_type": "markdown",
      "source": [
        "\n",
        "\n",
        "---\n",
        "\n",
        "\n",
        "\n",
        "---\n",
        "\n",
        "\n",
        "\n",
        "---\n",
        "\n"
      ],
      "metadata": {
        "id": "Ajg4DcXqSmCR"
      }
    },
    {
      "cell_type": "markdown",
      "source": [
        "43.Python - Create Nested Dictionary using given List"
      ],
      "metadata": {
        "id": "2qIDCV8_SnG_"
      }
    },
    {
      "cell_type": "markdown",
      "source": [
        " 44.Python - Swapping Hierarchy in Nested Dictionaries"
      ],
      "metadata": {
        "id": "XH9uhYVHSp7u"
      }
    },
    {
      "cell_type": "markdown",
      "source": [
        " 45.Python - Inversion in nested dictionary"
      ],
      "metadata": {
        "id": "9W13BmXMSsKA"
      }
    },
    {
      "cell_type": "markdown",
      "source": [
        " 46.Python - Reverse Dictionary Keys Order"
      ],
      "metadata": {
        "id": "U0LXMXJ8SuMv"
      }
    },
    {
      "cell_type": "markdown",
      "source": [
        "47.Python - Extract Key\"s Value, if Key Present in List and Dictionary"
      ],
      "metadata": {
        "id": "8lhg-kyTSwj1"
      }
    },
    {
      "cell_type": "markdown",
      "source": [
        "48.Python - Remove keys with Values Greater than K ( Including mixed values )"
      ],
      "metadata": {
        "id": "s8bdQ2I4SzK1"
      }
    },
    {
      "cell_type": "markdown",
      "source": [
        "49.Python - Remove keys with substring values"
      ],
      "metadata": {
        "id": "45tgzfFXS1uD"
      }
    },
    {
      "cell_type": "markdown",
      "source": [
        "50.Python - Dictionary with maximum count of pairs"
      ],
      "metadata": {
        "id": "PlsXQ-a2S4EP"
      }
    },
    {
      "cell_type": "markdown",
      "source": [
        "51.Python - Append Dictionary Keys and Values ( In order ) in dictionary"
      ],
      "metadata": {
        "id": "HnZsrHl9S6Z5"
      }
    },
    {
      "cell_type": "markdown",
      "source": [
        "52.Python - Extract Unique values dictionary values"
      ],
      "metadata": {
        "id": "q7mT4DCGS81_"
      }
    },
    {
      "cell_type": "markdown",
      "source": [
        "53.Python - Keys associated with Values in Dictionary"
      ],
      "metadata": {
        "id": "8oqLSmpCTUSK"
      }
    },
    {
      "cell_type": "markdown",
      "source": [
        "54.Python - Filter dictionary values in heterogeneous dictionary"
      ],
      "metadata": {
        "id": "FHffF5VMTXzX"
      }
    },
    {
      "cell_type": "markdown",
      "source": [
        "55.Print anagrams together in Python using List and Dictionary"
      ],
      "metadata": {
        "id": "2LtaMYzNTZ7Z"
      }
    },
    {
      "cell_type": "markdown",
      "source": [
        "56.Check if binary representations of two numbers are anagram"
      ],
      "metadata": {
        "id": "l_foDcE3Tcr5"
      }
    },
    {
      "cell_type": "markdown",
      "source": [
        "57.Python Counter to find the size of largest subset of anagram word"
      ],
      "metadata": {
        "id": "uZBlGnJYTf0M"
      }
    },
    {
      "cell_type": "markdown",
      "source": [
        "58.Count of groups having largest size while grouping according to sum of its digits"
      ],
      "metadata": {
        "id": "3XPADGEZTiT7"
      }
    },
    {
      "cell_type": "markdown",
      "source": [
        "59.Python - Sort Dictionary key and values List"
      ],
      "metadata": {
        "id": "up7F_6uRTkzW"
      }
    },
    {
      "cell_type": "markdown",
      "source": [
        "60.Python - Sort Dictionary by Values Summation"
      ],
      "metadata": {
        "id": "4Vf6CzupTn5L"
      }
    },
    {
      "cell_type": "markdown",
      "source": [
        "61.Python - Sort dictionaries list by Key\"s Value list index"
      ],
      "metadata": {
        "id": "msvjjxUdTqUW"
      }
    },
    {
      "cell_type": "markdown",
      "source": [
        "62.Python - Sort Nested keys by Value"
      ],
      "metadata": {
        "id": "11pkOvFsT36_"
      }
    },
    {
      "cell_type": "markdown",
      "source": [
        " 63.Python - Scoring Matrix using Dictionary"
      ],
      "metadata": {
        "id": "aHRhrXAQT53y"
      }
    },
    {
      "cell_type": "markdown",
      "source": [
        "64.Python - Factors Frequency Dictionary"
      ],
      "metadata": {
        "id": "sbkyfsXFT7-P"
      }
    },
    {
      "cell_type": "markdown",
      "source": [
        "65.Count distinct substrings of a string using Rabin Karp algorithm"
      ],
      "metadata": {
        "id": "tpmEsE-NT-I-"
      }
    },
    {
      "cell_type": "markdown",
      "source": [
        " 66.Python program to build an undirected graph and finding shortest path using Dictionaries"
      ],
      "metadata": {
        "id": "VqeohBF_UApS"
      }
    },
    {
      "cell_type": "markdown",
      "source": [
        "67.LRU Cache in Python using OrderedDict"
      ],
      "metadata": {
        "id": "L2mNyZIPUDoH"
      }
    }
  ]
}