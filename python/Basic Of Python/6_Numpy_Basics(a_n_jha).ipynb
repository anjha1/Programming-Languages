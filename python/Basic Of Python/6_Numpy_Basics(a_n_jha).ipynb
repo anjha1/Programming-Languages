{
  "nbformat": 4,
  "nbformat_minor": 0,
  "metadata": {
    "colab": {
      "provenance": [],
      "include_colab_link": true
    },
    "kernelspec": {
      "name": "python3",
      "display_name": "Python 3"
    },
    "language_info": {
      "name": "python"
    }
  },
  "cells": [
    {
      "cell_type": "markdown",
      "metadata": {
        "id": "view-in-github",
        "colab_type": "text"
      },
      "source": [
        "<a href=\"https://colab.research.google.com/github/anjha1/Programming-Languages/blob/main/python/Basic%20Of%20Python/6_Numpy_Basics(a_n_jha).ipynb\" target=\"_parent\"><img src=\"https://colab.research.google.com/assets/colab-badge.svg\" alt=\"Open In Colab\"/></a>"
      ]
    },
    {
      "cell_type": "markdown",
      "source": [
        "# Numpy Array Dimensions\n",
        "\n",
        "1D Array\n",
        "\n",
        "2D Array\n",
        "\n",
        "3D Array"
      ],
      "metadata": {
        "id": "QdotJTdfDIG0"
      }
    },
    {
      "cell_type": "code",
      "source": [
        "import numpy as np     # importing numpy library"
      ],
      "metadata": {
        "id": "P2t3s34aC8zd"
      },
      "execution_count": 1,
      "outputs": []
    },
    {
      "cell_type": "code",
      "source": [
        "A = np.array(5)        # Scalar Array\n",
        "A"
      ],
      "metadata": {
        "id": "duYpdIjTC81i",
        "colab": {
          "base_uri": "https://localhost:8080/"
        },
        "outputId": "9315b3aa-8c18-4cc3-d63b-68178fc6d385"
      },
      "execution_count": 2,
      "outputs": [
        {
          "output_type": "execute_result",
          "data": {
            "text/plain": [
              "array(5)"
            ]
          },
          "metadata": {},
          "execution_count": 2
        }
      ]
    },
    {
      "cell_type": "code",
      "source": [
        "np.ndim(A)               # Dimension method"
      ],
      "metadata": {
        "id": "kH5n4yfUC83W",
        "colab": {
          "base_uri": "https://localhost:8080/"
        },
        "outputId": "1fdd2a1a-7400-4d5d-f7ee-cc5e673bae4c"
      },
      "execution_count": 3,
      "outputs": [
        {
          "output_type": "execute_result",
          "data": {
            "text/plain": [
              "0"
            ]
          },
          "metadata": {},
          "execution_count": 3
        }
      ]
    },
    {
      "cell_type": "code",
      "source": [
        "One = np.array([1, 2, 3, 4, 5])\n",
        "Two = np.array([[1, 2, 3], [4, 5, 6]])\n",
        "Three = np.array([[[1, 2, 3], [4, 5, 6]],\n",
        "                 [[7, 8, 9], [10, 11, 12]]])"
      ],
      "metadata": {
        "id": "NUIfRVB_C86s"
      },
      "execution_count": 4,
      "outputs": []
    },
    {
      "cell_type": "code",
      "source": [
        "Three"
      ],
      "metadata": {
        "id": "LLRl5-qMdOTG",
        "colab": {
          "base_uri": "https://localhost:8080/"
        },
        "outputId": "56d40097-46fd-4a32-e21c-cc3f12ce003c"
      },
      "execution_count": 5,
      "outputs": [
        {
          "output_type": "execute_result",
          "data": {
            "text/plain": [
              "array([[[ 1,  2,  3],\n",
              "        [ 4,  5,  6]],\n",
              "\n",
              "       [[ 7,  8,  9],\n",
              "        [10, 11, 12]]])"
            ]
          },
          "metadata": {},
          "execution_count": 5
        }
      ]
    },
    {
      "cell_type": "code",
      "source": [
        "Three.shape\n",
        "np.ndim(Three)"
      ],
      "metadata": {
        "id": "UfLxRm6mWMpl",
        "colab": {
          "base_uri": "https://localhost:8080/"
        },
        "outputId": "f517a51a-65ff-4df5-cdf3-f0985284e9fc"
      },
      "execution_count": 6,
      "outputs": [
        {
          "output_type": "execute_result",
          "data": {
            "text/plain": [
              "3"
            ]
          },
          "metadata": {},
          "execution_count": 6
        }
      ]
    },
    {
      "cell_type": "code",
      "source": [
        "np.ndim(One)\n",
        "np.ndim(Two)\n",
        "np.ndim(Three)"
      ],
      "metadata": {
        "id": "b__zQgAvC88z",
        "colab": {
          "base_uri": "https://localhost:8080/"
        },
        "outputId": "d6aa2129-b54c-482d-893c-5682dd072117"
      },
      "execution_count": 7,
      "outputs": [
        {
          "output_type": "execute_result",
          "data": {
            "text/plain": [
              "3"
            ]
          },
          "metadata": {},
          "execution_count": 7
        }
      ]
    },
    {
      "cell_type": "markdown",
      "source": [
        "# List vs Numpy Array"
      ],
      "metadata": {
        "id": "GHBp5JWLHCQN"
      }
    },
    {
      "cell_type": "code",
      "source": [
        "list1 = [1,4.0,'apple']                     # List - Different Datatypes\n",
        "arr = np.array([1, 2, 3, 4, 5])             # Array - Similar Datatypes"
      ],
      "metadata": {
        "id": "av6OOp0MC9EL"
      },
      "execution_count": 8,
      "outputs": []
    },
    {
      "cell_type": "code",
      "source": [
        "arr"
      ],
      "metadata": {
        "id": "3KS2a04Tf9ZZ",
        "colab": {
          "base_uri": "https://localhost:8080/"
        },
        "outputId": "d9b00b05-70a5-4bf8-fc6d-7e5a4baddd9a"
      },
      "execution_count": 9,
      "outputs": [
        {
          "output_type": "execute_result",
          "data": {
            "text/plain": [
              "array([1, 2, 3, 4, 5])"
            ]
          },
          "metadata": {},
          "execution_count": 9
        }
      ]
    },
    {
      "cell_type": "code",
      "source": [
        "arr = np.array([1, 2, 3.9, 'apple'])        # Type Conversion"
      ],
      "metadata": {
        "id": "yMGXeXRGHMaU"
      },
      "execution_count": 10,
      "outputs": []
    },
    {
      "cell_type": "code",
      "source": [
        "arr"
      ],
      "metadata": {
        "id": "UFqozM89XtBY",
        "colab": {
          "base_uri": "https://localhost:8080/"
        },
        "outputId": "51e059e2-caae-47d1-c759-4a4d7bd9dbd4"
      },
      "execution_count": 11,
      "outputs": [
        {
          "output_type": "execute_result",
          "data": {
            "text/plain": [
              "array(['1', '2', '3.9', 'apple'], dtype='<U32')"
            ]
          },
          "metadata": {},
          "execution_count": 11
        }
      ]
    },
    {
      "cell_type": "code",
      "source": [
        "arr = np.array([1, 2, 3, 4, 5])             # Allows Mathematical Operations\n",
        "\n",
        "# arr/5\n",
        "list1/5"
      ],
      "metadata": {
        "id": "0WNjsiw9HMdu",
        "colab": {
          "base_uri": "https://localhost:8080/",
          "height": 176
        },
        "outputId": "996c6648-0bfa-4128-8d46-ee5976a5b1ef"
      },
      "execution_count": 12,
      "outputs": [
        {
          "output_type": "error",
          "ename": "TypeError",
          "evalue": "unsupported operand type(s) for /: 'list' and 'int'",
          "traceback": [
            "\u001b[0;31m---------------------------------------------------------------------------\u001b[0m",
            "\u001b[0;31mTypeError\u001b[0m                                 Traceback (most recent call last)",
            "\u001b[0;32m<ipython-input-12-f4426fa0b0dc>\u001b[0m in \u001b[0;36m<cell line: 4>\u001b[0;34m()\u001b[0m\n\u001b[1;32m      2\u001b[0m \u001b[0;34m\u001b[0m\u001b[0m\n\u001b[1;32m      3\u001b[0m \u001b[0;31m# arr/5\u001b[0m\u001b[0;34m\u001b[0m\u001b[0;34m\u001b[0m\u001b[0m\n\u001b[0;32m----> 4\u001b[0;31m \u001b[0mlist1\u001b[0m\u001b[0;34m/\u001b[0m\u001b[0;36m5\u001b[0m\u001b[0;34m\u001b[0m\u001b[0;34m\u001b[0m\u001b[0m\n\u001b[0m",
            "\u001b[0;31mTypeError\u001b[0m: unsupported operand type(s) for /: 'list' and 'int'"
          ]
        }
      ]
    },
    {
      "cell_type": "markdown",
      "source": [
        "# More Advantages of Numpy Array over list\n",
        "\n",
        "*   Array consumes less memory\n",
        "*   Array are faster than lists\n",
        "\n"
      ],
      "metadata": {
        "id": "Aqu_C2A7J9lu"
      }
    },
    {
      "cell_type": "markdown",
      "source": [
        "# Reshaping arrays\n",
        "\n",
        "Reshaping means changing the shape of an array."
      ],
      "metadata": {
        "id": "Q2a3EUKFLlt_"
      }
    },
    {
      "cell_type": "code",
      "source": [
        "arr = np.array([1, 2, 3, 4, 5, 6, 7, 8, 9, 10, 11, 12])   # 1D Array\n",
        "\n",
        "# 1D to 2D Array\n",
        "newarr = arr.reshape(3, 4)\n"
      ],
      "metadata": {
        "id": "WpAVFBamLkrt"
      },
      "execution_count": 13,
      "outputs": []
    },
    {
      "cell_type": "code",
      "source": [
        "print(newarr)"
      ],
      "metadata": {
        "id": "eU_QdrgQMhpe",
        "colab": {
          "base_uri": "https://localhost:8080/"
        },
        "outputId": "cb3bbc83-45de-4d74-b02e-7d73740bee8e"
      },
      "execution_count": 14,
      "outputs": [
        {
          "output_type": "stream",
          "name": "stdout",
          "text": [
            "[[ 1  2  3  4]\n",
            " [ 5  6  7  8]\n",
            " [ 9 10 11 12]]\n"
          ]
        }
      ]
    },
    {
      "cell_type": "code",
      "source": [
        "# 1D to 3D Array\n",
        "\n",
        "newarr = arr.reshape(2, 3, 2)    # x,y,z: x = matrix, y = rows, z = cols\n"
      ],
      "metadata": {
        "id": "AYkQVlWjMhrl"
      },
      "execution_count": 15,
      "outputs": []
    },
    {
      "cell_type": "code",
      "source": [
        "print(newarr)"
      ],
      "metadata": {
        "id": "vLMa7U4rnLmR",
        "colab": {
          "base_uri": "https://localhost:8080/"
        },
        "outputId": "f392f3b6-f7ae-4fce-ec6a-986066e02235"
      },
      "execution_count": 16,
      "outputs": [
        {
          "output_type": "stream",
          "name": "stdout",
          "text": [
            "[[[ 1  2]\n",
            "  [ 3  4]\n",
            "  [ 5  6]]\n",
            "\n",
            " [[ 7  8]\n",
            "  [ 9 10]\n",
            "  [11 12]]]\n"
          ]
        }
      ]
    },
    {
      "cell_type": "code",
      "source": [
        "# print(newarr)"
      ],
      "metadata": {
        "id": "x6PYF8phMhxF"
      },
      "execution_count": 17,
      "outputs": []
    },
    {
      "cell_type": "markdown",
      "source": [
        "# Array Indexing\n",
        "\n",
        "Array indexing is the same as accessing an array element.\n",
        "\n",
        "You can access an array element by referring to its index number."
      ],
      "metadata": {
        "id": "PgIzIak6OoFm"
      }
    },
    {
      "cell_type": "code",
      "source": [
        "arr = np.array([1, 2, 3, 4])              # Accessing 1D Array\n",
        "\n",
        "print(arr[3])"
      ],
      "metadata": {
        "id": "0tX3tbEiOyG5",
        "colab": {
          "base_uri": "https://localhost:8080/"
        },
        "outputId": "0361b405-4e34-4164-e314-77325bfa6a22"
      },
      "execution_count": 18,
      "outputs": [
        {
          "output_type": "stream",
          "name": "stdout",
          "text": [
            "4\n"
          ]
        }
      ]
    },
    {
      "cell_type": "code",
      "source": [
        "print(arr[0] + arr[1])                 # Addition of 2 elements"
      ],
      "metadata": {
        "id": "Tsmv3DEFOypt",
        "colab": {
          "base_uri": "https://localhost:8080/"
        },
        "outputId": "c54ec016-e25d-4729-fa19-d659a4af38d0"
      },
      "execution_count": 19,
      "outputs": [
        {
          "output_type": "stream",
          "name": "stdout",
          "text": [
            "3\n"
          ]
        }
      ]
    },
    {
      "cell_type": "code",
      "source": [
        "arr = np.array([[1,2,3,4,5], [6,7,8,9,10]])  # Accessing 2D Array\n",
        "arr.shape\n",
        "\n",
        "# print(arr[0, 3])                          # 1st row 4th element\n",
        "# print(arr[1, 1])                          # 2nd row 5th element\n",
        "print(arr[1,3])"
      ],
      "metadata": {
        "id": "3Rr5Z3S8Oyrd",
        "colab": {
          "base_uri": "https://localhost:8080/"
        },
        "outputId": "87615b49-9b3d-433f-acbb-38761dd881d5"
      },
      "execution_count": 20,
      "outputs": [
        {
          "output_type": "stream",
          "name": "stdout",
          "text": [
            "9\n"
          ]
        }
      ]
    },
    {
      "cell_type": "code",
      "source": [
        "arr"
      ],
      "metadata": {
        "id": "GASoXUNzpJRD",
        "colab": {
          "base_uri": "https://localhost:8080/"
        },
        "outputId": "7b8f0e8d-0e93-4454-affd-c950ceb1d0e1"
      },
      "execution_count": 21,
      "outputs": [
        {
          "output_type": "execute_result",
          "data": {
            "text/plain": [
              "array([[ 1,  2,  3,  4,  5],\n",
              "       [ 6,  7,  8,  9, 10]])"
            ]
          },
          "metadata": {},
          "execution_count": 21
        }
      ]
    },
    {
      "cell_type": "code",
      "source": [
        "arr3 = np.array([[[1, 2, 3], [4, 5, 6]], [[7, 8, 9], [10, 11, 12]]])   # Accessing 3D Array\n",
        "\n",
        "arr3.shape\n",
        "# print(arr3)\n",
        "# print(arr3[0, 0, 2])               # 1st matrix, 1st row, 3rd column\n",
        "# print(arr3[1, 1, 1])               # 1st matrix, 2nd row, 1st column\n",
        "print(arr3[0,1,0])"
      ],
      "metadata": {
        "id": "7YsdWkpKOyvF",
        "colab": {
          "base_uri": "https://localhost:8080/"
        },
        "outputId": "ca36c472-f52b-428f-ba8a-0d5d97f0d2ae"
      },
      "execution_count": 22,
      "outputs": [
        {
          "output_type": "stream",
          "name": "stdout",
          "text": [
            "4\n"
          ]
        }
      ]
    },
    {
      "cell_type": "code",
      "source": [
        "print(arr3)"
      ],
      "metadata": {
        "id": "5AAUTgXkpIrZ",
        "colab": {
          "base_uri": "https://localhost:8080/"
        },
        "outputId": "8b5159f2-9e3f-4eb0-fadd-5011d70ee757"
      },
      "execution_count": 23,
      "outputs": [
        {
          "output_type": "stream",
          "name": "stdout",
          "text": [
            "[[[ 1  2  3]\n",
            "  [ 4  5  6]]\n",
            "\n",
            " [[ 7  8  9]\n",
            "  [10 11 12]]]\n"
          ]
        }
      ]
    }
  ]
}