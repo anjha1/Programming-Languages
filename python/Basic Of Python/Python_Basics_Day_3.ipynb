{
  "nbformat": 4,
  "nbformat_minor": 0,
  "metadata": {
    "colab": {
      "provenance": [],
      "include_colab_link": true
    },
    "kernelspec": {
      "name": "python3",
      "display_name": "Python 3"
    },
    "language_info": {
      "name": "python"
    }
  },
  "cells": [
    {
      "cell_type": "markdown",
      "metadata": {
        "id": "view-in-github",
        "colab_type": "text"
      },
      "source": [
        "<a href=\"https://colab.research.google.com/github/anjha1/Programming-Languages/blob/main/python/Basic%20Of%20Python/Python_Basics_Day_3.ipynb\" target=\"_parent\"><img src=\"https://colab.research.google.com/assets/colab-badge.svg\" alt=\"Open In Colab\"/></a>"
      ]
    },
    {
      "cell_type": "markdown",
      "source": [
        "# For Loop\n",
        "\n",
        "*   It is used for iterating over a sequence (that is either a list, a tuple, a dictionary, a set, or a string).\n",
        "*   Using Break & Contiue keyword\n",
        "\n"
      ],
      "metadata": {
        "id": "qVFRkTAnzX7k"
      }
    },
    {
      "cell_type": "code",
      "source": [
        "fruits = [\"apple\", \"banana\", \"cherry\",'pineappple','mango']\n",
        "\n",
        "for i in fruits:\n",
        "  print(i)"
      ],
      "metadata": {
        "colab": {
          "base_uri": "https://localhost:8080/"
        },
        "id": "0PJX371rzRtE",
        "outputId": "49c3025d-10cb-4341-fed9-19107ad95217"
      },
      "execution_count": 1,
      "outputs": [
        {
          "output_type": "stream",
          "name": "stdout",
          "text": [
            "apple\n",
            "banana\n",
            "cherry\n",
            "pineappple\n",
            "mango\n"
          ]
        }
      ]
    },
    {
      "cell_type": "code",
      "source": [
        "for x in fruits:\n",
        "  print(x)\n",
        "  if x == \"banana\":\n",
        "    break"
      ],
      "metadata": {
        "colab": {
          "base_uri": "https://localhost:8080/"
        },
        "id": "HLUxrJtZzRvU",
        "outputId": "450e3bfa-fa3e-4c0e-f5a5-f10cbee3a2f9"
      },
      "execution_count": 2,
      "outputs": [
        {
          "output_type": "stream",
          "name": "stdout",
          "text": [
            "apple\n",
            "banana\n"
          ]
        }
      ]
    },
    {
      "cell_type": "code",
      "source": [
        "for x in fruits:\n",
        "  if x == \"cherry\":\n",
        "    continue\n",
        "  print(x)"
      ],
      "metadata": {
        "colab": {
          "base_uri": "https://localhost:8080/"
        },
        "id": "_O3nKB7PzRxM",
        "outputId": "fc18e8ed-9a30-40c0-c689-c90eee3fba50"
      },
      "execution_count": 3,
      "outputs": [
        {
          "output_type": "stream",
          "name": "stdout",
          "text": [
            "apple\n",
            "banana\n",
            "pineappple\n",
            "mango\n"
          ]
        }
      ]
    },
    {
      "cell_type": "markdown",
      "source": [
        "# While Loop\n",
        "\n",
        "*   With the while loop we can execute a set of statements as long as a condition is true.\n",
        "*   Using Break & Contiue keyword"
      ],
      "metadata": {
        "id": "BbBlNnws3R4W"
      }
    },
    {
      "cell_type": "code",
      "source": [
        "num = 1\n",
        "\n",
        "while num < 6:\n",
        "  print(num)\n",
        "  num += 1"
      ],
      "metadata": {
        "colab": {
          "base_uri": "https://localhost:8080/"
        },
        "id": "vsKlaf0xu-eA",
        "outputId": "00656e08-d5ff-495a-9513-c2d533cf646c"
      },
      "execution_count": 4,
      "outputs": [
        {
          "output_type": "stream",
          "name": "stdout",
          "text": [
            "1\n",
            "2\n",
            "3\n",
            "4\n",
            "5\n"
          ]
        }
      ]
    },
    {
      "cell_type": "code",
      "source": [
        "num = 1\n",
        "\n",
        "while num < 6:\n",
        "  print(num)\n",
        "  if num == 3:\n",
        "    break\n",
        "  num = num + 1"
      ],
      "metadata": {
        "colab": {
          "base_uri": "https://localhost:8080/"
        },
        "id": "llNoUMnIzSJb",
        "outputId": "aad16459-3533-4a29-bccd-cf03d80feb88"
      },
      "execution_count": 5,
      "outputs": [
        {
          "output_type": "stream",
          "name": "stdout",
          "text": [
            "1\n",
            "2\n",
            "3\n"
          ]
        }
      ]
    },
    {
      "cell_type": "code",
      "source": [
        "num = 0\n",
        "\n",
        "while num < 10:\n",
        "  num += 1\n",
        "  if num == 5:\n",
        "    continue\n",
        "  print(num)"
      ],
      "metadata": {
        "colab": {
          "base_uri": "https://localhost:8080/"
        },
        "id": "216Eb_bp4I39",
        "outputId": "49ff3ffb-88c2-4e50-be6a-99dd258360b4"
      },
      "execution_count": 6,
      "outputs": [
        {
          "output_type": "stream",
          "name": "stdout",
          "text": [
            "1\n",
            "2\n",
            "3\n",
            "4\n",
            "6\n",
            "7\n",
            "8\n",
            "9\n",
            "10\n"
          ]
        }
      ]
    },
    {
      "cell_type": "markdown",
      "source": [
        "# Python Functions\n",
        "\n",
        "*   A function is a block of code which only runs when it is called.\n",
        "\n",
        "*   Advanced Functions - lambda, map, zip"
      ],
      "metadata": {
        "id": "Cby1_zmlNmoy"
      }
    },
    {
      "cell_type": "code",
      "source": [
        "def intro():                     # Function Defining\n",
        "  value = 5\n",
        "  return value**2\n",
        "  # print(\"Hello i'm from a function\")"
      ],
      "metadata": {
        "id": "NnFc0NtONk-1"
      },
      "execution_count": 7,
      "outputs": []
    },
    {
      "cell_type": "code",
      "source": [
        "intro()       # Function Calling"
      ],
      "metadata": {
        "colab": {
          "base_uri": "https://localhost:8080/"
        },
        "id": "GRFH3KvUNlAc",
        "outputId": "d67b00af-acf0-4183-cd1c-d96699f28479"
      },
      "execution_count": 8,
      "outputs": [
        {
          "output_type": "execute_result",
          "data": {
            "text/plain": [
              "25"
            ]
          },
          "metadata": {},
          "execution_count": 8
        }
      ]
    },
    {
      "cell_type": "code",
      "source": [
        "def my_ID(name):                    # Function with Arguments\n",
        "  print(\"CR001_\" + name)\n"
      ],
      "metadata": {
        "id": "A6g3tDxPNlCl"
      },
      "execution_count": 9,
      "outputs": []
    },
    {
      "cell_type": "code",
      "source": [
        "my_ID(\"Sai\")"
      ],
      "metadata": {
        "colab": {
          "base_uri": "https://localhost:8080/"
        },
        "id": "96VtEXhl3yMI",
        "outputId": "dd35381a-ecbf-4963-bd3e-3632adfba3f7"
      },
      "execution_count": 10,
      "outputs": [
        {
          "output_type": "stream",
          "name": "stdout",
          "text": [
            "CR001_Sai\n"
          ]
        }
      ]
    },
    {
      "cell_type": "code",
      "source": [
        "# def add(a,b,c):\n",
        "#   return a+b+c\n",
        "\n",
        "\n",
        "# Using Lambda Function\n",
        "\n",
        "add = lambda a,b,c: print(a+b+c)"
      ],
      "metadata": {
        "id": "W-oSbLOZQSeK"
      },
      "execution_count": 11,
      "outputs": []
    },
    {
      "cell_type": "code",
      "source": [
        "add(4, 5, 5)"
      ],
      "metadata": {
        "colab": {
          "base_uri": "https://localhost:8080/"
        },
        "id": "kfsw73sN5CrQ",
        "outputId": "bb54843c-ddff-4694-8e9f-5c330032e21a"
      },
      "execution_count": 12,
      "outputs": [
        {
          "output_type": "stream",
          "name": "stdout",
          "text": [
            "14\n"
          ]
        }
      ]
    },
    {
      "cell_type": "code",
      "source": [
        "# add(4,5,1)"
      ],
      "metadata": {
        "id": "oIHbvRAG4j8N"
      },
      "execution_count": 13,
      "outputs": []
    },
    {
      "cell_type": "code",
      "source": [
        "# Map Function\n",
        "\n",
        "nums = [1, 2, 3, 4, 5]\n",
        "\n",
        "def sq(n):\n",
        "    return n*n\n",
        "\n",
        "# sq(2)\n",
        "\n",
        "square = map(sq, nums)\n",
        "\n",
        "print(list(square))"
      ],
      "metadata": {
        "colab": {
          "base_uri": "https://localhost:8080/"
        },
        "id": "mzGwEzSNQvoK",
        "outputId": "5caaca7e-fd11-4ba9-8945-0b0159fefba5"
      },
      "execution_count": 14,
      "outputs": [
        {
          "output_type": "stream",
          "name": "stdout",
          "text": [
            "[1, 4, 9, 16, 25]\n"
          ]
        }
      ]
    },
    {
      "cell_type": "code",
      "source": [
        "# Zip Function\n",
        "\n",
        "name = [\"Manjeet\", \"Nikhil\", \"Shambhavi\"]\n",
        "ID = [4, 1, 3]\n",
        "\n",
        "mapped = zip(name, ID)\n",
        "\n",
        "print(list(mapped))"
      ],
      "metadata": {
        "colab": {
          "base_uri": "https://localhost:8080/"
        },
        "id": "S2vIGMY1RQ8V",
        "outputId": "8a7a00d1-6198-47c2-f108-d66768ecc5fc"
      },
      "execution_count": 15,
      "outputs": [
        {
          "output_type": "stream",
          "name": "stdout",
          "text": [
            "[('Manjeet', 4), ('Nikhil', 1), ('Shambhavi', 3)]\n"
          ]
        }
      ]
    },
    {
      "cell_type": "code",
      "source": [
        "type(mapped)"
      ],
      "metadata": {
        "id": "9cE0PxwDRRP-",
        "colab": {
          "base_uri": "https://localhost:8080/"
        },
        "outputId": "303cad84-05ce-45a6-ec4a-38794046a2b9"
      },
      "execution_count": 16,
      "outputs": [
        {
          "output_type": "execute_result",
          "data": {
            "text/plain": [
              "zip"
            ]
          },
          "metadata": {},
          "execution_count": 16
        }
      ]
    }
  ]
}