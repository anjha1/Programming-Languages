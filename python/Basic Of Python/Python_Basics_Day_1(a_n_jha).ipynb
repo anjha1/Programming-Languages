{
  "nbformat": 4,
  "nbformat_minor": 0,
  "metadata": {
    "colab": {
      "provenance": [],
      "include_colab_link": true
    },
    "kernelspec": {
      "name": "python3",
      "display_name": "Python 3"
    },
    "language_info": {
      "name": "python"
    }
  },
  "cells": [
    {
      "cell_type": "markdown",
      "metadata": {
        "id": "view-in-github",
        "colab_type": "text"
      },
      "source": [
        "<a href=\"https://colab.research.google.com/github/anjha1/Programming-Languages/blob/main/python/Basic%20Of%20Python/Python_Basics_Day_1(a_n_jha).ipynb\" target=\"_parent\"><img src=\"https://colab.research.google.com/assets/colab-badge.svg\" alt=\"Open In Colab\"/></a>"
      ]
    },
    {
      "cell_type": "markdown",
      "source": [
        "**Python Basic Terms**\n",
        "\n",
        "\n",
        "*   Syntax (Valid & Invalid)\n",
        "*   Comments\n",
        "\n"
      ],
      "metadata": {
        "id": "vTsmuXI7j0NM"
      }
    },
    {
      "cell_type": "code",
      "source": [
        "address = 'Pimpri Chinchwad, Pune : 411057'    # This is my address\n",
        "print(address)                                # This is the print statement"
      ],
      "metadata": {
        "id": "gV8N7PgBhy5e",
        "colab": {
          "base_uri": "https://localhost:8080/"
        },
        "outputId": "7f58dcb1-2f6a-438b-8c92-35d7108b7e90"
      },
      "execution_count": 1,
      "outputs": [
        {
          "output_type": "stream",
          "name": "stdout",
          "text": [
            "Pimpri Chinchwad, Pune : 411057\n"
          ]
        }
      ]
    },
    {
      "cell_type": "code",
      "source": [
        "print('Pune')"
      ],
      "metadata": {
        "id": "R6sejPXzhzFx",
        "colab": {
          "base_uri": "https://localhost:8080/"
        },
        "outputId": "9c5afc72-ebe2-4cb2-8e94-504e74dde181"
      },
      "execution_count": 2,
      "outputs": [
        {
          "output_type": "stream",
          "name": "stdout",
          "text": [
            "Pune\n"
          ]
        }
      ]
    },
    {
      "cell_type": "code",
      "source": [
        "address"
      ],
      "metadata": {
        "colab": {
          "base_uri": "https://localhost:8080/",
          "height": 36
        },
        "id": "UfmMBsbqPLyT",
        "outputId": "b888b5d8-2796-47d8-b444-c52c11df0e30"
      },
      "execution_count": 3,
      "outputs": [
        {
          "output_type": "execute_result",
          "data": {
            "text/plain": [
              "'Pimpri Chinchwad, Pune : 411057'"
            ],
            "application/vnd.google.colaboratory.intrinsic+json": {
              "type": "string"
            }
          },
          "metadata": {},
          "execution_count": 3
        }
      ]
    },
    {
      "cell_type": "markdown",
      "source": [
        "**Python Data Types, Type Casting & Variables**\n",
        "\n",
        "\n",
        "*   **Text Type:**\tstr\n",
        "*   **Numeric Types:**\tint, float\n",
        "*   **Sequence Types:**\tlist, tuple, range\n",
        "*   **Mapping Type:**\tdict\n",
        "*   **Set Types:**\tset\n",
        "*   **Boolean Type:**\tbool\n",
        "\n",
        "\n"
      ],
      "metadata": {
        "id": "W_B3PupFt5B6"
      }
    },
    {
      "cell_type": "code",
      "source": [
        "name = 'Mohit'\n",
        "age = 25\n",
        "height = 5.8\n",
        "\n",
        "profile = ['Mohit',25,5.8,60,'Engineer']         # List Method\n",
        "profile_2 = ('Disha',23,5.5,55,'Teacher')        # Tuple Method\n",
        "profile_3 = {'Name':'Sai','Role':'Cricket Analyst','age':22,'City':'Pune'} # Dictionary Method\n",
        "profile_4 = {'Sreedevi',55.6,'Teacher', 5.6}     # Set Method"
      ],
      "metadata": {
        "id": "jLE90KmNiKOz"
      },
      "execution_count": 4,
      "outputs": []
    },
    {
      "cell_type": "code",
      "source": [
        "print(profile_4)"
      ],
      "metadata": {
        "colab": {
          "base_uri": "https://localhost:8080/"
        },
        "id": "x-g5j8aQkflt",
        "outputId": "d0cf9155-95a0-470d-81fa-1ee2ecdc6ba9"
      },
      "execution_count": 5,
      "outputs": [
        {
          "output_type": "stream",
          "name": "stdout",
          "text": [
            "{'Teacher', 'Sreedevi', 5.6, 55.6}\n"
          ]
        }
      ]
    },
    {
      "cell_type": "code",
      "source": [
        "type(profile_4)"
      ],
      "metadata": {
        "colab": {
          "base_uri": "https://localhost:8080/"
        },
        "id": "CKp9pn8WiScZ",
        "outputId": "1d87d477-0618-4edd-a93c-241c89460cc8"
      },
      "execution_count": 6,
      "outputs": [
        {
          "output_type": "execute_result",
          "data": {
            "text/plain": [
              "set"
            ]
          },
          "metadata": {},
          "execution_count": 6
        }
      ]
    },
    {
      "cell_type": "code",
      "source": [
        "student1 = ('Rishika', 21, 90.2)    # Cannot modify it\n",
        "student2 = ['Rishika', 21, 90.2]    # Can modify it\n",
        "student3 = {'Rishika', 21, 90.2}    # Random Output"
      ],
      "metadata": {
        "id": "1Z6vCUpft539"
      },
      "execution_count": 7,
      "outputs": []
    },
    {
      "cell_type": "code",
      "source": [
        "type(student3)"
      ],
      "metadata": {
        "colab": {
          "base_uri": "https://localhost:8080/"
        },
        "id": "CF60KB5Ibg3X",
        "outputId": "1e8932a5-6bde-4167-d034-5b8013e539d4"
      },
      "execution_count": 8,
      "outputs": [
        {
          "output_type": "execute_result",
          "data": {
            "text/plain": [
              "set"
            ]
          },
          "metadata": {},
          "execution_count": 8
        }
      ]
    },
    {
      "cell_type": "code",
      "source": [
        "student = {'Name':'Rishika', 'Age': 21, 'Percent':90.2}"
      ],
      "metadata": {
        "id": "JWNv8oJFwr1h"
      },
      "execution_count": 9,
      "outputs": []
    },
    {
      "cell_type": "code",
      "source": [
        "bool(1)"
      ],
      "metadata": {
        "colab": {
          "base_uri": "https://localhost:8080/"
        },
        "id": "1jSqcl2MNfCY",
        "outputId": "24ed7e60-e817-41aa-a694-e11514d833cb"
      },
      "execution_count": 10,
      "outputs": [
        {
          "output_type": "execute_result",
          "data": {
            "text/plain": [
              "True"
            ]
          },
          "metadata": {},
          "execution_count": 10
        }
      ]
    },
    {
      "cell_type": "code",
      "source": [
        "age = str(22)"
      ],
      "metadata": {
        "id": "C38yjp4ww6uO"
      },
      "execution_count": 11,
      "outputs": []
    },
    {
      "cell_type": "code",
      "source": [
        "type(age)"
      ],
      "metadata": {
        "colab": {
          "base_uri": "https://localhost:8080/"
        },
        "id": "E26H048ARXp6",
        "outputId": "fbba2162-14f9-40e6-c3a8-e277b7e68f73"
      },
      "execution_count": 12,
      "outputs": [
        {
          "output_type": "execute_result",
          "data": {
            "text/plain": [
              "str"
            ]
          },
          "metadata": {},
          "execution_count": 12
        }
      ]
    },
    {
      "cell_type": "markdown",
      "source": [
        "**Python Operators**\n",
        "\n",
        "*   Arithmetic operators\n",
        "*   Assignment operators\n",
        "*   Comparison operators\n",
        "*   Logical operators\n",
        "*   Membership operators"
      ],
      "metadata": {
        "id": "CUMJaslIw7qD"
      }
    },
    {
      "cell_type": "code",
      "source": [
        "# Arithmetic Operators (+,-,*,/,%,**)                        # Used with numeric values to perform common mathematical operations\n",
        "\n",
        "x = 5\n",
        "y = 8\n",
        "\n",
        "# print(x+y, x-y, x*y, x/y, x%y, x**y)\n",
        "\n",
        "print(x*y)"
      ],
      "metadata": {
        "id": "ZBFXMVCw6if9",
        "colab": {
          "base_uri": "https://localhost:8080/"
        },
        "outputId": "72ced9d5-402f-490b-9726-cdf54d9f2eb7"
      },
      "execution_count": 13,
      "outputs": [
        {
          "output_type": "stream",
          "name": "stdout",
          "text": [
            "40\n"
          ]
        }
      ]
    },
    {
      "cell_type": "code",
      "source": [
        "\n",
        "# Assignment Operators (=,+=,-=,*=,/=,%=,**=)                # Used to assign values to variables\n",
        "\n",
        "x, y = 5, 8\n",
        "\n",
        "\n",
        "# x = x - y\n",
        "# x -= y       # x = x - y/\n",
        "\n",
        "\n",
        "x = x * y\n",
        "\n",
        "\n",
        "print(x)"
      ],
      "metadata": {
        "id": "9CUNVhBD6iiO",
        "colab": {
          "base_uri": "https://localhost:8080/"
        },
        "outputId": "e3db4151-65fe-4221-f73d-030f1d6a8394"
      },
      "execution_count": 14,
      "outputs": [
        {
          "output_type": "stream",
          "name": "stdout",
          "text": [
            "40\n"
          ]
        }
      ]
    },
    {
      "cell_type": "code",
      "source": [
        "# Comparison Operators (==,!=,<,>,<=,>=)                     # Used to compare two values\n",
        "\n",
        "# print(x == y, x != y, x < y, x > y, x <= y, x >= y)\n",
        "x, y = 5, 8\n",
        "\n",
        "x >= y"
      ],
      "metadata": {
        "id": "mO9KdpFt6ikP",
        "colab": {
          "base_uri": "https://localhost:8080/"
        },
        "outputId": "747cc324-d1c9-484f-e82e-f882f14fe3ab"
      },
      "execution_count": 15,
      "outputs": [
        {
          "output_type": "execute_result",
          "data": {
            "text/plain": [
              "False"
            ]
          },
          "metadata": {},
          "execution_count": 15
        }
      ]
    },
    {
      "cell_type": "code",
      "source": [
        "# Logical Operators (==,!=,<,>,<=,>=)                        # Used to combine conditional statements\n",
        "\n",
        "# print(x and y)\n",
        "\n",
        "case1 =(x < y) or (x == y)\n",
        "\n",
        "print(case1,not(case1))"
      ],
      "metadata": {
        "id": "ARZIC6W46iml",
        "colab": {
          "base_uri": "https://localhost:8080/"
        },
        "outputId": "1d28d9e4-4389-4ea3-a581-e25e6e86f2d3"
      },
      "execution_count": 16,
      "outputs": [
        {
          "output_type": "stream",
          "name": "stdout",
          "text": [
            "True False\n"
          ]
        }
      ]
    },
    {
      "cell_type": "code",
      "source": [
        "# Membership Operators (==,!=,<,>,<=,>=)                     # Used to test if a sequence is presented in an object\n",
        "\n",
        "# print(x in y, x not in y)\n",
        "\n",
        "x = [1,2,3,4,5]\n",
        "y = 6\n",
        "\n",
        "y not in x"
      ],
      "metadata": {
        "id": "0ZpytLZ06iq8",
        "colab": {
          "base_uri": "https://localhost:8080/"
        },
        "outputId": "ff645066-66de-42a5-8477-9a144da64d88"
      },
      "execution_count": 17,
      "outputs": [
        {
          "output_type": "execute_result",
          "data": {
            "text/plain": [
              "True"
            ]
          },
          "metadata": {},
          "execution_count": 17
        }
      ]
    }
  ]
}