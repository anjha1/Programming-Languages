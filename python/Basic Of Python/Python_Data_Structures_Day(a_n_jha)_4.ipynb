{
  "nbformat": 4,
  "nbformat_minor": 0,
  "metadata": {
    "colab": {
      "provenance": [],
      "include_colab_link": true
    },
    "kernelspec": {
      "name": "python3",
      "display_name": "Python 3"
    },
    "language_info": {
      "name": "python"
    }
  },
  "cells": [
    {
      "cell_type": "markdown",
      "metadata": {
        "id": "view-in-github",
        "colab_type": "text"
      },
      "source": [
        "<a href=\"https://colab.research.google.com/github/anjha1/Programming-Languages/blob/main/python/Basic%20Of%20Python/Python_Data_Structures_Day(a_n_jha)_4.ipynb\" target=\"_parent\"><img src=\"https://colab.research.google.com/assets/colab-badge.svg\" alt=\"Open In Colab\"/></a>"
      ]
    },
    {
      "cell_type": "markdown",
      "source": [
        "# Tuple\n",
        "They are used to store multiple items in a single variable.\n",
        "\n",
        "A tuple is a collection which is ordered and unchangeable.\n",
        "It is written with round brackets."
      ],
      "metadata": {
        "id": "gZpXksJpDhuW"
      }
    },
    {
      "cell_type": "code",
      "source": [
        "fruits = (\"apple\", \"banana\", \"cherry\")                           # Standard Method\n",
        "print(fruits)"
      ],
      "metadata": {
        "colab": {
          "base_uri": "https://localhost:8080/"
        },
        "id": "Iqd80mJHDU6O",
        "outputId": "1b650198-0b71-4a93-ea0c-48a8db4da663"
      },
      "execution_count": 1,
      "outputs": [
        {
          "output_type": "stream",
          "name": "stdout",
          "text": [
            "('apple', 'banana', 'cherry')\n"
          ]
        }
      ]
    },
    {
      "cell_type": "code",
      "source": [
        "ints = tuple([1,2,3,4,5,9,7,2,0])                                 # Function Method"
      ],
      "metadata": {
        "id": "WBGIsRXo6hqL"
      },
      "execution_count": 2,
      "outputs": []
    },
    {
      "cell_type": "code",
      "source": [
        "ints"
      ],
      "metadata": {
        "colab": {
          "base_uri": "https://localhost:8080/"
        },
        "id": "A7XgimGxT191",
        "outputId": "b5ce5239-b819-4a40-a9bd-e45047be3d91"
      },
      "execution_count": 3,
      "outputs": [
        {
          "output_type": "execute_result",
          "data": {
            "text/plain": [
              "(1, 2, 3, 4, 5, 9, 7, 2, 0)"
            ]
          },
          "metadata": {},
          "execution_count": 3
        }
      ]
    },
    {
      "cell_type": "code",
      "source": [
        "fruits = (\"apple\", \"banana\", \"cherry\",\"banana\")                  # Allows Duplicates\n",
        "print(fruits)"
      ],
      "metadata": {
        "colab": {
          "base_uri": "https://localhost:8080/"
        },
        "id": "qY886OHhDU7b",
        "outputId": "792fbd48-3173-4567-bb6e-088a64704a8b"
      },
      "execution_count": 4,
      "outputs": [
        {
          "output_type": "stream",
          "name": "stdout",
          "text": [
            "('apple', 'banana', 'cherry', 'banana')\n"
          ]
        }
      ]
    },
    {
      "cell_type": "code",
      "source": [
        "# Count() Method\n",
        "\n",
        "nums = (1, 3, 7, 8, 7, 5, 4, 6, 8, 5)\n",
        "\n",
        "nums.count(6)"
      ],
      "metadata": {
        "colab": {
          "base_uri": "https://localhost:8080/"
        },
        "id": "Nd0TN_oGDU-E",
        "outputId": "5d4b650a-2b15-4333-95d8-2a3510d552f3"
      },
      "execution_count": 5,
      "outputs": [
        {
          "output_type": "execute_result",
          "data": {
            "text/plain": [
              "1"
            ]
          },
          "metadata": {},
          "execution_count": 5
        }
      ]
    },
    {
      "cell_type": "code",
      "source": [
        "# Index() Method\n",
        "\n",
        "nums = (1, 3, 7, 8, 7, 5, 4, 6, 8, 5)\n",
        "\n",
        "nums.index(5)"
      ],
      "metadata": {
        "colab": {
          "base_uri": "https://localhost:8080/"
        },
        "id": "l__lbM1FDU_K",
        "outputId": "3531a7bc-a37a-40e7-a984-65c084b20115"
      },
      "execution_count": 6,
      "outputs": [
        {
          "output_type": "execute_result",
          "data": {
            "text/plain": [
              "5"
            ]
          },
          "metadata": {},
          "execution_count": 6
        }
      ]
    },
    {
      "cell_type": "code",
      "source": [
        "# Min() & Max() Method\n",
        "\n",
        "nums = (1, 3, 7, 99, 7, 5, 4, 6, 8, 5)\n",
        "\n",
        "min(nums)\n",
        "# max(nums)"
      ],
      "metadata": {
        "colab": {
          "base_uri": "https://localhost:8080/"
        },
        "id": "teP82ThiDVDq",
        "outputId": "47889180-3f29-42dc-a6b8-63f9e286393f"
      },
      "execution_count": 7,
      "outputs": [
        {
          "output_type": "execute_result",
          "data": {
            "text/plain": [
              "1"
            ]
          },
          "metadata": {},
          "execution_count": 7
        }
      ]
    },
    {
      "cell_type": "markdown",
      "source": [
        "# Dictionary\n",
        "Dictionaries are used to store data values in key:value pairs.\n",
        "\n",
        "A dictionary is a collection which is ordered*, changeable and do not allow duplicates."
      ],
      "metadata": {
        "id": "LCiQCPXMHUCY"
      }
    },
    {
      "cell_type": "code",
      "source": [
        "car = {\"brand\": \"Ford\",\"model\": \"Mustang\",\"year\": 1964}\n",
        "\n",
        "# # Get() Method\n",
        "car.get(\"year\")\n",
        "\n",
        "# # items() Method\n",
        "car.items()\n",
        "\n",
        "# # key() Method\n",
        "car.keys()\n",
        "\n",
        "# # values() Method\n",
        "car.values()"
      ],
      "metadata": {
        "colab": {
          "base_uri": "https://localhost:8080/"
        },
        "id": "j9SIaZ1tHlRH",
        "outputId": "032ebcc3-a177-4a9f-d384-c7b292225c44"
      },
      "execution_count": 8,
      "outputs": [
        {
          "output_type": "execute_result",
          "data": {
            "text/plain": [
              "dict_values(['Ford', 'Mustang', 1964])"
            ]
          },
          "metadata": {},
          "execution_count": 8
        }
      ]
    },
    {
      "cell_type": "code",
      "source": [
        "# pop() Method\n",
        "# car\n",
        "car.pop(\"year\")\n",
        "print(car)\n",
        "\n",
        "# popitem() Method\n",
        "\n",
        "car.popitem()\n",
        "print(car)"
      ],
      "metadata": {
        "id": "RDfpSdd3IfS3",
        "colab": {
          "base_uri": "https://localhost:8080/"
        },
        "outputId": "56072172-afb8-4a42-b3eb-a4aaa43145a0"
      },
      "execution_count": 9,
      "outputs": [
        {
          "output_type": "stream",
          "name": "stdout",
          "text": [
            "{'brand': 'Ford', 'model': 'Mustang'}\n",
            "{'brand': 'Ford'}\n"
          ]
        }
      ]
    },
    {
      "cell_type": "code",
      "source": [
        "# update() Method\n",
        "\n",
        "car.update({\"color\": \"White\"})\n",
        "print(car)"
      ],
      "metadata": {
        "colab": {
          "base_uri": "https://localhost:8080/"
        },
        "id": "dO9J8a-IIfVH",
        "outputId": "f34a2223-27f0-4f9b-fee7-3f70f5b876b5"
      },
      "execution_count": 10,
      "outputs": [
        {
          "output_type": "stream",
          "name": "stdout",
          "text": [
            "{'brand': 'Ford', 'color': 'White'}\n"
          ]
        }
      ]
    },
    {
      "cell_type": "code",
      "source": [
        "car"
      ],
      "metadata": {
        "colab": {
          "base_uri": "https://localhost:8080/"
        },
        "id": "j2tgmm9TBxOB",
        "outputId": "2056539a-4b12-4923-de62-6e62a0bcb808"
      },
      "execution_count": 11,
      "outputs": [
        {
          "output_type": "execute_result",
          "data": {
            "text/plain": [
              "{'brand': 'Ford', 'color': 'White'}"
            ]
          },
          "metadata": {},
          "execution_count": 11
        }
      ]
    },
    {
      "cell_type": "code",
      "source": [
        "# clear() Method\n",
        "\n",
        "car.clear()\n",
        "# print(car)"
      ],
      "metadata": {
        "id": "IFrOPO54Ifc2"
      },
      "execution_count": 12,
      "outputs": []
    },
    {
      "cell_type": "code",
      "source": [
        "car"
      ],
      "metadata": {
        "colab": {
          "base_uri": "https://localhost:8080/"
        },
        "id": "qUJPAE08IffH",
        "outputId": "a5a385cb-9532-4abf-81b7-75b68f1583a6"
      },
      "execution_count": 13,
      "outputs": [
        {
          "output_type": "execute_result",
          "data": {
            "text/plain": [
              "{}"
            ]
          },
          "metadata": {},
          "execution_count": 13
        }
      ]
    },
    {
      "cell_type": "markdown",
      "source": [
        "# Set\n",
        "Sets are used to store multiple items in a single variable.\n",
        "\n",
        "Sets are written with curly brackets."
      ],
      "metadata": {
        "id": "siU6lzgaXqnX"
      }
    },
    {
      "cell_type": "code",
      "source": [
        "# fruits = {\"apple\", \"banana\", \"cherry\"}\n",
        "\n",
        "# # add()\n",
        "\n",
        "# fruits.add(\"orange\")\n",
        "# print(fruits)\n",
        "\n",
        "# # pop()\n",
        "\n",
        "# fruits.pop()\n",
        "# print(fruits)\n",
        "\n",
        "# # remove()\n",
        "\n",
        "# fruits.remove(\"cherry\")\n",
        "# print(fruits)"
      ],
      "metadata": {
        "id": "lBkSujMxXn3a"
      },
      "execution_count": 14,
      "outputs": []
    },
    {
      "cell_type": "code",
      "source": [
        "type(fruits)"
      ],
      "metadata": {
        "colab": {
          "base_uri": "https://localhost:8080/"
        },
        "id": "ZTxBoPB2FMQg",
        "outputId": "51219014-3e70-43da-e979-f1ac27b66e49"
      },
      "execution_count": 15,
      "outputs": [
        {
          "output_type": "execute_result",
          "data": {
            "text/plain": [
              "tuple"
            ]
          },
          "metadata": {},
          "execution_count": 15
        }
      ]
    },
    {
      "cell_type": "code",
      "source": [
        "fruits = {\"apple\", \"banana\", \"cherry\"}\n",
        "company = {\"google\", \"microsoft\", \"apple\"}\n",
        "\n",
        "# difference()\n",
        "\n",
        "print(company.difference(fruits))       # Output will be from LHS of dot set only"
      ],
      "metadata": {
        "colab": {
          "base_uri": "https://localhost:8080/"
        },
        "id": "EQiwdMbPXn5a",
        "outputId": "b8e8491d-3fcf-4f1a-f308-9b09e3fa3cab"
      },
      "execution_count": 16,
      "outputs": [
        {
          "output_type": "stream",
          "name": "stdout",
          "text": [
            "{'google', 'microsoft'}\n"
          ]
        }
      ]
    },
    {
      "cell_type": "code",
      "source": [
        "# intersection()\n",
        "\n",
        "print(company.intersection(fruits))      # Print common element from both the sets"
      ],
      "metadata": {
        "colab": {
          "base_uri": "https://localhost:8080/"
        },
        "id": "LfL5Uq5wXn9N",
        "outputId": "dabe7fd1-f5f7-43b7-e76f-54b7fd486798"
      },
      "execution_count": 17,
      "outputs": [
        {
          "output_type": "stream",
          "name": "stdout",
          "text": [
            "{'apple'}\n"
          ]
        }
      ]
    },
    {
      "cell_type": "code",
      "source": [
        "# union()\n",
        "\n",
        "print(company.union(fruits))        # Combine both sets together to form new set"
      ],
      "metadata": {
        "colab": {
          "base_uri": "https://localhost:8080/"
        },
        "id": "jq3zTuIZXoAa",
        "outputId": "6be5cbb2-ccb5-48e8-c243-3fb6394d86d3"
      },
      "execution_count": 18,
      "outputs": [
        {
          "output_type": "stream",
          "name": "stdout",
          "text": [
            "{'google', 'microsoft', 'banana', 'cherry', 'apple'}\n"
          ]
        }
      ]
    },
    {
      "cell_type": "code",
      "source": [
        "# upate()\n",
        "\n",
        "company.update(fruits)"
      ],
      "metadata": {
        "id": "WJNBBW33XoCN"
      },
      "execution_count": 19,
      "outputs": []
    },
    {
      "cell_type": "code",
      "source": [
        "fruits"
      ],
      "metadata": {
        "id": "x9X5RfXZXoD5",
        "colab": {
          "base_uri": "https://localhost:8080/"
        },
        "outputId": "4af57b0f-f577-419d-90a0-c6c1c0684181"
      },
      "execution_count": 20,
      "outputs": [
        {
          "output_type": "execute_result",
          "data": {
            "text/plain": [
              "{'apple', 'banana', 'cherry'}"
            ]
          },
          "metadata": {},
          "execution_count": 20
        }
      ]
    },
    {
      "cell_type": "code",
      "source": [
        "company"
      ],
      "metadata": {
        "id": "nKchQh8eXoFs",
        "colab": {
          "base_uri": "https://localhost:8080/"
        },
        "outputId": "1f91b53e-d0b7-425d-f73b-6876c4ac6390"
      },
      "execution_count": 21,
      "outputs": [
        {
          "output_type": "execute_result",
          "data": {
            "text/plain": [
              "{'apple', 'banana', 'cherry', 'google', 'microsoft'}"
            ]
          },
          "metadata": {},
          "execution_count": 21
        }
      ]
    }
  ]
}