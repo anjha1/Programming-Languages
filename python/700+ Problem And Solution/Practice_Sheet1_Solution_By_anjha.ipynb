{
  "nbformat": 4,
  "nbformat_minor": 0,
  "metadata": {
    "colab": {
      "provenance": [],
      "authorship_tag": "ABX9TyOY6RUyJ5X8R+m1PAj+GFPX",
      "include_colab_link": true
    },
    "kernelspec": {
      "name": "python3",
      "display_name": "Python 3"
    },
    "language_info": {
      "name": "python"
    }
  },
  "cells": [
    {
      "cell_type": "markdown",
      "metadata": {
        "id": "view-in-github",
        "colab_type": "text"
      },
      "source": [
        "<a href=\"https://colab.research.google.com/github/anjha1/Programming-Languages/blob/main/python/Geeks%20for%20Geeks-700%2B%20Problem-Solution/Practice_Sheet1_Solution_By_anjha.ipynb\" target=\"_parent\"><img src=\"https://colab.research.google.com/assets/colab-badge.svg\" alt=\"Open In Colab\"/></a>"
      ]
    },
    {
      "cell_type": "markdown",
      "source": [
        "                                                                          Python Practice Sheet1  Solution by Achhuta Nand Jha\n",
        "\n",
        "> **Practice Sheet by Achhuta Nand Jha**               \n",
        "**[Practice Sheet1 Link](https://sites.google.com/view/achhuta-nand-jha/programming-language/python)**\n",
        "\n"
      ],
      "metadata": {
        "id": "CNQx52A04NDZ"
      }
    },
    {
      "cell_type": "markdown",
      "source": [
        "**About the Practice Sheet**\n",
        "\n",
        "The practice sheet covers a wide range of topics essential for mastering Python programming, including:\n",
        "\n",
        ">  including:\n",
        "\n",
        "\n",
        "\n",
        "**Basic Syntax:** Fundamental building blocks of Python, helping you understand the core structure of the language.\n",
        "\n",
        "\n",
        "**Arrays and Lists:** Exercises to manipulate and traverse arrays and lists effectively.\n",
        "\n",
        "\n",
        "**Matrices:** Problems to practice operations on two-dimensional arrays.\n",
        "\n",
        "\n",
        "**Strings:** String manipulation techniques and functions.\n",
        "\n",
        "\n",
        "**Dictionaries and Tuples:** Working with key-value pairs and immutable sequences.\n",
        "\n",
        "**Searching and Sorting Algorithms:** Implementing and understanding various search and sort techniques.\n",
        "\n",
        "\n",
        "**Pattern Printing:** Creating different patterns using loops.\n",
        "\n",
        "\n",
        "**Date and Time Operations:** Handling and manipulating date and time objects.\n",
        "\n",
        "\n",
        "**Regular Expressions:** Using regex for pattern matching and text processing.\n",
        "\n",
        "\n",
        "**File Handling:** Reading from and writing to files.\n",
        "\n",
        "\n",
        "**Advanced Problems:** Additional challenges to push your problem-solving abilities further.\n",
        "\n",
        "\n",
        "Structured Learning\n",
        "\n",
        "\n",
        ">The sheet is thoughtfully structured to take you from basic to more complex problems, allowing for gradual improvement. Each section contains numerous questions that reinforce different programming concepts and techniques.\n",
        "\n",
        "**Why This Sheet?**\n",
        "\n",
        "> **Comprehensive Coverage:** Addresses a wide range of Python topics, ensuring a well-rounded understanding.\n",
        "\n",
        "> **Progressive Difficulty:** Starts with simple exercises and gradually moves to more challenging problems.\n",
        "\n",
        "> **Practical Focus:** Emphasizes hands-on practice to solidify theoretical knowledge.\n",
        "\n",
        "> **Versatile Resource:** Suitable for beginners as well as intermediate learners looking to refine their skills.\n",
        "\n",
        "**How to Use**\n",
        "\n",
        ">Start with the basics and progress through each section, taking time to understand and solve each problem. Use additional resources if needed, and don’t hesitate to revisit earlier sections for revision.\n",
        "\n",
        "\n",
        "**Final Thoughts**\n",
        "\n",
        "> This practice sheet is a valuable resource for anyone looking to improve their Python programming skills. Whether you are a student, a professional, or a hobbyist, these exercises will help you become more proficient in Python.\n",
        "\n",
        "Thank you for taking the time to explore this practice sheet. I hope you find it as beneficial as I have found it enjoyable to create. Happy coding!"
      ],
      "metadata": {
        "id": "yjcmUxQOtsP9"
      }
    },
    {
      "cell_type": "markdown",
      "source": [
        "."
      ],
      "metadata": {
        "id": "cXYIR8_xts6z"
      }
    },
    {
      "cell_type": "markdown",
      "source": [
        "Basic =16\n",
        "\n",
        "Array=9\n",
        "\n",
        "List=30\n",
        "\n",
        "Matrix=8\n",
        "\n",
        "String=30\n",
        "\n",
        "Dictionary=28\n",
        "\n",
        "Tuple=13\n",
        "\n",
        "Searching and Sorting=25\n",
        "\n",
        "Pattern Printing=4\n",
        "\n",
        "Date Time=9\n",
        "\n",
        "Regex=20\n",
        "\n",
        "File Handling=16\n",
        "\n",
        "More=25\n",
        "\n",
        "\n",
        "Total = 233"
      ],
      "metadata": {
        "id": "Et3bnmXWtt3B"
      }
    },
    {
      "cell_type": "markdown",
      "source": [
        "."
      ],
      "metadata": {
        "id": "jn_gjs-otupa"
      }
    },
    {
      "cell_type": "markdown",
      "source": [
        "."
      ],
      "metadata": {
        "id": "dj-MJog1tvTo"
      }
    },
    {
      "cell_type": "markdown",
      "source": [
        "."
      ],
      "metadata": {
        "id": "aeSwxjHbtv7a"
      }
    },
    {
      "cell_type": "markdown",
      "source": [
        "."
      ],
      "metadata": {
        "id": "QxjwCrYXB04O"
      }
    },
    {
      "cell_type": "markdown",
      "source": [
        "."
      ],
      "metadata": {
        "id": "BK0R49BRBz94"
      }
    },
    {
      "cell_type": "markdown",
      "source": [
        "\n",
        "\n",
        "---\n",
        "\n",
        "\n",
        "\n",
        "---\n",
        "\n",
        "\n",
        "\n",
        "---\n",
        "\n"
      ],
      "metadata": {
        "id": "EuDBcjp2_L5H"
      }
    },
    {
      "cell_type": "markdown",
      "source": [
        "."
      ],
      "metadata": {
        "id": "Ntvybks3Bs63"
      }
    },
    {
      "cell_type": "markdown",
      "source": [
        "**Basic**"
      ],
      "metadata": {
        "id": "r_aOWDIg_QRh"
      }
    },
    {
      "cell_type": "markdown",
      "source": [
        "."
      ],
      "metadata": {
        "id": "-UATyJMIBq3v"
      }
    },
    {
      "cell_type": "markdown",
      "source": [
        "\n",
        "\n",
        "---\n",
        "\n",
        "\n",
        "\n",
        "---\n",
        "\n",
        "\n",
        "\n",
        "---\n",
        "\n"
      ],
      "metadata": {
        "id": "w1fLhUHLBZ-S"
      }
    },
    {
      "cell_type": "markdown",
      "source": [
        "\"\"\" 1. Python program to add two numbers\"\"\""
      ],
      "metadata": {
        "id": "Unx-a1j__SnA"
      }
    },
    {
      "cell_type": "code",
      "source": [
        "def addTwoNumber(num1,num2):\n",
        "  return num1+num2\n",
        "num1=eval(input(\"Enter the first number \"))\n",
        "num2=eval(input(\"Enter the second number \"))\n",
        "print(addTwoNumber(num1,num2))\n"
      ],
      "metadata": {
        "colab": {
          "base_uri": "https://localhost:8080/"
        },
        "id": "orhkDhi_adi7",
        "outputId": "c1d303e1-3c3e-4110-9069-47c0d489c099"
      },
      "execution_count": null,
      "outputs": [
        {
          "output_type": "stream",
          "name": "stdout",
          "text": [
            "Enter the first number12\n",
            "Enter the second number18\n",
            "30\n"
          ]
        }
      ]
    },
    {
      "cell_type": "markdown",
      "source": [
        "\"\"\" 2. Maximum of two numbers in Python\"\"\""
      ],
      "metadata": {
        "id": "X5OF6kki_Xhz"
      }
    },
    {
      "cell_type": "code",
      "source": [
        "def MaxOfTwoNumber(num1,num2):\n",
        "  if num1>num2:\n",
        "    return num1\n",
        "  else:\n",
        "    return num2\n",
        "num1=eval(input(\"Enter the first number \"))\n",
        "num2=eval(input(\"Enter the second number \"))\n",
        "print(MaxOfTwoNumber(num1,num2))"
      ],
      "metadata": {
        "colab": {
          "base_uri": "https://localhost:8080/"
        },
        "id": "faZaFP-1bQoV",
        "outputId": "91ac7124-b35c-4140-8716-53b615b16821"
      },
      "execution_count": null,
      "outputs": [
        {
          "output_type": "stream",
          "name": "stdout",
          "text": [
            "Enter the first number99999\n",
            "Enter the second number6.00000888\n",
            "99999\n"
          ]
        }
      ]
    },
    {
      "cell_type": "markdown",
      "source": [
        "\"\"\" 3. Python Program for factorial of a number\"\"\""
      ],
      "metadata": {
        "id": "crUWAzmc_bLA"
      }
    },
    {
      "cell_type": "code",
      "source": [
        "def Factorial(number):\n",
        "  mult=1\n",
        "  for i in range(1,number+1):\n",
        "    mult =mult*i\n",
        "  return mult\n",
        "num1=int(input(\"Enter the first number \"))\n",
        "print(Factorial(num1))"
      ],
      "metadata": {
        "colab": {
          "base_uri": "https://localhost:8080/"
        },
        "id": "0BBWmNAFcQkZ",
        "outputId": "eba8b991-95a3-45f5-81f6-f944854d4b38"
      },
      "execution_count": null,
      "outputs": [
        {
          "output_type": "stream",
          "name": "stdout",
          "text": [
            "Enter the first number 5\n",
            "120\n"
          ]
        }
      ]
    },
    {
      "cell_type": "markdown",
      "source": [
        "\"\"\" 4. Python Program for simple interest\"\"\""
      ],
      "metadata": {
        "id": "k6T2ZS7N_eHW"
      }
    },
    {
      "cell_type": "code",
      "source": [
        "def SimpleInterest(P,R,T):\n",
        "  SI=((P*R*T)/100)\n",
        "  print(f\"Your Principal amount is {P}\")\n",
        "  print(f\"Your Total interest is {SI}\")\n",
        "  return (f\"Your Total amount is {SI+P}\")\n",
        "P=eval(input(\"Enter the Principal Amount \"))\n",
        "R=eval(input(\"Enter the Rate of Interest in % per annum \"))\n",
        "T=eval(input(\"Enter the Time \"))\n",
        "print(SimpleInterest(P,R,T))\n"
      ],
      "metadata": {
        "colab": {
          "base_uri": "https://localhost:8080/"
        },
        "id": "wsWgQyjpd-eJ",
        "outputId": "2bfc357e-e2bb-4fd6-843e-c30f92a2f27a"
      },
      "execution_count": null,
      "outputs": [
        {
          "output_type": "stream",
          "name": "stdout",
          "text": [
            "Enter the Principal Amount 1000\n",
            "Enter the Rate of Interest in % per annum 6\n",
            "Enter the Time 5\n",
            "Your Principal amount is 1000\n",
            "Your Total interest is 300.0\n",
            "Your Total amount is 1300.0\n"
          ]
        }
      ]
    },
    {
      "cell_type": "markdown",
      "source": [
        "\"\"\" 5. Python Program for compound interest\"\"\""
      ],
      "metadata": {
        "id": "FoVC85yd_gx1"
      }
    },
    {
      "cell_type": "code",
      "source": [
        "def CompoundInterest(P,R,T,N):\n",
        "  R=R/100\n",
        "  TI=P*(1 + R/N)**(N*T)\n",
        "  print(f\"Your Principal amount is {P}\")\n",
        "  print(f\"Your Total interest is {TI-P}\")\n",
        "  return (f\"Your Total amount is {TI}\")\n",
        "P=eval(input(\"Enter the Principal Amount \"))\n",
        "n=eval(input(\"Enter the number of times interest is compounded per year (12 for monthly) \"))\n",
        "R=eval(input(\"Enter the Rate of Interest in % per annum \"))\n",
        "T=eval(input(\"Enter the Time in years \"))\n",
        "print(CompoundInterest(P,R,T,n))\n"
      ],
      "metadata": {
        "colab": {
          "base_uri": "https://localhost:8080/"
        },
        "id": "6OREkdONhDWQ",
        "outputId": "ea18cd6d-69ed-4b51-ded0-baadb79d754f"
      },
      "execution_count": null,
      "outputs": [
        {
          "output_type": "stream",
          "name": "stdout",
          "text": [
            "Enter the Principal Amount 1000\n",
            "Enter the number of times interest is compounded per year (12 for monthly) 12\n",
            "Enter the Rate of Interest in % per annum 5\n",
            "Enter the Time in years 10\n",
            "Your Principal amount is 1000\n",
            "Your Total interest is 647.0094976902801\n",
            "Your Total amount is 1647.00949769028\n"
          ]
        }
      ]
    },
    {
      "cell_type": "markdown",
      "source": [
        "\"\"\" 6. Python Program to check Armstrong Number\"\"\""
      ],
      "metadata": {
        "id": "A47Ghnop_jXo"
      }
    },
    {
      "cell_type": "code",
      "source": [
        "def ArmstrongNumber(number):\n",
        "  k=number\n",
        "  sum=0\n",
        "  while number>0:\n",
        "    fact=number%10\n",
        "    number=number//10\n",
        "    sum=sum+(fact)**3\n",
        "  if k==sum:\n",
        "    return(\"Number is Armstrong Number\")\n",
        "  else:\n",
        "    return(\"Number is Not a Armstrong Number\")\n",
        "num1=int(input(\"Enter the number \"))\n",
        "print(ArmstrongNumber(num1))"
      ],
      "metadata": {
        "colab": {
          "base_uri": "https://localhost:8080/"
        },
        "id": "xoPL-U5inMXD",
        "outputId": "41715de7-aeb9-430a-e12a-eebbae2e4340"
      },
      "execution_count": null,
      "outputs": [
        {
          "output_type": "stream",
          "name": "stdout",
          "text": [
            "Enter the number 153\n",
            "Number is Armstrong Number\n"
          ]
        }
      ]
    },
    {
      "cell_type": "markdown",
      "source": [
        "\"\"\" 7. Python Program for Program to nd area of a circle\"\"\""
      ],
      "metadata": {
        "id": "gNmL7LoR_mqZ"
      }
    },
    {
      "cell_type": "code",
      "source": [
        "def AreaOfCircle(radius):\n",
        "  Area=(22/7)*((radius)**2)\n",
        "  return Area\n",
        "radius=int(input(\"Enter the radius\"))\n",
        "print(AreaOfCircle(radius))"
      ],
      "metadata": {
        "id": "uEsOnOFSsvsP",
        "colab": {
          "base_uri": "https://localhost:8080/"
        },
        "outputId": "01211246-b577-44f1-b287-7c0a4fa4f5e9"
      },
      "execution_count": null,
      "outputs": [
        {
          "output_type": "stream",
          "name": "stdout",
          "text": [
            "Enter the radius10\n",
            "314.2857142857143\n"
          ]
        }
      ]
    },
    {
      "cell_type": "markdown",
      "source": [
        "\"\"\" 8. Python program to print all Prime numbers in an Interval\"\"\""
      ],
      "metadata": {
        "id": "KhG0OXgM_pCu"
      }
    },
    {
      "cell_type": "code",
      "source": [
        "def PrimeNumber(start,end):\n",
        "  if start>1:\n",
        "    for i in range(start,end+1):\n",
        "      k=1\n",
        "      for j in range(2,i):\n",
        "        if i%j==0:\n",
        "          k=0\n",
        "          break\n",
        "      if k==1:\n",
        "        print(i)\n",
        "start=int(input(\"Enter the Number \"))\n",
        "end=int(input(\"Enter the Number \"))\n",
        "PrimeNumber(start,end)"
      ],
      "metadata": {
        "colab": {
          "base_uri": "https://localhost:8080/"
        },
        "id": "dyfEepME5ePR",
        "outputId": "6ce0b1a5-758f-4211-9428-d4a0c0d2d3d7"
      },
      "execution_count": null,
      "outputs": [
        {
          "output_type": "stream",
          "name": "stdout",
          "text": [
            "Enter the Number 10\n",
            "Enter the Number 30\n",
            "11\n",
            "13\n",
            "17\n",
            "19\n",
            "23\n",
            "29\n"
          ]
        }
      ]
    },
    {
      "cell_type": "markdown",
      "source": [
        "\"\"\" 9. Python program to check whether a number is Prime or not\"\"\""
      ],
      "metadata": {
        "id": "IGqfWXoe_rnC"
      }
    },
    {
      "cell_type": "code",
      "source": [
        "def PrimeNumber(number):\n",
        "  k=1\n",
        "  for i in range(2,number):\n",
        "    if number%i==0:\n",
        "      k=0\n",
        "      break\n",
        "  if number==1 or k==1:\n",
        "    return (f'{number} is a Prime Number ')\n",
        "  else:\n",
        "    return (f\"{number} is not a Prime Number \")\n",
        "number=int(input(\"Enter the Number \"))\n",
        "print(PrimeNumber(number))"
      ],
      "metadata": {
        "colab": {
          "base_uri": "https://localhost:8080/"
        },
        "id": "chai81f3yBYf",
        "outputId": "3c3b9f04-accf-414e-9109-107f82ee745e"
      },
      "execution_count": null,
      "outputs": [
        {
          "output_type": "stream",
          "name": "stdout",
          "text": [
            "Enter the Number 13\n",
            "13 is a Prime Number \n"
          ]
        }
      ]
    },
    {
      "cell_type": "markdown",
      "source": [
        "\"\"\" 10. Python Program for n-th Fibonacci number\"\"\""
      ],
      "metadata": {
        "id": "d8Orqwgc_uB3"
      }
    },
    {
      "cell_type": "code",
      "source": [
        "def FibonacciNumber(Number):\n",
        "  a=0\n",
        "  b=1\n",
        "  c=0\n",
        "  for i in range(1,Number):\n",
        "    a=b\n",
        "    b=c\n",
        "    c=a+b\n",
        "  print(c)\n",
        "number=int(input(\"Enter the Number \"))\n",
        "FibonacciNumber(number)"
      ],
      "metadata": {
        "colab": {
          "base_uri": "https://localhost:8080/"
        },
        "id": "01rYzYxWA44U",
        "outputId": "5c168805-628e-4693-d422-699bfd1e4eee"
      },
      "execution_count": null,
      "outputs": [
        {
          "output_type": "stream",
          "name": "stdout",
          "text": [
            "Enter the Number 11\n",
            "55\n"
          ]
        }
      ]
    },
    {
      "cell_type": "code",
      "source": [
        "def FibonacciNumber(Number):\n",
        "  a=0\n",
        "  b=1\n",
        "  c=0\n",
        "  for i in range(1,Number+1):\n",
        "    print(c)\n",
        "    a=b\n",
        "    b=c\n",
        "    c=a+b\n",
        "number=int(input(\"Enter the Number \"))\n",
        "FibonacciNumber(number)"
      ],
      "metadata": {
        "colab": {
          "base_uri": "https://localhost:8080/"
        },
        "id": "_sp19Bra0TDx",
        "outputId": "7c72852d-cfea-427d-c86f-6035fcbda742"
      },
      "execution_count": null,
      "outputs": [
        {
          "output_type": "stream",
          "name": "stdout",
          "text": [
            "Enter the Number 50\n",
            "0\n",
            "1\n",
            "1\n",
            "2\n",
            "3\n",
            "5\n",
            "8\n",
            "13\n",
            "21\n",
            "34\n",
            "55\n",
            "89\n",
            "144\n",
            "233\n",
            "377\n",
            "610\n",
            "987\n",
            "1597\n",
            "2584\n",
            "4181\n",
            "6765\n",
            "10946\n",
            "17711\n",
            "28657\n",
            "46368\n",
            "75025\n",
            "121393\n",
            "196418\n",
            "317811\n",
            "514229\n",
            "832040\n",
            "1346269\n",
            "2178309\n",
            "3524578\n",
            "5702887\n",
            "9227465\n",
            "14930352\n",
            "24157817\n",
            "39088169\n",
            "63245986\n",
            "102334155\n",
            "165580141\n",
            "267914296\n",
            "433494437\n",
            "701408733\n",
            "1134903170\n",
            "1836311903\n",
            "2971215073\n",
            "4807526976\n",
            "7778742049\n"
          ]
        }
      ]
    },
    {
      "cell_type": "code",
      "source": [],
      "metadata": {
        "colab": {
          "base_uri": "https://localhost:8080/"
        },
        "id": "j1nLjD02-Hgq",
        "outputId": "74b4d51e-5eea-4be6-dd36-6288c5ce27bc"
      },
      "execution_count": null,
      "outputs": [
        {
          "output_type": "stream",
          "name": "stdout",
          "text": [
            "Enter the Number 55\n",
            "yes\n"
          ]
        }
      ]
    },
    {
      "cell_type": "markdown",
      "source": [
        "\"\"\" 11. Python Program for How to check if a given number is Fibonacci number?\"\"\""
      ],
      "metadata": {
        "id": "s6R7PiCX_wq_"
      }
    },
    {
      "cell_type": "code",
      "source": [
        "def FibonacciNumber(Number):\n",
        "  a=0\n",
        "  b=1\n",
        "  c=0\n",
        "  while c<Number:\n",
        "    a=b\n",
        "    b=c\n",
        "    c=a+b\n",
        "  if c==Number:\n",
        "    print(\"yes\")\n",
        "  else :\n",
        "    print(\"No\")\n",
        "number=int(input(\"Enter the Number \"))\n",
        "FibonacciNumber(number)"
      ],
      "metadata": {
        "colab": {
          "base_uri": "https://localhost:8080/"
        },
        "id": "6eBd933fBnyC",
        "outputId": "6926d73c-72e7-4913-aaf7-405beaa0d0e5"
      },
      "execution_count": null,
      "outputs": [
        {
          "output_type": "stream",
          "name": "stdout",
          "text": [
            "Enter the Number 55\n",
            "yes\n"
          ]
        }
      ]
    },
    {
      "cell_type": "markdown",
      "source": [
        "\"\"\" 12. Python Program for n\\th multiple of a number in Fibonacci Series\"\"\"                                                                       \n",
        "\n",
        "\n",
        "\n",
        "\n",
        "\n",
        "\n",
        "\n",
        "\n",
        "\n",
        "\n",
        "`Input: k = 2, n = 3`\n",
        "\n",
        "\n",
        "\n",
        "`Output: 9, 3rd multiple of 2 in Fibonacci Series is 34 that appears at position 9.`\n"
      ],
      "metadata": {
        "id": "QJPkX7Mo_0Yi"
      }
    },
    {
      "cell_type": "code",
      "source": [
        "def nthMultipleOfNumberFibonacciSeries(k,n):\n",
        "  a=0\n",
        "  b=1\n",
        "  c=0\n",
        "  while c<number:\n",
        "    a=b\n",
        "    b=c\n",
        "    c=a+b\n",
        "    if c%k==0:\n"
      ],
      "metadata": {
        "id": "ssF9_Z4wH0Ab"
      },
      "execution_count": null,
      "outputs": []
    },
    {
      "cell_type": "markdown",
      "source": [
        "\"\"\" 13. Program to print ASCII Value of a character\"\"\"\n",
        "\n",
        "`Input : a              ⟶           Output : 97`\n",
        "\n",
        "\n",
        "    \n",
        "    \n",
        "\n",
        "\n",
        "\n",
        "\n",
        "\n",
        "`Input : D      ⟹        Output : 68`\n",
        "\n"
      ],
      "metadata": {
        "id": "0CmPapja_3Wb"
      }
    },
    {
      "cell_type": "code",
      "source": [
        "def ascii(value):\n",
        "  print(ord(value))\n",
        "value=input(\"Enter the char \")\n",
        "ascii(value)"
      ],
      "metadata": {
        "colab": {
          "base_uri": "https://localhost:8080/"
        },
        "id": "wG_0bu7jzNaE",
        "outputId": "bc26d73c-bdfd-4241-9839-3faa90ea6ace"
      },
      "execution_count": null,
      "outputs": [
        {
          "output_type": "stream",
          "name": "stdout",
          "text": [
            "Enter the char D\n",
            "68\n"
          ]
        }
      ]
    },
    {
      "cell_type": "markdown",
      "source": [
        "\"\"\" 14. Python Program for Sum of squares of rst n natural numbers\"\"\"\n",
        "\n"
      ],
      "metadata": {
        "id": "EjktX9UW_6Ch"
      }
    },
    {
      "cell_type": "code",
      "source": [
        "def SumOfSquareNaturalNumber(number):\n",
        "  sum=0\n",
        "  for i in range(1,number+1):\n",
        "    sum=sum+(i)**2\n",
        "  return sum\n",
        "number=int(input(\"Enter the number \"))\n",
        "print(SumOfSquareNaturalNumber(number))"
      ],
      "metadata": {
        "colab": {
          "base_uri": "https://localhost:8080/"
        },
        "id": "SRpyIQhP2SO_",
        "outputId": "7250f754-6c42-40fa-c95a-1fc5e5276248"
      },
      "execution_count": null,
      "outputs": [
        {
          "output_type": "stream",
          "name": "stdout",
          "text": [
            "Enter the number 4\n",
            "30\n"
          ]
        }
      ]
    },
    {
      "cell_type": "markdown",
      "source": [
        "\"\"\" 15. Python Program for cube sum of rst n natural numbers\"\"\""
      ],
      "metadata": {
        "id": "iNlQh8hE_9Co"
      }
    },
    {
      "cell_type": "code",
      "source": [
        "def SumOfCubeNaturalNumber(number):\n",
        "  sum=0\n",
        "  for i in range(1,number+1):\n",
        "    sum=sum+(i)**3\n",
        "  return sum\n",
        "number=int(input(\"Enter the number \"))\n",
        "print(SumOfCubeNaturalNumber(number))"
      ],
      "metadata": {
        "colab": {
          "base_uri": "https://localhost:8080/"
        },
        "id": "GH1Nmb6o3iaj",
        "outputId": "faaa7ed2-2a43-49e5-ccb6-93d76fa67691"
      },
      "execution_count": null,
      "outputs": [
        {
          "output_type": "stream",
          "name": "stdout",
          "text": [
            "Enter the number 5\n",
            "225\n"
          ]
        }
      ]
    },
    {
      "cell_type": "markdown",
      "source": [
        "\"\"\" 16. Python program to user input operator and n numbers operating \"\"\""
      ],
      "metadata": {
        "id": "r8B_TZv8__-6"
      }
    },
    {
      "cell_type": "code",
      "source": [
        "def add(*num):\n",
        "    total = 0\n",
        "    for arg in num:\n",
        "        total += arg\n",
        "    return total\n",
        "\n",
        "def mul(*num):\n",
        "    total = 1\n",
        "    for arg in num:\n",
        "        total *= arg\n",
        "    return total\n",
        "\n",
        "def sub(*num):\n",
        "    if not num:\n",
        "        return 0\n",
        "    total = num[0]\n",
        "    for arg in num[1:]:\n",
        "        total -= arg\n",
        "    return total\n",
        "\n",
        "def div(*num):\n",
        "    if not num:\n",
        "        return 0\n",
        "    total = num[0]\n",
        "    for arg in num[1:]:\n",
        "        if arg != 0:\n",
        "            total /= arg\n",
        "        else:\n",
        "            return \"Cannot divide by zero\"\n",
        "    return total\n",
        "\n",
        "def mod(*num):\n",
        "    if not num:\n",
        "        return 0\n",
        "    total = num[0]\n",
        "    for arg in num[1:]:\n",
        "        total %= arg\n",
        "    return total\n",
        "\n",
        "print(\"\"\"Select an option (operator):\n",
        "\n",
        "    Press (+) for addition\n",
        "    Press (-) for subtraction\n",
        "    Press (*) for multiplication\n",
        "    Press (/) for division\n",
        "    Press (%) for modulus\n",
        "\"\"\")\n",
        "\n",
        "while True:\n",
        "    io = input(\"Enter the operator: \")\n",
        "    if io in ['+', '-', '*', '/', '%']:\n",
        "        numbers = input(\"Enter the numbers separated by a comma: \").split(',')\n",
        "        numbers = [int(num) for num in numbers]\n",
        "\n",
        "        if io == \"+\":\n",
        "            print(\"Result:\", add(*numbers))\n",
        "        elif io == \"-\":\n",
        "            print(\"Result:\", sub(*numbers))\n",
        "        elif io == \"*\":\n",
        "            print(\"Result:\", mul(*numbers))\n",
        "        elif io == \"/\":\n",
        "            print(\"Result:\", div(*numbers))\n",
        "        elif io == \"%\":\n",
        "            print(\"Result:\", mod(*numbers))\n",
        "    else:\n",
        "        print(\"Invalid operator. Please try again.\")\n",
        "\n",
        "    cont = input(\"Do you want to perform another operation? (yes/no): \")\n",
        "    if cont.lower() != 'yes':\n",
        "        break\n",
        "\n",
        "print(\"You chose the right operator\")\n"
      ],
      "metadata": {
        "colab": {
          "base_uri": "https://localhost:8080/"
        },
        "id": "w1guMPQL3yiv",
        "outputId": "6802faec-e2f9-4673-cad1-ce445bff611d"
      },
      "execution_count": null,
      "outputs": [
        {
          "output_type": "stream",
          "name": "stdout",
          "text": [
            "Select an option (operator):\n",
            "\n",
            "    Press (+) for addition\n",
            "    Press (-) for subtraction\n",
            "    Press (*) for multiplication\n",
            "    Press (/) for division\n",
            "    Press (%) for modulus\n",
            "\n",
            "Enter the operator: +\n",
            "Enter the numbers separated by a comma: 1,5,7,2\n",
            "Result: 15\n",
            "Do you want to perform another operation? (yes/no): yes\n",
            "Enter the operator: -\n",
            "Enter the numbers separated by a comma: 1,8,9\n",
            "Result: -16\n",
            "Do you want to perform another operation? (yes/no): no\n",
            "You chose the right operator\n"
          ]
        }
      ]
    },
    {
      "cell_type": "markdown",
      "source": [
        "\n",
        "\n",
        "---\n",
        "\n",
        "\n",
        "\n",
        "---\n",
        "\n",
        "\n",
        "\n",
        "---\n",
        "\n"
      ],
      "metadata": {
        "id": "-uqHQtWNAC9i"
      }
    },
    {
      "cell_type": "markdown",
      "source": [
        "."
      ],
      "metadata": {
        "id": "fCqTXP6JAL7W"
      }
    },
    {
      "cell_type": "markdown",
      "source": [
        "**Array**"
      ],
      "metadata": {
        "id": "J3kuoK6OANFo"
      }
    },
    {
      "cell_type": "markdown",
      "source": [
        "."
      ],
      "metadata": {
        "id": "RUGu5S5uAOj8"
      }
    },
    {
      "cell_type": "markdown",
      "source": [
        "\n",
        "\n",
        "---\n",
        "\n",
        "\n",
        "---\n",
        "\n",
        "\n",
        "\n",
        "---\n",
        "\n"
      ],
      "metadata": {
        "id": "owdieVfBAP2d"
      }
    },
    {
      "cell_type": "markdown",
      "source": [
        "\"\"\" 1. Python Program to nd sum of array\"\"\""
      ],
      "metadata": {
        "id": "EtFfPdhyAWLQ"
      }
    },
    {
      "cell_type": "code",
      "source": [
        "def sumOfArray(array):\n",
        "  sum=0\n",
        "  for i in array:\n",
        "    sum=sum+i\n",
        "  print(sum)\n",
        "array=map(int,input(\"Enter the array seprated with a comma \").split(\",\"))\n",
        "sumOfArray(array)"
      ],
      "metadata": {
        "colab": {
          "base_uri": "https://localhost:8080/"
        },
        "id": "mtKS22ajMude",
        "outputId": "3a66b57f-ab32-42ba-b17c-3255616ec67b"
      },
      "execution_count": null,
      "outputs": [
        {
          "output_type": "stream",
          "name": "stdout",
          "text": [
            "Enter the array seprated with a comma 1,3,6\n",
            "10\n"
          ]
        }
      ]
    },
    {
      "cell_type": "markdown",
      "source": [
        "\"\"\" 2. Python Program to  largest element in an array\"\"\""
      ],
      "metadata": {
        "id": "O5xTBv8eAZGE"
      }
    },
    {
      "cell_type": "code",
      "source": [
        "def largestElement(array):\n",
        "  return max(array)\n",
        "array=map(int,input(\"Enter the array seprated with a comma \").split(\",\"))\n",
        "print(largestElement(array))"
      ],
      "metadata": {
        "colab": {
          "base_uri": "https://localhost:8080/"
        },
        "id": "iyZclxZlOG0p",
        "outputId": "e88a2ee7-43eb-46c1-bb9d-9d4157383718"
      },
      "execution_count": null,
      "outputs": [
        {
          "output_type": "stream",
          "name": "stdout",
          "text": [
            "Enter the array seprated with a comma 1,7,9\n",
            "9\n"
          ]
        }
      ]
    },
    {
      "cell_type": "code",
      "source": [
        "def largestElement1(array):\n",
        "    if not array:  # Check if the array is empty\n",
        "        return None\n",
        "\n",
        "    largest = array[0]  # Initialize the largest element as the first element\n",
        "    for num in array:\n",
        "        if num > largest:\n",
        "            largest = num\n",
        "\n",
        "    print(f\"Largest element: {largest}\")\n",
        "\n",
        "array1 = [1, 3, 6, 9]\n",
        "largestElement1(array1)\n"
      ],
      "metadata": {
        "colab": {
          "base_uri": "https://localhost:8080/"
        },
        "id": "xxFkAaST9udo",
        "outputId": "5f962e95-d5cc-4969-a58f-493e2a0ccccb"
      },
      "execution_count": null,
      "outputs": [
        {
          "output_type": "stream",
          "name": "stdout",
          "text": [
            "Largest element: 9\n"
          ]
        }
      ]
    },
    {
      "cell_type": "code",
      "source": [
        "def largestElement2(array):\n",
        "  array.sort()\n",
        "  return array[-1]\n",
        "array2 = [1, 3, 6, 930,99]\n",
        "largestElement2(array2)"
      ],
      "metadata": {
        "colab": {
          "base_uri": "https://localhost:8080/"
        },
        "id": "osBjVn82l4BS",
        "outputId": "d63a50d4-9a01-4412-96f4-702a7586090e"
      },
      "execution_count": null,
      "outputs": [
        {
          "output_type": "execute_result",
          "data": {
            "text/plain": [
              "930"
            ]
          },
          "metadata": {},
          "execution_count": 7
        }
      ]
    },
    {
      "cell_type": "markdown",
      "source": [
        "\"\"\" 2. Python Program to 2nd largest element in an array\"\"\""
      ],
      "metadata": {
        "id": "XQaodWyamyHW"
      }
    },
    {
      "cell_type": "code",
      "source": [
        "def secondLargestElement(arr3):\n",
        "  arr3.sort()\n",
        "  return arr3[-2]\n",
        "arr3=[1,6,77,99,786,678,97]\n",
        "secondLargestElement(arr3)"
      ],
      "metadata": {
        "colab": {
          "base_uri": "https://localhost:8080/"
        },
        "id": "addJNvfOmzXw",
        "outputId": "46bc125b-8aa5-46c4-a65a-c4ff0ee0bc23"
      },
      "execution_count": null,
      "outputs": [
        {
          "output_type": "execute_result",
          "data": {
            "text/plain": [
              "678"
            ]
          },
          "metadata": {},
          "execution_count": 10
        }
      ]
    },
    {
      "cell_type": "markdown",
      "source": [
        "\"\"\" 3. Python Program for array rotation\"\"\""
      ],
      "metadata": {
        "id": "As7pxLbzAZ0q"
      }
    },
    {
      "cell_type": "code",
      "source": [
        "def rotationArray(k, array):\n",
        "    n = len(array)\n",
        "    k = k % n\n",
        "    rotated_array = array[-k:] + array[:-k]\n",
        "    for elem in rotated_array:\n",
        "        print(elem)\n",
        "\n",
        "\n",
        "arr2 = [1,2,3,4,5,6,7]\n",
        "k = 1\n",
        "rotationArray(k, arr2)\n"
      ],
      "metadata": {
        "colab": {
          "base_uri": "https://localhost:8080/"
        },
        "id": "8r-7cr1MA6Rh",
        "outputId": "16548739-c5db-4974-e766-8a1fcf1c3c0b"
      },
      "execution_count": null,
      "outputs": [
        {
          "output_type": "stream",
          "name": "stdout",
          "text": [
            "7\n",
            "1\n",
            "2\n",
            "3\n",
            "4\n",
            "5\n",
            "6\n"
          ]
        }
      ]
    },
    {
      "cell_type": "code",
      "source": [
        "def rotationArray(k, array):\n",
        "    n = len(array)\n",
        "    k = k % n\n",
        "    rotated_array = array[k:] + array[:k]\n",
        "    for elem in rotated_array:\n",
        "        print(elem)\n",
        "\n",
        "\n",
        "arr2 = [1,2,3,4,5,6,7]\n",
        "k = 1\n",
        "rotationArray(k, arr2)\n"
      ],
      "metadata": {
        "colab": {
          "base_uri": "https://localhost:8080/"
        },
        "id": "wFYoeKVIUgH_",
        "outputId": "8524883d-1d2b-4ce7-ec3c-edb5e5573f4e"
      },
      "execution_count": null,
      "outputs": [
        {
          "output_type": "stream",
          "name": "stdout",
          "text": [
            "2\n",
            "3\n",
            "4\n",
            "5\n",
            "6\n",
            "7\n",
            "1\n"
          ]
        }
      ]
    },
    {
      "cell_type": "markdown",
      "source": [
        "\"\"\" 4. Python Program for Reversal algorithm for array rotation\"\"\"\n",
        "\n"
      ],
      "metadata": {
        "id": "Utyif3B5AcgW"
      }
    },
    {
      "cell_type": "code",
      "source": [],
      "metadata": {
        "id": "vF1VcxbtFBEc"
      },
      "execution_count": null,
      "outputs": []
    },
    {
      "cell_type": "markdown",
      "source": [
        "\"\"\" 5. Python Program to Split the array and add the rst part to the end\"\"\""
      ],
      "metadata": {
        "id": "rWRbq6v9AfvF"
      }
    },
    {
      "cell_type": "markdown",
      "source": [
        "\"\"\" 6. Python Program for Find reminder of array multiplication divided by n\"\"\"\n"
      ],
      "metadata": {
        "id": "QncjgoBGAmJk"
      }
    },
    {
      "cell_type": "markdown",
      "source": [
        "\"\"\" 7. Python Program to check if given array is Monotonic\"\"\"\n"
      ],
      "metadata": {
        "id": "y2sDlTxDAnUM"
      }
    },
    {
      "cell_type": "markdown",
      "source": [
        "\"\"\" 8. Python Program for array rotation\"\"\""
      ],
      "metadata": {
        "id": "knuJe4zSAqYw"
      }
    },
    {
      "cell_type": "markdown",
      "source": [
        "\"\"\" 9. Python Program for nth array rotation\"\"\""
      ],
      "metadata": {
        "id": "9ZYyUqeMAyps"
      }
    },
    {
      "cell_type": "markdown",
      "source": [
        "\n",
        "\n",
        "---\n",
        "\n",
        "\n",
        "\n",
        "---\n",
        "\n",
        "\n",
        "\n",
        "---\n",
        "\n"
      ],
      "metadata": {
        "id": "KfpS4E0sA07r"
      }
    },
    {
      "cell_type": "markdown",
      "source": [
        "."
      ],
      "metadata": {
        "id": "0gMPlzmQA6lg"
      }
    },
    {
      "cell_type": "markdown",
      "source": [
        "**List**"
      ],
      "metadata": {
        "id": "Q66LfECmA7Tl"
      }
    },
    {
      "cell_type": "markdown",
      "source": [
        "."
      ],
      "metadata": {
        "id": "svngJoXpA8IU"
      }
    },
    {
      "cell_type": "markdown",
      "source": [
        "\n",
        "\n",
        "---\n",
        "\n",
        "\n",
        "\n",
        "---\n",
        "\n",
        "\n",
        "\n",
        "---\n",
        "\n"
      ],
      "metadata": {
        "id": "0ZRhGEAMA85w"
      }
    },
    {
      "cell_type": "markdown",
      "source": [
        "\"\"\" 1. Python program to interchange first and last elements in a list\"\"\""
      ],
      "metadata": {
        "id": "NKRjHZqSBEb-"
      }
    },
    {
      "cell_type": "code",
      "source": [
        "def interchange(list):\n",
        "    k=list[0]\n",
        "    list[0]=list[-1]\n",
        "    list[-1]=k\n",
        "    return list\n",
        "\n",
        "\n",
        "arr3 = [1,2,3,4,5,6,7]\n",
        "interchange(arr3)"
      ],
      "metadata": {
        "colab": {
          "base_uri": "https://localhost:8080/"
        },
        "id": "ID28jrWeSrew",
        "outputId": "69aab32a-27a2-40e8-c18f-0682807884e8"
      },
      "execution_count": null,
      "outputs": [
        {
          "output_type": "execute_result",
          "data": {
            "text/plain": [
              "[7, 2, 3, 4, 5, 6, 1]"
            ]
          },
          "metadata": {},
          "execution_count": 4
        }
      ]
    },
    {
      "cell_type": "markdown",
      "source": [
        "\"\"\" 2. Python program to swap two elements in a list\"\"\""
      ],
      "metadata": {
        "id": "OCCOnkuVB8CS"
      }
    },
    {
      "cell_type": "code",
      "source": [
        "def swapTwoElement(my_list,pos1,pos2):\n",
        "    k=my_list[pos1-1]\n",
        "    my_list[pos1-1]=my_list[pos2-1]\n",
        "    my_list[pos2-1]=k\n",
        "    return my_list\n",
        "pos1=int(input(\"Enter the first position \"))\n",
        "pos2=int(input(\"Enter the second position \"))\n",
        "\n",
        "arr3 = [1,2,3,4,5,6,7]\n",
        "swapTwoElement(arr3,pos1,pos2)"
      ],
      "metadata": {
        "colab": {
          "base_uri": "https://localhost:8080/"
        },
        "id": "_nQSxTxax6ZH",
        "outputId": "203b0314-2459-47cf-c6c6-7f086ab565ea"
      },
      "execution_count": null,
      "outputs": [
        {
          "name": "stdout",
          "output_type": "stream",
          "text": [
            "Enter the first position 1\n",
            "Enter the second position 3\n"
          ]
        },
        {
          "output_type": "execute_result",
          "data": {
            "text/plain": [
              "[3, 2, 1, 4, 5, 6, 7]"
            ]
          },
          "metadata": {},
          "execution_count": 4
        }
      ]
    },
    {
      "cell_type": "markdown",
      "source": [
        "\"\"\" 3. Python | Ways to nd length of list\"\"\""
      ],
      "metadata": {
        "id": "vjXKRE7TB-nc"
      }
    },
    {
      "cell_type": "code",
      "source": [
        "def lengthOfList(my_list1):\n",
        "  return len(my_list1)\n",
        "arr3 = [1,2,3,4,5,6,7]\n",
        "lengthOfList(arr3)\n"
      ],
      "metadata": {
        "colab": {
          "base_uri": "https://localhost:8080/"
        },
        "id": "IpaXihJKyVXy",
        "outputId": "489fe935-0a49-4731-a579-2722a1aea0c1"
      },
      "execution_count": null,
      "outputs": [
        {
          "output_type": "execute_result",
          "data": {
            "text/plain": [
              "7"
            ]
          },
          "metadata": {},
          "execution_count": 7
        }
      ]
    },
    {
      "cell_type": "code",
      "source": [
        "LI=[1,2,5,7]\n",
        "len(LI)\n"
      ],
      "metadata": {
        "colab": {
          "base_uri": "https://localhost:8080/"
        },
        "id": "pMWKsfP7yl7g",
        "outputId": "5c6d2fc1-1464-455b-b4a8-cf1fbfdd36c7"
      },
      "execution_count": null,
      "outputs": [
        {
          "output_type": "execute_result",
          "data": {
            "text/plain": [
              "4"
            ]
          },
          "metadata": {},
          "execution_count": 6
        }
      ]
    },
    {
      "cell_type": "markdown",
      "source": [
        "\"\"\" 4. Python | Ways to check if element exists in list\"\"\""
      ],
      "metadata": {
        "id": "Gd3UpnsrCAtu"
      }
    },
    {
      "cell_type": "markdown",
      "source": [
        "\"\"\"5. Different ways to clear a list in Python\"\"\""
      ],
      "metadata": {
        "id": "HiPEo_w5CC5x"
      }
    },
    {
      "cell_type": "markdown",
      "source": [
        "\"\"\" 6. Python | Reversing a List\"\"\""
      ],
      "metadata": {
        "id": "LWm0CMaZCFLG"
      }
    },
    {
      "cell_type": "markdown",
      "source": [
        "\"\"\"7. Python program to nd sum of elements in list\"\"\""
      ],
      "metadata": {
        "id": "ougB2D-pCHfy"
      }
    },
    {
      "cell_type": "markdown",
      "source": [
        "\"\"\" 8. Python | Multiply all numbers in the list\"\"\""
      ],
      "metadata": {
        "id": "NUnvct8TCJid"
      }
    },
    {
      "cell_type": "markdown",
      "source": [
        "\"\"\" 9. Python program to nd smallest number in a list\"\"\""
      ],
      "metadata": {
        "id": "PNSLDtVoCLZB"
      }
    },
    {
      "cell_type": "markdown",
      "source": [
        "\"\"\"10. Python program to nd largest number in a list\"\"\""
      ],
      "metadata": {
        "id": "EhY12eE_CNzI"
      }
    },
    {
      "cell_type": "markdown",
      "source": [
        "\"\"\" 11. Python program to nd second largest number in a list\"\"\""
      ],
      "metadata": {
        "id": "zvO3Jjf5CQ7G"
      }
    },
    {
      "cell_type": "markdown",
      "source": [
        "\"\"\" 12. Python program to nd N largest elements from a list\"\"\""
      ],
      "metadata": {
        "id": "nhe7EKF6CToU"
      }
    },
    {
      "cell_type": "markdown",
      "source": [
        "\"\"\" 13. Python program to print even numbers in a list\"\"\""
      ],
      "metadata": {
        "id": "n1D68LrhCV-v"
      }
    },
    {
      "cell_type": "markdown",
      "source": [
        "\"\"\" 14. Python program to print odd numbers in a List\"\"\""
      ],
      "metadata": {
        "id": "rErY7Ba9CX8u"
      }
    },
    {
      "cell_type": "markdown",
      "source": [
        "\"\"\" 15. Python program to print all even numbers in a range\"\"\""
      ],
      "metadata": {
        "id": "f8m1kuF8CaNT"
      }
    },
    {
      "cell_type": "markdown",
      "source": [
        "\"\"\" 16. Python program to print all odd numbers in a range\"\"\""
      ],
      "metadata": {
        "id": "IcBpZvN2Cc5I"
      }
    },
    {
      "cell_type": "markdown",
      "source": [
        "\"\"\" 17. Python program to print positive numbers in a list\"\"\""
      ],
      "metadata": {
        "id": "ddH3-xWfCfuq"
      }
    },
    {
      "cell_type": "markdown",
      "source": [
        "\"\"\" 18. Python program to print negative numbers in a list\"\"\""
      ],
      "metadata": {
        "id": "6uMtC2JDCiH9"
      }
    },
    {
      "cell_type": "markdown",
      "source": [
        "\"\"\" 19. Python program to print all positive numbers in a range\"\"\""
      ],
      "metadata": {
        "id": "fx3VFtUhCj_h"
      }
    },
    {
      "cell_type": "markdown",
      "source": [
        "\"\"\"20. Python program to print all negative numbers in a range\"\"\""
      ],
      "metadata": {
        "id": "om8Era3yCl5P"
      }
    },
    {
      "cell_type": "markdown",
      "source": [
        "\"\"\" 21. Remove multiple elements from a list in Python\"\"\""
      ],
      "metadata": {
        "id": "gi2pq8LpCn8i"
      }
    },
    {
      "cell_type": "markdown",
      "source": [
        "\"\"\" 22. Python - Remove empty List from Lis\"\"\""
      ],
      "metadata": {
        "id": "35451WKtCp2X"
      }
    },
    {
      "cell_type": "markdown",
      "source": [
        "\"\"\" 23. Python | Cloning or Copying a list\"\"\""
      ],
      "metadata": {
        "id": "cz57Wo_TCsup"
      }
    },
    {
      "cell_type": "markdown",
      "source": [
        "\"\"\" 24. Python | Count occurrences of an element in a list\"\"\""
      ],
      "metadata": {
        "id": "JZ2dfzrYCu9p"
      }
    },
    {
      "cell_type": "markdown",
      "source": [
        "\"\"\" 25. Python | Remove empty tuples from a list\"\"\""
      ],
      "metadata": {
        "id": "ZadsqYDhCx7o"
      }
    },
    {
      "cell_type": "markdown",
      "source": [
        "\"\"\" 26. Python | Program to print duplicates from a list of integers\"\"\""
      ],
      "metadata": {
        "id": "ZtLNxzWOCz_b"
      }
    },
    {
      "cell_type": "markdown",
      "source": [
        "\"\"\" 27. Python program to nd Cumulative sum of a list\"\"\""
      ],
      "metadata": {
        "id": "RnBFhr9PC1_H"
      }
    },
    {
      "cell_type": "markdown",
      "source": [
        "\"\"\" 28. Python | Sum of number digits in List\"\"\""
      ],
      "metadata": {
        "id": "-PC6G-ZNC4Hn"
      }
    },
    {
      "cell_type": "markdown",
      "source": [
        "\"\"\" 29. Break a list into chunks of size N in Python\"\"\""
      ],
      "metadata": {
        "id": "mg6c_-igC6Tj"
      }
    },
    {
      "cell_type": "markdown",
      "source": [
        "\"\"\" 30. Python | Sort the values of frst list using second list\"\"\"\n"
      ],
      "metadata": {
        "id": "9PMirI0HC8jC"
      }
    },
    {
      "cell_type": "markdown",
      "source": [
        "\n",
        "\n",
        "---\n",
        "\n",
        "\n",
        "\n",
        "---\n",
        "\n",
        "\n",
        "\n",
        "---\n",
        "\n"
      ],
      "metadata": {
        "id": "orj3MD32DPGa"
      }
    },
    {
      "cell_type": "markdown",
      "source": [
        "."
      ],
      "metadata": {
        "id": "9iVR8aMIC-Yr"
      }
    },
    {
      "cell_type": "markdown",
      "source": [
        "**Matrix**"
      ],
      "metadata": {
        "id": "GgphWE0UDIEJ"
      }
    },
    {
      "cell_type": "markdown",
      "source": [
        "."
      ],
      "metadata": {
        "id": "3l76oAWkDLqt"
      }
    },
    {
      "cell_type": "markdown",
      "source": [
        "\n",
        "\n",
        "---\n",
        "\n",
        "\n",
        "\n",
        "---\n",
        "\n",
        "\n",
        "\n",
        "---\n",
        "\n"
      ],
      "metadata": {
        "id": "Y5UmadvcDEsp"
      }
    },
    {
      "cell_type": "markdown",
      "source": [
        "\"\"\" 1. Python program to add two Matrices\"\"\""
      ],
      "metadata": {
        "id": "0-JqKKy5DRyR"
      }
    },
    {
      "cell_type": "markdown",
      "source": [
        "\"\"\"2. Python program to multiply two matrices\"\"\""
      ],
      "metadata": {
        "id": "WL-N6CNFDTco"
      }
    },
    {
      "cell_type": "markdown",
      "source": [
        "\"\"\" 3. Python program for Matrix Product\"\"\""
      ],
      "metadata": {
        "id": "Yr_nXLD1DVmG"
      }
    },
    {
      "cell_type": "markdown",
      "source": [
        "\"\"\"4. Adding and Subtracting Matrices in Python\"\"\""
      ],
      "metadata": {
        "id": "XUsDH8f1DXvB"
      }
    },
    {
      "cell_type": "markdown",
      "source": [
        "\"\"\" 5. Transpose a matrix in Single line in Python\"\"\""
      ],
      "metadata": {
        "id": "uN9pLrzJDZhp"
      }
    },
    {
      "cell_type": "markdown",
      "source": [
        "\"\"\"6. Python | Matrix creation of n*n\"\"\""
      ],
      "metadata": {
        "id": "__Bqenr0DbYd"
      }
    },
    {
      "cell_type": "markdown",
      "source": [
        "\"\"\" 7. Python | Get Kth Column of Matrix\"\"\"\n"
      ],
      "metadata": {
        "id": "5fkVlJS8DdYS"
      }
    },
    {
      "cell_type": "markdown",
      "source": [
        "\"\"\" 8. Python – Vertical Concatenation in Matrix\"\"\""
      ],
      "metadata": {
        "id": "Mplqm0ISDgxF"
      }
    },
    {
      "cell_type": "markdown",
      "source": [
        "\n",
        "\n",
        "---\n",
        "\n",
        "\n",
        "\n",
        "---\n",
        "\n",
        "\n",
        "\n",
        "---\n",
        "\n"
      ],
      "metadata": {
        "id": "yneg2iRtDjI3"
      }
    },
    {
      "cell_type": "markdown",
      "source": [
        "."
      ],
      "metadata": {
        "id": "NJr9o6W1DyBq"
      }
    },
    {
      "cell_type": "markdown",
      "source": [
        "**String**"
      ],
      "metadata": {
        "id": "otbiUUFDDyo_"
      }
    },
    {
      "cell_type": "markdown",
      "source": [
        "."
      ],
      "metadata": {
        "id": "T0xQB0tUD3ct"
      }
    },
    {
      "cell_type": "markdown",
      "source": [
        "\n",
        "\n",
        "---\n",
        "\n",
        "\n",
        "\n",
        "---\n",
        "\n",
        "\n",
        "\n",
        "---\n",
        "\n"
      ],
      "metadata": {
        "id": "ohuqtRvBD4TV"
      }
    },
    {
      "cell_type": "markdown",
      "source": [
        "\"\"\" 1. Python program to check if a string is palindrome or not\"\"\""
      ],
      "metadata": {
        "id": "w9T5cLhFD6V6"
      }
    },
    {
      "cell_type": "markdown",
      "source": [
        "\"\"\" 2. Python program to check whether the string is Symmetrical or Palindrome\"\"\""
      ],
      "metadata": {
        "id": "QQ7ylwRVEE5Y"
      }
    },
    {
      "cell_type": "markdown",
      "source": [
        "\"\"\"3. Reverse words in a given String in Python\"\"\""
      ],
      "metadata": {
        "id": "TC31UGIWEGyz"
      }
    },
    {
      "cell_type": "markdown",
      "source": [
        "\"\"\" 4. Ways to remove i’th character from string in Python\"\"\""
      ],
      "metadata": {
        "id": "knTCuo0sEImk"
      }
    },
    {
      "cell_type": "markdown",
      "source": [
        "\"\"\"5. Python | Check if a Substring is Present in a Given String\"\"\""
      ],
      "metadata": {
        "id": "qvV1WgnhEKqd"
      }
    },
    {
      "cell_type": "markdown",
      "source": [
        "\"\"\"6. Python - Words Frequency in String Shorthands\"\"\""
      ],
      "metadata": {
        "id": "rwQb0GZ7EOHN"
      }
    },
    {
      "cell_type": "markdown",
      "source": [
        "\"\"\" 7. Python - Convert Snake case to Pascal case\"\"\""
      ],
      "metadata": {
        "id": "FEhwjbJsERW7"
      }
    },
    {
      "cell_type": "markdown",
      "source": [
        "\"\"\" 8. Find length of a string in python (4 ways)\"\"\""
      ],
      "metadata": {
        "id": "_9OJNAlKEWpR"
      }
    },
    {
      "cell_type": "markdown",
      "source": [
        "\"\"\"9. Python program to print even length words in a string\"\"\""
      ],
      "metadata": {
        "id": "y4-8UIkQEYtl"
      }
    },
    {
      "cell_type": "markdown",
      "source": [
        "\"\"\" 10. Python program to accept the strings which contains all vowels\"\"\""
      ],
      "metadata": {
        "id": "rPonvVUjEbk8"
      }
    },
    {
      "cell_type": "markdown",
      "source": [
        "\"\"\"11. Python | Count the Number of matching characters in a pair of string\"\"\""
      ],
      "metadata": {
        "id": "k8sfoDBbEdhG"
      }
    },
    {
      "cell_type": "markdown",
      "source": [
        "\"\"\" 12. Remove all duplicates from a given string in Python\"\"\""
      ],
      "metadata": {
        "id": "kxXINz7bEfZx"
      }
    },
    {
      "cell_type": "markdown",
      "source": [
        "\"\"\"13. Python - Least Frequent Character in String\"\"\""
      ],
      "metadata": {
        "id": "3JPEICuMEiHF"
      }
    },
    {
      "cell_type": "markdown",
      "source": [
        "\"\"\"14. Python | Maximum frequency character in String\"\"\""
      ],
      "metadata": {
        "id": "ivZoDXnuElOK"
      }
    },
    {
      "cell_type": "markdown",
      "source": [
        "\"\"\" 15. Python | Program to check if a string contains any special character\"\"\""
      ],
      "metadata": {
        "id": "H5OyYBzAEnRZ"
      }
    },
    {
      "cell_type": "markdown",
      "source": [
        "\"\"\"16. Generating random strings until a given string is generated\"\"\""
      ],
      "metadata": {
        "id": "G0w_oOeJEq8Y"
      }
    },
    {
      "cell_type": "markdown",
      "source": [
        "\"\"\"17. Find words which are greater than given length k\"\"\""
      ],
      "metadata": {
        "id": "RhSIDCIrEs68"
      }
    },
    {
      "cell_type": "markdown",
      "source": [
        "\"\"\"18. Python program for removing i-th character from a string\"\"\""
      ],
      "metadata": {
        "id": "Ikizib2KEuzz"
      }
    },
    {
      "cell_type": "markdown",
      "source": [
        "\"\"\"19. Python program to split and join a string\"\"\""
      ],
      "metadata": {
        "id": "N1seoKxLEwrx"
      }
    },
    {
      "cell_type": "markdown",
      "source": [
        "\"\"\"20. Python | Check if a given string is binary string or not\"\"\""
      ],
      "metadata": {
        "id": "toVvzcQVEyoA"
      }
    },
    {
      "cell_type": "markdown",
      "source": [
        "\"\"\"21. Python program to nd uncommon words from two Strings\"\"\""
      ],
      "metadata": {
        "id": "NiGcPVcSE0fp"
      }
    },
    {
      "cell_type": "markdown",
      "source": [
        "\"\"\"22. Python - Replace duplicate Occurrence in String\"\"\""
      ],
      "metadata": {
        "id": "chOSqIcIE2c9"
      }
    },
    {
      "cell_type": "markdown",
      "source": [
        "\"\"\"23. Python - Replace multiple words with K\"\"\""
      ],
      "metadata": {
        "id": "Uo9nci90E5nW"
      }
    },
    {
      "cell_type": "markdown",
      "source": [
        "\"\"\"24. Python | Permutation of a given string using inbuilt function\"\"\""
      ],
      "metadata": {
        "id": "jrFauItNE84s"
      }
    },
    {
      "cell_type": "markdown",
      "source": [
        "\"\"\" 25. Python | Check for URL in a String\"\"\""
      ],
      "metadata": {
        "id": "szjMfPHBE-3O"
      }
    },
    {
      "cell_type": "markdown",
      "source": [
        "\"\"\"26. Execute a String of Code in Python\"\"\""
      ],
      "metadata": {
        "id": "iFPzCctYFAuk"
      }
    },
    {
      "cell_type": "markdown",
      "source": [
        "\"\"\" 27. String slicing in Python to rotate a string\"\"\""
      ],
      "metadata": {
        "id": "sWn8wz6qFDO4"
      }
    },
    {
      "cell_type": "markdown",
      "source": [
        "\"\"\" 28. String slicing in Python to check if a string can become empty by recursive deletion\"\"\""
      ],
      "metadata": {
        "id": "9WgvzLe4FFA_"
      }
    },
    {
      "cell_type": "markdown",
      "source": [
        "\"\"\" 29. Python Counter| Find all duplicate characters in string\"\"\""
      ],
      "metadata": {
        "id": "XICp7fiKFHaZ"
      }
    },
    {
      "cell_type": "markdown",
      "source": [
        "\"\"\" 30. Python - Replace all occurrences of a substring in a string\"\"\""
      ],
      "metadata": {
        "id": "qHopV9gvFJOb"
      }
    },
    {
      "cell_type": "markdown",
      "source": [
        "\n",
        "\n",
        "---\n",
        "\n",
        "\n",
        "\n",
        "---\n",
        "\n",
        "\n",
        "\n",
        "---\n",
        "\n"
      ],
      "metadata": {
        "id": "DtWKACaRFMTZ"
      }
    },
    {
      "cell_type": "markdown",
      "source": [
        "."
      ],
      "metadata": {
        "id": "MVovMcINFPMA"
      }
    },
    {
      "cell_type": "markdown",
      "source": [
        "**Dictionary**"
      ],
      "metadata": {
        "id": "DGz9dXXHFQGL"
      }
    },
    {
      "cell_type": "markdown",
      "source": [
        "."
      ],
      "metadata": {
        "id": "yWpchmWpFZ0d"
      }
    },
    {
      "cell_type": "markdown",
      "source": [
        "\n",
        "\n",
        "---\n",
        "\n",
        "\n",
        "\n",
        "---\n",
        "\n",
        "\n",
        "\n",
        "---\n",
        "\n"
      ],
      "metadata": {
        "id": "-LlV4H_XFass"
      }
    },
    {
      "cell_type": "markdown",
      "source": [
        "\"\"\"1. Python - Extract Unique values dictionary values\"\"\""
      ],
      "metadata": {
        "id": "QbJo-9_zFcAJ"
      }
    },
    {
      "cell_type": "markdown",
      "source": [
        "\"\"\" 2. Python program to nd the sum of all items in a dictionary\"\"\""
      ],
      "metadata": {
        "id": "oEuzFjgrFiBi"
      }
    },
    {
      "cell_type": "markdown",
      "source": [
        "\"\"\" 3. Python | Ways to remove a key from dictionary\"\"\""
      ],
      "metadata": {
        "id": "fROejJpaFj96"
      }
    },
    {
      "cell_type": "markdown",
      "source": [
        "\"\"\" 4. Ways to sort list of dictionaries by values in Python - Using itemgetter\"\"\""
      ],
      "metadata": {
        "id": "fjux4ManFmMf"
      }
    },
    {
      "cell_type": "markdown",
      "source": [
        "\"\"\"5. Ways to sort list of dictionaries by values in Python - Using lambda function\"\"\""
      ],
      "metadata": {
        "id": "fFN-O2JyFpMA"
      }
    },
    {
      "cell_type": "markdown",
      "source": [
        "\"\"\" 6. Python | Merging two Dictionaries\"\"\""
      ],
      "metadata": {
        "id": "so5QXSLdFrKp"
      }
    },
    {
      "cell_type": "markdown",
      "source": [
        "\"\"\" 7. Python - Convert key-values list to at dictionary\"\"\""
      ],
      "metadata": {
        "id": "Ig7BqLfcFtA-"
      }
    },
    {
      "cell_type": "markdown",
      "source": [
        "\"\"\" 8. Python - Insertion at the beginning in OrderedDict\"\"\""
      ],
      "metadata": {
        "id": "Sm7Oy1BQFvxn"
      }
    },
    {
      "cell_type": "markdown",
      "source": [
        "\"\"\" 9. Python | Check order of character in string using OrderedDict( )\"\"\""
      ],
      "metadata": {
        "id": "r6s9Kv8gFyYI"
      }
    },
    {
      "cell_type": "markdown",
      "source": [
        "\"\"\"10. Dictionary and counter in Python to nd winner of election\"\"\""
      ],
      "metadata": {
        "id": "-Apo4HnwF0z-"
      }
    },
    {
      "cell_type": "markdown",
      "source": [
        "\"\"\" 11. Python - Append Dictionary Keys and Values ( In order ) in dictionary\"\"\""
      ],
      "metadata": {
        "id": "FCi8I5VpF3C1"
      }
    },
    {
      "cell_type": "markdown",
      "source": [
        "\"\"\"12. Python | Sort Python Dictionaries by Key or Value\"\"\""
      ],
      "metadata": {
        "id": "aLvJwJdnF4_U"
      }
    },
    {
      "cell_type": "markdown",
      "source": [
        "\"\"\"13. Python – Sort Dictionary key and values List\"\"\""
      ],
      "metadata": {
        "id": "iNJYCySoF69a"
      }
    },
    {
      "cell_type": "markdown",
      "source": [
        "\"\"\"14. Handling missing keys in Python dictionaries\"\"\""
      ],
      "metadata": {
        "id": "pgnnf_jGF8_G"
      }
    },
    {
      "cell_type": "markdown",
      "source": [
        "\"\"\" 15. Python dictionary with keys having multiple inputs\"\"\""
      ],
      "metadata": {
        "id": "vBylt99MF_LZ"
      }
    },
    {
      "cell_type": "markdown",
      "source": [
        "\"\"\"16. Print anagrams together in Python using List and Dictionary\"\"\""
      ],
      "metadata": {
        "id": "YdhhyqUkGBFf"
      }
    },
    {
      "cell_type": "markdown",
      "source": [
        "\"\"\"17. K’th Non-repeating Character in Python using List Comprehension and OrderedDict\"\"\""
      ],
      "metadata": {
        "id": "hiYpECGCGDac"
      }
    },
    {
      "cell_type": "markdown",
      "source": [
        "\"\"\" 18. Check if binary representations of two numbers are anagram\"\"\""
      ],
      "metadata": {
        "id": "aKgmKk43GFbD"
      }
    },
    {
      "cell_type": "markdown",
      "source": [
        "\"\"\"19. Python Counter to nd the size of largest subset of anagram words\"\"\""
      ],
      "metadata": {
        "id": "wFa7_vhkGI4M"
      }
    },
    {
      "cell_type": "markdown",
      "source": [
        "\"\"\" 20. Python | Remove all duplicates words from a given sentence\"\"\""
      ],
      "metadata": {
        "id": "8ZcrNM0tGK2C"
      }
    },
    {
      "cell_type": "markdown",
      "source": [
        "\"\"\"21. Python Dictionary to nd mirror characters in a string\"\"\""
      ],
      "metadata": {
        "id": "_bCFe2qxGMqv"
      }
    },
    {
      "cell_type": "markdown",
      "source": [
        "\"\"\"22. Counting the frequencies in a list using dictionary in Python\"\"\""
      ],
      "metadata": {
        "id": "M67mGOm7GOnN"
      }
    },
    {
      "cell_type": "markdown",
      "source": [
        "\"\"\" 23. Python | Convert a list of Tuples into Dictionary\"\"\""
      ],
      "metadata": {
        "id": "DDWZ6TCmGQwl"
      }
    },
    {
      "cell_type": "markdown",
      "source": [
        "\"\"\" 24. Python counter and dictionary intersection example (Make a string using deletion and rearrangement)\"\"\""
      ],
      "metadata": {
        "id": "5JcPaJv0GSr4"
      }
    },
    {
      "cell_type": "markdown",
      "source": [
        "\"\"\"25. Python dictionary, set and counter to check if frequencies can become same\"\"\""
      ],
      "metadata": {
        "id": "Qrvf-vn0GUw7"
      }
    },
    {
      "cell_type": "markdown",
      "source": [
        "\"\"\" 26. Scraping And Finding Ordered Words In A Dictionary using Python\"\"\""
      ],
      "metadata": {
        "id": "sehGiec8GWwB"
      }
    },
    {
      "cell_type": "markdown",
      "source": [
        "\"\"\"27. Possible Words using given characters in Python\"\"\""
      ],
      "metadata": {
        "id": "QvlVOlprGYqO"
      }
    },
    {
      "cell_type": "markdown",
      "source": [
        "\"\"\" 28. Python – Keys associated with Values in Dictionary \"\"\""
      ],
      "metadata": {
        "id": "XN-ogGDdGaZh"
      }
    },
    {
      "cell_type": "markdown",
      "source": [
        "\n",
        "\n",
        "---\n",
        "\n",
        "\n",
        "\n",
        "---\n",
        "\n",
        "\n",
        "\n",
        "---\n",
        "\n"
      ],
      "metadata": {
        "id": "DbZUkeJPGf48"
      }
    },
    {
      "cell_type": "markdown",
      "source": [
        "."
      ],
      "metadata": {
        "id": "uXNppwk-GhII"
      }
    },
    {
      "cell_type": "markdown",
      "source": [
        "**Tuple**"
      ],
      "metadata": {
        "id": "drerv1czGiAO"
      }
    },
    {
      "cell_type": "markdown",
      "source": [
        "."
      ],
      "metadata": {
        "id": "7TJhWhTSGmSX"
      }
    },
    {
      "cell_type": "markdown",
      "source": [
        "\n",
        "\n",
        "---\n",
        "\n",
        "\n",
        "\n",
        "---\n",
        "\n",
        "\n",
        "\n",
        "---\n",
        "\n"
      ],
      "metadata": {
        "id": "hQq40jMzGnEu"
      }
    },
    {
      "cell_type": "markdown",
      "source": [
        "\"\"\"1. Python program to Find the size of a Tuple\"\"\""
      ],
      "metadata": {
        "id": "KOnTReBLGoQZ"
      }
    },
    {
      "cell_type": "markdown",
      "source": [
        "\"\"\"2. Python – Maximum and Minimum K elements in Tuple\"\"\""
      ],
      "metadata": {
        "id": "k5lXeuBqGuQN"
      }
    },
    {
      "cell_type": "markdown",
      "source": [
        "\"\"\" 3. Create a list of tuples from given list having number and its cube in each tuple\"\"\""
      ],
      "metadata": {
        "id": "5_PghY4eGv_T"
      }
    },
    {
      "cell_type": "markdown",
      "source": [
        "\"\"\" 4. Python – Adding Tuple to List and vice – versa\"\"\""
      ],
      "metadata": {
        "id": "L40SpKFYGxw7"
      }
    },
    {
      "cell_type": "markdown",
      "source": [
        "\"\"\"5. Python – Closest Pair to Kth index element in Tuple\"\"\""
      ],
      "metadata": {
        "id": "7iz8cR4bGz2O"
      }
    },
    {
      "cell_type": "markdown",
      "source": [
        "\"\"\"6. Python – Join Tuples if similar initial element\"\"\""
      ],
      "metadata": {
        "id": "-LvA5A1eG1xu"
      }
    },
    {
      "cell_type": "markdown",
      "source": [
        "\"\"\" 7. Python – Extract digits from Tuple list\"\"\""
      ],
      "metadata": {
        "id": "4gm5suyaG3uj"
      }
    },
    {
      "cell_type": "markdown",
      "source": [
        "\"\"\"8. Python – All pair combinations of 2 tuples\"\"\""
      ],
      "metadata": {
        "id": "9nzoX4gXG5mD"
      }
    },
    {
      "cell_type": "markdown",
      "source": [
        "\"\"\" 9. Python – Remove Tuples of Length K\"\"\""
      ],
      "metadata": {
        "id": "6JxS60bDG84x"
      }
    },
    {
      "cell_type": "markdown",
      "source": [
        "\"\"\"10. Sort a list of tuples by second Item\"\"\""
      ],
      "metadata": {
        "id": "1kFfVJ0iG9fW"
      }
    },
    {
      "cell_type": "markdown",
      "source": [
        "\"\"\" 11. Python program to Order Tuples using external List\"\"\""
      ],
      "metadata": {
        "id": "HI1WKkSxG_kh"
      }
    },
    {
      "cell_type": "markdown",
      "source": [
        "\"\"\" 12. Python – Flatten tuple of List to tuple\"\"\""
      ],
      "metadata": {
        "id": "1XKxFiJTHBdC"
      }
    },
    {
      "cell_type": "markdown",
      "source": [
        "\"\"\"13. Python – Convert Nested Tuple to Custom Key Dictionary\"\"\""
      ],
      "metadata": {
        "id": "C1bB4KrxHDRO"
      }
    },
    {
      "cell_type": "markdown",
      "source": [
        "\n",
        "\n",
        "---\n",
        "\n",
        "---\n",
        "\n",
        "\n",
        "\n",
        "\n",
        "\n",
        "---\n",
        "\n"
      ],
      "metadata": {
        "id": "wtPSiq_vHFKy"
      }
    },
    {
      "cell_type": "markdown",
      "source": [
        "."
      ],
      "metadata": {
        "id": "K1mOyygLHPL1"
      }
    },
    {
      "cell_type": "markdown",
      "source": [
        "**Searching and Sorting**"
      ],
      "metadata": {
        "id": "iunEj80yHP7B"
      }
    },
    {
      "cell_type": "markdown",
      "source": [
        "."
      ],
      "metadata": {
        "id": "9ANQ81hYHWmx"
      }
    },
    {
      "cell_type": "markdown",
      "source": [
        "\n",
        "\n",
        "---\n",
        "\n",
        "\n",
        "\n",
        "---\n",
        "\n",
        "\n",
        "\n",
        "---\n",
        "\n"
      ],
      "metadata": {
        "id": "hphFFBtyHXSd"
      }
    },
    {
      "cell_type": "markdown",
      "source": [
        "\"\"\" 1. Python Program for Binary Search (Recursive and Iterative)\"\"\""
      ],
      "metadata": {
        "id": "pXIuWWcBHY0O"
      }
    },
    {
      "cell_type": "markdown",
      "source": [
        "\"\"\" 2. Python Program for Linear Search \"\"\""
      ],
      "metadata": {
        "id": "ZGr-AP5sHcuI"
      }
    },
    {
      "cell_type": "markdown",
      "source": [
        "\"\"\"3. Python Program for Insertion Sort\"\"\""
      ],
      "metadata": {
        "id": "_DPtMgDEHeoi"
      }
    },
    {
      "cell_type": "markdown",
      "source": [
        "\"\"\" 4. Python Program for Recursive Insertion Sort\"\"\""
      ],
      "metadata": {
        "id": "ip5FaI8nHglM"
      }
    },
    {
      "cell_type": "markdown",
      "source": [
        "\"\"\" 5. Python Program for QuickSort\"\"\""
      ],
      "metadata": {
        "id": "U_JwOjSlHig3"
      }
    },
    {
      "cell_type": "markdown",
      "source": [
        "\"\"\" 6. Python Program for Iterative Quick Sort\"\"\""
      ],
      "metadata": {
        "id": "KqzDMoArHka8"
      }
    },
    {
      "cell_type": "markdown",
      "source": [
        "\"\"\" 7. Python Program for Selection Sort\"\"\""
      ],
      "metadata": {
        "id": "v_UnhQHNHmll"
      }
    },
    {
      "cell_type": "markdown",
      "source": [
        "\"\"\"8. Python Program for Bubble Sort\"\"\""
      ],
      "metadata": {
        "id": "w2RoF7FWHoxd"
      }
    },
    {
      "cell_type": "markdown",
      "source": [
        "\"\"\" 9. Python Program for Merge Sort\"\"\""
      ],
      "metadata": {
        "id": "Jku9fcvdHqh0"
      }
    },
    {
      "cell_type": "markdown",
      "source": [
        "\"\"\" 10. Python Program for Iterative Merge Sort\"\"\""
      ],
      "metadata": {
        "id": "xGp7vk-6Hskj"
      }
    },
    {
      "cell_type": "markdown",
      "source": [
        "\"\"\"11. Python Program for Heap Sort\"\"\""
      ],
      "metadata": {
        "id": "oASZ3erfHuT6"
      }
    },
    {
      "cell_type": "markdown",
      "source": [
        "\"\"\"12. Python Program for Counting Sort\"\"\""
      ],
      "metadata": {
        "id": "DjYhlLFgHwOp"
      }
    },
    {
      "cell_type": "markdown",
      "source": [
        "\"\"\"13. Python Program for ShellSort\"\"\""
      ],
      "metadata": {
        "id": "H7XSKB9EHyEH"
      }
    },
    {
      "cell_type": "markdown",
      "source": [
        "\"\"\"14. Python Program for Topological Sorting\"\"\""
      ],
      "metadata": {
        "id": "OuQwKWAWH0IG"
      }
    },
    {
      "cell_type": "markdown",
      "source": [
        "\"\"\"15. Python Program for Radix Sort\"\"\""
      ],
      "metadata": {
        "id": "aDin48KsH1xx"
      }
    },
    {
      "cell_type": "markdown",
      "source": [
        "\"\"\"16. Python Program for Binary Insertion Sort\"\"\""
      ],
      "metadata": {
        "id": "8TkqflpXH3n2"
      }
    },
    {
      "cell_type": "markdown",
      "source": [
        "\"\"\"17. Python Program for Bitonic Sort\"\"\""
      ],
      "metadata": {
        "id": "og5SSTHXH5ey"
      }
    },
    {
      "cell_type": "markdown",
      "source": [
        "\"\"\" 18. Python Program for Comb Sort\"\"\""
      ],
      "metadata": {
        "id": "2IkndiVUH7db"
      }
    },
    {
      "cell_type": "markdown",
      "source": [
        "\"\"\" 19. Python Program for Pigeonhole Sort\"\"\""
      ],
      "metadata": {
        "id": "Q21vLBM6H9UG"
      }
    },
    {
      "cell_type": "markdown",
      "source": [
        "\"\"\"20. Python Program for Cocktail Sort\"\"\""
      ],
      "metadata": {
        "id": "Cau-EdomH_Ut"
      }
    },
    {
      "cell_type": "markdown",
      "source": [
        "\"\"\"21. Python Program for Gnome Sort\"\"\""
      ],
      "metadata": {
        "id": "QE2DYgYHIBcW"
      }
    },
    {
      "cell_type": "markdown",
      "source": [
        "\"\"\"22. Python Program for Odd-Even Sort / Brick Sort\"\"\""
      ],
      "metadata": {
        "id": "kcUNo9q-IDTn"
      }
    },
    {
      "cell_type": "markdown",
      "source": [
        "\"\"\" 23. Python Program for BogoSort or Permutation Sort\"\"\""
      ],
      "metadata": {
        "id": "_ikXgMCSIFMY"
      }
    },
    {
      "cell_type": "markdown",
      "source": [
        "\"\"\" 24. Python Program for Cycle Sort\"\"\""
      ],
      "metadata": {
        "id": "QpAuvx0rIHP0"
      }
    },
    {
      "cell_type": "markdown",
      "source": [
        "\"\"\" 25. Python Program for Stooge Sort\"\"\""
      ],
      "metadata": {
        "id": "QFJWjyZEIJY6"
      }
    },
    {
      "cell_type": "markdown",
      "source": [
        "\n",
        "\n",
        "---\n",
        "\n",
        "\n",
        "\n",
        "---\n",
        "\n",
        "\n",
        "\n",
        "---\n",
        "\n"
      ],
      "metadata": {
        "id": "CMXdhVl2IL10"
      }
    },
    {
      "cell_type": "markdown",
      "source": [
        "."
      ],
      "metadata": {
        "id": "VYgu6gD0IVhx"
      }
    },
    {
      "cell_type": "markdown",
      "source": [
        "**Pattern Printing**"
      ],
      "metadata": {
        "id": "oRCamkdBIWVg"
      }
    },
    {
      "cell_type": "markdown",
      "source": [
        "."
      ],
      "metadata": {
        "id": "BrTvPToEIZcT"
      }
    },
    {
      "cell_type": "markdown",
      "source": [
        "\n",
        "\n",
        "---\n",
        "\n",
        "\n",
        "\n",
        "---\n",
        "\n",
        "\n",
        "\n",
        "---\n",
        "\n"
      ],
      "metadata": {
        "id": "2zd6Ki67IZ1C"
      }
    },
    {
      "cell_type": "markdown",
      "source": [],
      "metadata": {
        "id": "tnxK1WFYIcYD"
      }
    },
    {
      "cell_type": "markdown",
      "source": [
        "\"\"\" 1. Python Program to print the pattern ‘G’\"\"\""
      ],
      "metadata": {
        "id": "Qu2cEb0FmHtP"
      }
    },
    {
      "cell_type": "markdown",
      "source": [
        "\"\"\" 2. Python Program to print an Inverted Star Pattern\"\"\""
      ],
      "metadata": {
        "id": "MCnApprDmLmr"
      }
    },
    {
      "cell_type": "markdown",
      "source": [
        "\"\"\" 3. Python Program to print double sided stair-case pattern\"\"\""
      ],
      "metadata": {
        "id": "iANXgK0AmPKe"
      }
    },
    {
      "cell_type": "markdown",
      "source": [
        "\"\"\" 4. Python Program to print with your own font\"\"\""
      ],
      "metadata": {
        "id": "caUd6FvImRnY"
      }
    },
    {
      "cell_type": "markdown",
      "source": [
        "\n",
        "\n",
        "---\n",
        "\n",
        "\n",
        "\n",
        "---\n",
        "\n",
        "\n",
        "\n",
        "---\n",
        "\n"
      ],
      "metadata": {
        "id": "EXAfEwFkmZnf"
      }
    },
    {
      "cell_type": "markdown",
      "source": [
        "."
      ],
      "metadata": {
        "id": "UYV-TrYGmbLT"
      }
    },
    {
      "cell_type": "markdown",
      "source": [
        "**Date Time**"
      ],
      "metadata": {
        "id": "SvMascdamcQT"
      }
    },
    {
      "cell_type": "markdown",
      "source": [
        "."
      ],
      "metadata": {
        "id": "jB9tyzLJmgOY"
      }
    },
    {
      "cell_type": "markdown",
      "source": [
        "\n",
        "\n",
        "---\n",
        "\n",
        "\n",
        "\n",
        "---\n",
        "\n",
        "\n",
        "\n",
        "---\n",
        "\n"
      ],
      "metadata": {
        "id": "qU2VUuQgmTtX"
      }
    },
    {
      "cell_type": "markdown",
      "source": [
        "\"\"\" 1. Python program to get Current Time\"\"\""
      ],
      "metadata": {
        "id": "GxES_VfamjUl"
      }
    },
    {
      "cell_type": "markdown",
      "source": [
        "\"\"\"2. Get Current Date and Time using Python\"\"\""
      ],
      "metadata": {
        "id": "xc1pSb98ml0Y"
      }
    },
    {
      "cell_type": "markdown",
      "source": [
        "\"\"\" 3. Python | Find yesterday\"s, today\"s and tomorrow\"s date\"\"\""
      ],
      "metadata": {
        "id": "FJtg2cmRmn2T"
      }
    },
    {
      "cell_type": "markdown",
      "source": [
        "\"\"\"4. Python program to convert time from 12 hour to 24 hour format\"\"\""
      ],
      "metadata": {
        "id": "kBO7V7a8mp2r"
      }
    },
    {
      "cell_type": "markdown",
      "source": [
        "\"\"\"5. Python program to nd difference between current time and given time\"\"\""
      ],
      "metadata": {
        "id": "9kAur-ZKmsT4"
      }
    },
    {
      "cell_type": "markdown",
      "source": [
        "\"\"\" 6. Python Program to Create a Lap Timer\"\"\""
      ],
      "metadata": {
        "id": "sD1IpJOfmuWc"
      }
    },
    {
      "cell_type": "markdown",
      "source": [
        "\"\"\" 7. Convert date string to timestamp in Python \"\"\""
      ],
      "metadata": {
        "id": "t5gTc7pCmwVN"
      }
    },
    {
      "cell_type": "markdown",
      "source": [
        "\"\"\"8. How to convert timestamp string to datetime object in Python?\"\"\""
      ],
      "metadata": {
        "id": "GGVDIfF0mzOH"
      }
    },
    {
      "cell_type": "markdown",
      "source": [
        "\"\"\" 9. Find number of times every day occurs in a Year\"\"\""
      ],
      "metadata": {
        "id": "1Q5g6wKNm1l5"
      }
    },
    {
      "cell_type": "markdown",
      "source": [
        "\n",
        "\n",
        "---\n",
        "\n",
        "\n",
        "\n",
        "---\n",
        "\n",
        "\n",
        "\n",
        "---\n",
        "\n"
      ],
      "metadata": {
        "id": "Spk6Bhk7m3Xw"
      }
    },
    {
      "cell_type": "markdown",
      "source": [
        "."
      ],
      "metadata": {
        "id": "e5KBCNArm-8y"
      }
    },
    {
      "cell_type": "markdown",
      "source": [
        "**Regex**"
      ],
      "metadata": {
        "id": "b0fCudYjm_vV"
      }
    },
    {
      "cell_type": "markdown",
      "source": [
        "."
      ],
      "metadata": {
        "id": "bNg4g5m1nD2O"
      }
    },
    {
      "cell_type": "markdown",
      "source": [
        "\n",
        "\n",
        "---\n",
        "\n",
        "\n",
        "\n",
        "---\n",
        "\n",
        "\n",
        "\n",
        "---\n",
        "\n"
      ],
      "metadata": {
        "id": "PaD9AE5tnFHN"
      }
    },
    {
      "cell_type": "markdown",
      "source": [
        "\"\"\" 1. Python Program to Check if String Contain Only De ned Characters using Regex\"\"\""
      ],
      "metadata": {
        "id": "zVCHkHj7nGxr"
      }
    },
    {
      "cell_type": "markdown",
      "source": [
        "\"\"\" 2. Python program to Count Uppercase, Lowercase, special character and numeric values using Regex\"\"\""
      ],
      "metadata": {
        "id": "j8jLwxgUnInH"
      }
    },
    {
      "cell_type": "markdown",
      "source": [
        "\"\"\" 3. Python Program to nd the most occurring number in a string using Regex\"\"\""
      ],
      "metadata": {
        "id": "MgoLfhxBnKzk"
      }
    },
    {
      "cell_type": "markdown",
      "source": [
        "\"\"\" 4. Python Regex to extract maximum numeric value from a string\"\"\""
      ],
      "metadata": {
        "id": "h8StUipYnMwX"
      }
    },
    {
      "cell_type": "markdown",
      "source": [
        "\"\"\" 5. Python Program to put spaces between words starting with capital letters using Regex\"\"\""
      ],
      "metadata": {
        "id": "ZgF2YaTmnObV"
      }
    },
    {
      "cell_type": "markdown",
      "source": [
        "\"\"\" 6. Python – Check whether a string starts and ends with the same character or not\"\"\""
      ],
      "metadata": {
        "id": "5xvkgIV5nQfR"
      }
    },
    {
      "cell_type": "markdown",
      "source": [
        "\"\"\" 7. Python regex to nd sequences of one upper case letter followed by lower case letters\"\"\""
      ],
      "metadata": {
        "id": "Lt9SezL5nStQ"
      }
    },
    {
      "cell_type": "markdown",
      "source": [
        "\"\"\" 8. Python Program to Remove duplicate words from Sentenc\"\"\""
      ],
      "metadata": {
        "id": "FiJkEUXBnUu5"
      }
    },
    {
      "cell_type": "markdown",
      "source": [
        "\"\"\" 9. Python | Remove all characters except letters and numbers\"\"\""
      ],
      "metadata": {
        "id": "9FRMU5ignWli"
      }
    },
    {
      "cell_type": "markdown",
      "source": [
        "\"\"\"10. Python Regex | Program to accept string ending with alphanumeric character\"\"\""
      ],
      "metadata": {
        "id": "VI-XOk_NnYsg"
      }
    },
    {
      "cell_type": "markdown",
      "source": [
        "\"\"\" 11. Python Regex – Program to accept string starting with vowel\"\"\""
      ],
      "metadata": {
        "id": "b6VBae80nbHY"
      }
    },
    {
      "cell_type": "markdown",
      "source": [
        "\"\"\" 12. Python Program to check if a string starts with a substring using regex\"\"\""
      ],
      "metadata": {
        "id": "6_qnOrd1ndGs"
      }
    },
    {
      "cell_type": "markdown",
      "source": [
        "\"\"\" 13. Python Program to Check if an URL is valid or not using Regular Expression\"\"\""
      ],
      "metadata": {
        "id": "uJRr06genfHJ"
      }
    },
    {
      "cell_type": "markdown",
      "source": [
        "\"\"\" 14. Parsing and Processing URL using Python - Regex\"\"\""
      ],
      "metadata": {
        "id": "asZKZFcInsFJ"
      }
    },
    {
      "cell_type": "markdown",
      "source": [
        "\"\"\" 15. Python Program to validate an IP address using ReGex\"\"\""
      ],
      "metadata": {
        "id": "V6ijpQmHnvDv"
      }
    },
    {
      "cell_type": "markdown",
      "source": [
        "\"\"\" 16. Python Program to Check if email address valid or not\"\"\""
      ],
      "metadata": {
        "id": "dDVXu_YSnw9K"
      }
    },
    {
      "cell_type": "markdown",
      "source": [
        "\"\"\" 17. Python program to nd les having a particular extension using RegEx\"\"\""
      ],
      "metadata": {
        "id": "bBrfnOkDnzWM"
      }
    },
    {
      "cell_type": "markdown",
      "source": [
        "\"\"\" 17. Python program to nd les having a particular extension using RegEx\"\"\""
      ],
      "metadata": {
        "id": "2ZqBkgXun9rn"
      }
    },
    {
      "cell_type": "markdown",
      "source": [
        "\"\"\" 19. Python program to check the validity of a Password\"\"\""
      ],
      "metadata": {
        "id": "GW6HQaPTn_tD"
      }
    },
    {
      "cell_type": "markdown",
      "source": [
        "\"\"\"20. Categorize Password as Strong or Weak using Regex in Python\"\"\""
      ],
      "metadata": {
        "id": "t-SEP9e9oCAL"
      }
    },
    {
      "cell_type": "markdown",
      "source": [
        "\n",
        "\n",
        "---\n",
        "\n",
        "\n",
        "\n",
        "---\n",
        "\n",
        "\n",
        "\n",
        "---\n",
        "\n"
      ],
      "metadata": {
        "id": "I4r5cTeHsrOI"
      }
    },
    {
      "cell_type": "markdown",
      "source": [
        "."
      ],
      "metadata": {
        "id": "W0KjbcyXstyK"
      }
    },
    {
      "cell_type": "markdown",
      "source": [
        "**File Handling**"
      ],
      "metadata": {
        "id": "PVjpkrb5su0l"
      }
    },
    {
      "cell_type": "markdown",
      "source": [
        "."
      ],
      "metadata": {
        "id": "3nUN8uDGsqxt"
      }
    },
    {
      "cell_type": "markdown",
      "source": [
        "\"\"\" 1. Python program to read le word by word\"\"\"\n",
        "\n",
        "\n"
      ],
      "metadata": {
        "id": "jqDdho23sz3e"
      }
    },
    {
      "cell_type": "markdown",
      "source": [
        "\"\"\" 2. Python program to read character by character from a le\"\"\""
      ],
      "metadata": {
        "id": "oShQAI7Ms3fi"
      }
    },
    {
      "cell_type": "markdown",
      "source": [
        "\"\"\" 3. Python – Get number of characters, words, spaces and lines in a le\"\"\""
      ],
      "metadata": {
        "id": "rBlSkJyys5z4"
      }
    },
    {
      "cell_type": "markdown",
      "source": [
        "\"\"\" 4. Python program to Count the Number of occurrences of a key-value pair in a text file\"\"\""
      ],
      "metadata": {
        "id": "WtHOvq2Cs8MW"
      }
    },
    {
      "cell_type": "markdown",
      "source": [
        "\"\"\" 5. Python | Finding ‘n’ Character Words in a Text File\"\"\""
      ],
      "metadata": {
        "id": "BXXCKgh7s-Py"
      }
    },
    {
      "cell_type": "markdown",
      "source": [
        "\"\"\" 6. Python Program to obtain the line number in which given word is present\"\"\""
      ],
      "metadata": {
        "id": "6VajASfytAYl"
      }
    },
    {
      "cell_type": "markdown",
      "source": [
        "\"\"\" 7. Count number of lines in a text le in Python\"\"\""
      ],
      "metadata": {
        "id": "ocHeWgIKtCrR"
      }
    },
    {
      "cell_type": "markdown",
      "source": [
        "\"\"\" 8. Python Program to remove lines starting with any pre x\"\"\""
      ],
      "metadata": {
        "id": "M8Rl4yDKtEus"
      }
    },
    {
      "cell_type": "markdown",
      "source": [
        "\"\"\" 9. Python Program to Eliminate repeated lines from a file\"\"\""
      ],
      "metadata": {
        "id": "EZxdQ8FOtG6e"
      }
    },
    {
      "cell_type": "markdown",
      "source": [
        "\"\"\" 10. Python Program to read List of Dictionaries from File\"\"\""
      ],
      "metadata": {
        "id": "RhCUx065tI54"
      }
    },
    {
      "cell_type": "markdown",
      "source": [
        "\"\"\" 11. Python – Append content of one text le to another\"\"\""
      ],
      "metadata": {
        "id": "Bnn2SqBotMlr"
      }
    },
    {
      "cell_type": "markdown",
      "source": [
        "\"\"\" 12. Python program to copy odd lines of one le to other\"\"\""
      ],
      "metadata": {
        "id": "spaFinAitO6J"
      }
    },
    {
      "cell_type": "markdown",
      "source": [
        "\"\"\"13. Python Program to merge two les into a third file\"\"\""
      ],
      "metadata": {
        "id": "E99wvYibtRBh"
      }
    },
    {
      "cell_type": "markdown",
      "source": [
        "\"\"\" 14. Python program to Reverse a single line of a text file\"\"\""
      ],
      "metadata": {
        "id": "XHQDR5X5tTM2"
      }
    },
    {
      "cell_type": "markdown",
      "source": [
        "\"\"\" 15. Python program to reverse the content of a le and store it in another file\"\"\""
      ],
      "metadata": {
        "id": "TJ23iH5etVI5"
      }
    },
    {
      "cell_type": "markdown",
      "source": [
        "\"\"\"16. Python Program to Reverse the Content of a File using Stack\"\"\""
      ],
      "metadata": {
        "id": "SJOZfGPqtXA3"
      }
    },
    {
      "cell_type": "markdown",
      "source": [],
      "metadata": {
        "id": "uNPJ01BmtZMi"
      }
    },
    {
      "cell_type": "markdown",
      "source": [
        "\n",
        "\n",
        "---\n",
        "\n",
        "\n",
        "\n",
        "---\n",
        "\n",
        "\n",
        "\n",
        "---\n",
        "\n"
      ],
      "metadata": {
        "id": "yKcVGi-QoEOW"
      }
    },
    {
      "cell_type": "markdown",
      "source": [
        "."
      ],
      "metadata": {
        "id": "r__xzc47oPzk"
      }
    },
    {
      "cell_type": "markdown",
      "source": [
        "**More**"
      ],
      "metadata": {
        "id": "FTnToEmjoRgc"
      }
    },
    {
      "cell_type": "markdown",
      "source": [
        "."
      ],
      "metadata": {
        "id": "_crpHaNsoT3P"
      }
    },
    {
      "cell_type": "markdown",
      "source": [
        "\n",
        "\n",
        "---\n",
        "\n",
        "\n",
        "\n",
        "---\n",
        "\n",
        "\n",
        "\n",
        "---\n",
        "\n",
        "\n",
        "\n"
      ],
      "metadata": {
        "id": "O2ve6j1WoU4b"
      }
    },
    {
      "cell_type": "markdown",
      "source": [
        "\"\"\" 1. Python Program to Reverse a linked list\"\"\""
      ],
      "metadata": {
        "id": "PgKq6gy2oXoY"
      }
    },
    {
      "cell_type": "markdown",
      "source": [
        "\"\"\" 2. Python Program for Find largest prime factor of a number\"\"\""
      ],
      "metadata": {
        "id": "z7xnKBUEoZtp"
      }
    },
    {
      "cell_type": "markdown",
      "source": [
        "\"\"\" 3. Python Program for Ef cient program to print all prime factors of a given number\"\"\""
      ],
      "metadata": {
        "id": "4N3aqTezoblk"
      }
    },
    {
      "cell_type": "markdown",
      "source": [
        "\"\"\" 4. Python Program for Product of unique prime factors of a number\"\"\""
      ],
      "metadata": {
        "id": "jz9i5bsZoda0"
      }
    },
    {
      "cell_type": "markdown",
      "source": [
        "\"\"\"5. Python Program for Find sum of odd factors of a number\"\"\""
      ],
      "metadata": {
        "id": "v5L-Xt_zofLX"
      }
    },
    {
      "cell_type": "markdown",
      "source": [
        "\"\"\" 6. Python Program for Coin Change\"\"\""
      ],
      "metadata": {
        "id": "VbyFIG2VohBL"
      }
    },
    {
      "cell_type": "markdown",
      "source": [
        "\"\"\" 7. Python Program for Tower of Hanoi\"\"\""
      ],
      "metadata": {
        "id": "-ebW2DAlojME"
      }
    },
    {
      "cell_type": "markdown",
      "source": [
        "\"\"\"8. Python Program for Sieve of Eratosthenes\"\"\""
      ],
      "metadata": {
        "id": "YdCTBm8Vok_u"
      }
    },
    {
      "cell_type": "markdown",
      "source": [
        "\"\"\" 9. Python Program to Check if binary representation is palindrome\"\"\""
      ],
      "metadata": {
        "id": "hdBEXKMfomzs"
      }
    },
    {
      "cell_type": "markdown",
      "source": [
        "\"\"\" 10. Python Program for Basic Euclidean algorithms\"\"\""
      ],
      "metadata": {
        "id": "nyRAEm14opYQ"
      }
    },
    {
      "cell_type": "markdown",
      "source": [
        "\"\"\" 11. Python Program for Extended Euclidean algorithms\"\"\""
      ],
      "metadata": {
        "id": "CUgwGYzlorNq"
      }
    },
    {
      "cell_type": "markdown",
      "source": [
        "\"\"\"12. Python Program for Maximum height when coins are arranged in a triangle\"\"\""
      ],
      "metadata": {
        "id": "38d1oPuPos_D"
      }
    },
    {
      "cell_type": "markdown",
      "source": [
        "\"\"\" 13. Python Program for Find minimum sum of factors of number\"\"\""
      ],
      "metadata": {
        "id": "7kvkjaYnqP4m"
      }
    },
    {
      "cell_type": "markdown",
      "source": [
        "\"\"\" 14. Python Program for Difference between sums of odd and even digits\"\"\"\n"
      ],
      "metadata": {
        "id": "Axh40BY0qWLk"
      }
    },
    {
      "cell_type": "markdown",
      "source": [
        "\"\"\" 15. Python Program for Program to Print Matrix in Z form\"\"\""
      ],
      "metadata": {
        "id": "CRwT0UD2qYIn"
      }
    },
    {
      "cell_type": "markdown",
      "source": [
        "\"\"\" 16. Python Program for Smallest K digit number divisible by X\"\"\""
      ],
      "metadata": {
        "id": "VaqznIltqZ_v"
      }
    },
    {
      "cell_type": "markdown",
      "source": [
        "\"\"\"17. Python Program for Print Number series without using any loop\"\"\""
      ],
      "metadata": {
        "id": "ynOTkEkCqcFX"
      }
    },
    {
      "cell_type": "markdown",
      "source": [
        "\"\"\" 18. Python Program for Number of stopping station problem\"\"\""
      ],
      "metadata": {
        "id": "pNAUR8y1qssz"
      }
    },
    {
      "cell_type": "markdown",
      "source": [
        "\"\"\" 19. Check if a triangle of positive area is possible with the given angles\"\"\""
      ],
      "metadata": {
        "id": "eJ7sKbRLquhe"
      }
    },
    {
      "cell_type": "markdown",
      "source": [
        "\"\"\" 20. Python program to nd the most occurring character and its count\"\"\""
      ],
      "metadata": {
        "id": "ztEjHO61qwXk"
      }
    },
    {
      "cell_type": "markdown",
      "source": [
        "\"\"\"21. Python Program for Find sum of even factors of a number\"\"\""
      ],
      "metadata": {
        "id": "Kbdh6GUSqyte"
      }
    },
    {
      "cell_type": "markdown",
      "source": [
        "\"\"\" 22. Python Program for Check if all digits of a number divide it\"\"\""
      ],
      "metadata": {
        "id": "jbAlW487q0je"
      }
    },
    {
      "cell_type": "markdown",
      "source": [
        "\"\"\" 23. Check whether a number has consecutive 0’s in the given base or not\"\"\""
      ],
      "metadata": {
        "id": "RoGxmQn_q2UN"
      }
    },
    {
      "cell_type": "markdown",
      "source": [
        "\"\"\" 24. Python Program for Number of solutions to Modular Equations\"\"\""
      ],
      "metadata": {
        "id": "nK9Huvn5q4HE"
      }
    },
    {
      "cell_type": "markdown",
      "source": [
        "\"\"\" 25. Python Program for Legendre\\\"s Conjecture\"\"\""
      ],
      "metadata": {
        "id": "VQGE1e_Tq6CH"
      }
    }
  ]
}