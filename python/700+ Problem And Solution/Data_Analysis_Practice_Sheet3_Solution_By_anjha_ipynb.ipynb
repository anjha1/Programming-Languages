{
  "nbformat": 4,
  "nbformat_minor": 0,
  "metadata": {
    "colab": {
      "provenance": [],
      "authorship_tag": "ABX9TyODtBZFneAQWvnghIfbxIZV",
      "include_colab_link": true
    },
    "kernelspec": {
      "name": "python3",
      "display_name": "Python 3"
    },
    "language_info": {
      "name": "python"
    }
  },
  "cells": [
    {
      "cell_type": "markdown",
      "metadata": {
        "id": "view-in-github",
        "colab_type": "text"
      },
      "source": [
        "<a href=\"https://colab.research.google.com/github/anjha1/Programming-Languages/blob/main/python/Geeks%20for%20Geeks-700%2B%20Problem-Solution/Data_Analysis_Practice_Sheet3_Solution_By_anjha_ipynb.ipynb\" target=\"_parent\"><img src=\"https://colab.research.google.com/assets/colab-badge.svg\" alt=\"Open In Colab\"/></a>"
      ]
    },
    {
      "cell_type": "markdown",
      "source": [
        "                                                                          Solution of Data Analysis Part-1\n",
        "\n",
        "> **Practice Sheet by Achhuta Nand Jha**               \n",
        "**[Practice Sheet1 Link](https://sites.google.com/view/achhuta-nand-jha/programming-language/python)**\n",
        "\n"
      ],
      "metadata": {
        "id": "CNQx52A04NDZ"
      }
    },
    {
      "cell_type": "markdown",
      "source": [
        "\n",
        "\n",
        "---\n",
        "\n",
        "\n",
        "\n",
        "---\n",
        "\n",
        "\n",
        "\n",
        "---\n",
        "\n"
      ],
      "metadata": {
        "id": "X4ivBeWj2kpQ"
      }
    },
    {
      "cell_type": "markdown",
      "source": [
        "."
      ],
      "metadata": {
        "id": "eDjAAyk72lj2"
      }
    },
    {
      "cell_type": "markdown",
      "source": [
        "                                                                            \n",
        "                                                                             \n",
        "                                                                              \n",
        "                                                                               \n",
        "                                                                                \n",
        "                                                                                 \n",
        "                                                                                  \n",
        "                                                                          NumPy\n",
        "\n"
      ],
      "metadata": {
        "id": "JiGHQ05M2RtI"
      }
    },
    {
      "cell_type": "markdown",
      "source": [
        "\n",
        "\n",
        "---\n",
        "\n",
        "\n",
        "\n",
        "---\n",
        "\n",
        "\n",
        "\n",
        "---\n",
        "\n"
      ],
      "metadata": {
        "id": "EuDBcjp2_L5H"
      }
    },
    {
      "cell_type": "markdown",
      "source": [
        "."
      ],
      "metadata": {
        "id": "uR_qwmicuP-U"
      }
    },
    {
      "cell_type": "markdown",
      "source": [
        "> NumPy Exercises"
      ],
      "metadata": {
        "id": "je9JZmett-kT"
      }
    },
    {
      "cell_type": "markdown",
      "source": [
        "."
      ],
      "metadata": {
        "id": "ftxJ-EUouRa5"
      }
    },
    {
      "cell_type": "markdown",
      "source": [
        "\n",
        "\n",
        "---\n",
        "\n",
        "\n",
        "\n",
        "---\n",
        "\n",
        "\n",
        "\n",
        "---\n",
        "\n"
      ],
      "metadata": {
        "id": "nRyqrc8At8py"
      }
    },
    {
      "cell_type": "markdown",
      "source": [
        "1.How to create an empty and a full NumPy array?"
      ],
      "metadata": {
        "id": "unDlFHJxuSWA"
      }
    },
    {
      "cell_type": "markdown",
      "source": [
        "2.Create a Numpy array filled with all zeros"
      ],
      "metadata": {
        "id": "d99YU0NTuWBf"
      }
    },
    {
      "cell_type": "markdown",
      "source": [
        " 3.Create a Numpy array filled with all ones"
      ],
      "metadata": {
        "id": "o4DFgK0JyJR3"
      }
    },
    {
      "cell_type": "markdown",
      "source": [
        "4.Check whether a Numpy array contains a specified row"
      ],
      "metadata": {
        "id": "sYaUPPDjyLrN"
      }
    },
    {
      "cell_type": "markdown",
      "source": [
        " 5.How to Remove rows in Numpy array that contains non-numeric values?"
      ],
      "metadata": {
        "id": "Clqg1l3jyN0g"
      }
    },
    {
      "cell_type": "markdown",
      "source": [
        "6.Combining a one and a two-dimensional NumPy Array"
      ],
      "metadata": {
        "id": "gyBLzWqdyRCS"
      }
    },
    {
      "cell_type": "markdown",
      "source": [
        " 7.How to compare two NumPy arrays?"
      ],
      "metadata": {
        "id": "Z8EccO7KyTK0"
      }
    },
    {
      "cell_type": "markdown",
      "source": [
        " 8.How to get all 2D diagonals of a 3D NumPy array?"
      ],
      "metadata": {
        "id": "RE5SB2oWyVbc"
      }
    },
    {
      "cell_type": "markdown",
      "source": [
        " 9.Flatten a Matrix in Python using NumPy"
      ],
      "metadata": {
        "id": "DNpXAG5wyXsC"
      }
    },
    {
      "cell_type": "markdown",
      "source": [
        "10.Counts the number of non-zero values in the array"
      ],
      "metadata": {
        "id": "x_5SgQ1pyZ6H"
      }
    },
    {
      "cell_type": "markdown",
      "source": [
        "11.Trim the leading and/or trailing zeros from a 1-D array"
      ],
      "metadata": {
        "id": "WZcdyW7_ycWD"
      }
    },
    {
      "cell_type": "markdown",
      "source": [
        " 12.Reverse a numpy array"
      ],
      "metadata": {
        "id": "-RK5GZIlye1Y"
      }
    },
    {
      "cell_type": "markdown",
      "source": [
        "\n",
        "\n",
        "---\n",
        "\n",
        "\n",
        "\n",
        "---\n",
        "\n",
        "\n",
        "\n",
        "---\n",
        "\n"
      ],
      "metadata": {
        "id": "7dTEiWt-ynkJ"
      }
    },
    {
      "cell_type": "markdown",
      "source": [
        "."
      ],
      "metadata": {
        "id": "2hgqHISQyofo"
      }
    },
    {
      "cell_type": "markdown",
      "source": [
        ">NumPy Matrix Exercises"
      ],
      "metadata": {
        "id": "IVAymLqnytPv"
      }
    },
    {
      "cell_type": "markdown",
      "source": [
        "."
      ],
      "metadata": {
        "id": "nXb1h9LHypOR"
      }
    },
    {
      "cell_type": "markdown",
      "source": [
        "\n",
        "\n",
        "---\n",
        "\n",
        "\n",
        "\n",
        "---\n",
        "\n",
        "\n",
        "\n",
        "---\n",
        "\n"
      ],
      "metadata": {
        "id": "5OJ4vFOnyqa2"
      }
    },
    {
      "cell_type": "markdown",
      "source": [
        "13.Get the maximum value from given matrix"
      ],
      "metadata": {
        "id": "pRAIUf6ky0i2"
      }
    },
    {
      "cell_type": "markdown",
      "source": [
        " 14.Get the minimum value from given matrix"
      ],
      "metadata": {
        "id": "cFY0jzfRy3n7"
      }
    },
    {
      "cell_type": "markdown",
      "source": [
        " 15.Find the number of rows and columns of a given matrix using NumPy"
      ],
      "metadata": {
        "id": "Q5BxISI8y5-s"
      }
    },
    {
      "cell_type": "markdown",
      "source": [
        " 16.Adding and Subtracting Matrices in Python"
      ],
      "metadata": {
        "id": "ECe_Vj4iy8OW"
      }
    },
    {
      "cell_type": "markdown",
      "source": [
        " 17.Matrix Multiplication in NumPy"
      ],
      "metadata": {
        "id": "kVwqK0ohy-Y-"
      }
    },
    {
      "cell_type": "markdown",
      "source": [
        "18.Ways to add row/columns in numpy array"
      ],
      "metadata": {
        "id": "82lDNhOJzAO1"
      }
    },
    {
      "cell_type": "markdown",
      "source": [
        "19.Get the eigen values of a matrix"
      ],
      "metadata": {
        "id": "A9WG6FBEzCTz"
      }
    },
    {
      "cell_type": "markdown",
      "source": [
        " 20.How to count the frequency of unique values in NumPy array?"
      ],
      "metadata": {
        "id": "-BntegsJzEor"
      }
    },
    {
      "cell_type": "markdown",
      "source": [
        "21.How to inverse a matrix using NumPy"
      ],
      "metadata": {
        "id": "AeqvROYmzG6L"
      }
    },
    {
      "cell_type": "markdown",
      "source": [
        " 22.How to Calculate the determinant of a matrix using NumPy?"
      ],
      "metadata": {
        "id": "lo7wl-ckzJV-"
      }
    },
    {
      "cell_type": "markdown",
      "source": [
        " 23.Multiply matrices of complex numbers using NumPy in Python"
      ],
      "metadata": {
        "id": "AXdllIQZzLZt"
      }
    },
    {
      "cell_type": "markdown",
      "source": [
        " 24.Calculate inner, outer, and cross products of matrices and vectors using NumPy"
      ],
      "metadata": {
        "id": "Perv908szNui"
      }
    },
    {
      "cell_type": "markdown",
      "source": [
        "25.Convert covariance matrix to correlation matrix using Python"
      ],
      "metadata": {
        "id": "4bUZlu55zQOn"
      }
    },
    {
      "cell_type": "markdown",
      "source": [
        "\n",
        "\n",
        "---\n",
        "\n",
        "\n",
        "\n",
        "---\n",
        "\n",
        "\n",
        "\n",
        "---\n",
        "\n"
      ],
      "metadata": {
        "id": "WlRgIF8rzWkG"
      }
    },
    {
      "cell_type": "markdown",
      "source": [
        "."
      ],
      "metadata": {
        "id": "v1UeJCf-zYLK"
      }
    },
    {
      "cell_type": "markdown",
      "source": [
        ">NumPy Indexing Exercises"
      ],
      "metadata": {
        "id": "rZDMOvgMzeU5"
      }
    },
    {
      "cell_type": "markdown",
      "source": [
        "."
      ],
      "metadata": {
        "id": "phORTTsHzZTm"
      }
    },
    {
      "cell_type": "markdown",
      "source": [
        "\n",
        "\n",
        "---\n",
        "\n",
        "\n",
        "\n",
        "---\n",
        "\n",
        "\n",
        "\n",
        "---\n",
        "\n"
      ],
      "metadata": {
        "id": "3Xx2S_MJzaUO"
      }
    },
    {
      "cell_type": "markdown",
      "source": [
        "26.Replace NumPy array elements that doesn\"t satisfy the given condition"
      ],
      "metadata": {
        "id": "P1n9HGEIzlF5"
      }
    },
    {
      "cell_type": "markdown",
      "source": [
        "27.Return the indices of elements where the given condition is satisfied"
      ],
      "metadata": {
        "id": "ygk6aDiMzn8f"
      }
    },
    {
      "cell_type": "markdown",
      "source": [
        " 28.Replace negative value with zero in numpy array"
      ],
      "metadata": {
        "id": "9GTqU85szp-X"
      }
    },
    {
      "cell_type": "markdown",
      "source": [
        "29.Replace NaN values with average of columns"
      ],
      "metadata": {
        "id": "y7TZsTeIzsGV"
      }
    },
    {
      "cell_type": "markdown",
      "source": [
        " 30.How to get values of an NumPy array at certain index positions?"
      ],
      "metadata": {
        "id": "o4KDZoDOzuPp"
      }
    },
    {
      "cell_type": "markdown",
      "source": [
        " 31Find indices of elements equal to zero in a NumPy array"
      ],
      "metadata": {
        "id": "IjF-6u-Fzwgd"
      }
    },
    {
      "cell_type": "markdown",
      "source": [
        " 32.How to access different rows of a multidimensional NumPy array?"
      ],
      "metadata": {
        "id": "wgVJvKDbzyio"
      }
    },
    {
      "cell_type": "markdown",
      "source": [
        " 33.How to Remove columns in Numpy array that contains non-numeric values?"
      ],
      "metadata": {
        "id": "EbD3R6CHz1ep"
      }
    },
    {
      "cell_type": "markdown",
      "source": [
        "34.Get row numbers of NumPy array having element larger than X"
      ],
      "metadata": {
        "id": "IRgaf_-gz3dM"
      }
    },
    {
      "cell_type": "markdown",
      "source": [
        " 35.Check elements present in the NumPy array"
      ],
      "metadata": {
        "id": "2sWCL_Kcz5kQ"
      }
    },
    {
      "cell_type": "markdown",
      "source": [
        " 36.Combined array index by index"
      ],
      "metadata": {
        "id": "AZSpTPRxz7tn"
      }
    },
    {
      "cell_type": "markdown",
      "source": [
        " 37.NumPy Sorting and Searching Exercises"
      ],
      "metadata": {
        "id": "sXDmYhGQz-nc"
      }
    },
    {
      "cell_type": "markdown",
      "source": [
        " 38.How to get the indices of the sorted array using NumPy in Python?"
      ],
      "metadata": {
        "id": "cts_PLhj0Alx"
      }
    },
    {
      "cell_type": "markdown",
      "source": [
        " 39.Finding the k smallest values of a NumPy array"
      ],
      "metadata": {
        "id": "eRhOKuxy0ClM"
      }
    },
    {
      "cell_type": "markdown",
      "source": [
        "40.How to get the n-largest values of an array using NumPy?"
      ],
      "metadata": {
        "id": "o6zTM2x70Eco"
      }
    },
    {
      "cell_type": "markdown",
      "source": [
        " 41.Sort the values in a matrix"
      ],
      "metadata": {
        "id": "5dyx3Ra-0G-Y"
      }
    },
    {
      "cell_type": "markdown",
      "source": [
        " 42.Filter out integers from float numpy array"
      ],
      "metadata": {
        "id": "wL-XiLKd0JAi"
      }
    },
    {
      "cell_type": "markdown",
      "source": [
        " 43.Find the indices into a sorted array"
      ],
      "metadata": {
        "id": "A19iPLBc0K_p"
      }
    },
    {
      "cell_type": "markdown",
      "source": [
        "\n",
        "\n",
        "---\n",
        "\n",
        "\n",
        "\n",
        "---\n",
        "\n",
        "\n",
        "\n",
        "---\n",
        "\n"
      ],
      "metadata": {
        "id": "LXy_RxnU0Qii"
      }
    },
    {
      "cell_type": "markdown",
      "source": [
        "."
      ],
      "metadata": {
        "id": "jaKTLIOz0RIy"
      }
    },
    {
      "cell_type": "markdown",
      "source": [
        ">NumPy Random Exercises"
      ],
      "metadata": {
        "id": "Ztnq8Mha0W2X"
      }
    },
    {
      "cell_type": "markdown",
      "source": [
        "."
      ],
      "metadata": {
        "id": "lReAT2VC0SM4"
      }
    },
    {
      "cell_type": "markdown",
      "source": [
        "\n",
        "\n",
        "---\n",
        "\n",
        "\n",
        "\n",
        "---\n",
        "\n",
        "\n",
        "\n",
        "---\n",
        "\n"
      ],
      "metadata": {
        "id": "_RG3aTLr0UD6"
      }
    },
    {
      "cell_type": "markdown",
      "source": [
        " 44.Create a Numpy array with random values"
      ],
      "metadata": {
        "id": "WbBt7AEf0czN"
      }
    },
    {
      "cell_type": "markdown",
      "source": [
        "45.How to choose elements from the list with different probability using NumPy?"
      ],
      "metadata": {
        "id": "zOzozkb-0fZ6"
      }
    },
    {
      "cell_type": "markdown",
      "source": [
        " 46.How to get weighted random choice in Python?"
      ],
      "metadata": {
        "id": "oLpHYHGL0hxl"
      }
    },
    {
      "cell_type": "markdown",
      "source": [
        "47.Generate Random Numbers From The Uniform Distribution using NumPy"
      ],
      "metadata": {
        "id": "8ZOc_Clv0j-i"
      }
    },
    {
      "cell_type": "markdown",
      "source": [
        "48.Get Random Elements form geometric distribution"
      ],
      "metadata": {
        "id": "OsNsZTll0rLG"
      }
    },
    {
      "cell_type": "markdown",
      "source": [
        "49.Get Random elements from Laplace distribution"
      ],
      "metadata": {
        "id": "z6JxPhej0tjZ"
      }
    },
    {
      "cell_type": "markdown",
      "source": [
        "50.Return a Matrix of random values from a uniform distribution"
      ],
      "metadata": {
        "id": "17CyDatX0v4y"
      }
    },
    {
      "cell_type": "markdown",
      "source": [
        " 51.Return a Matrix of random values from a Gaussian distribution"
      ],
      "metadata": {
        "id": "r6nPg2En0yZ9"
      }
    },
    {
      "cell_type": "markdown",
      "source": [
        "\n",
        "\n",
        "---\n",
        "\n",
        "\n",
        "\n",
        "---\n",
        "\n",
        "\n",
        "\n",
        "---\n",
        "\n"
      ],
      "metadata": {
        "id": "SnJr-2V11J10"
      }
    },
    {
      "cell_type": "markdown",
      "source": [
        "."
      ],
      "metadata": {
        "id": "shzkr1T-1KqF"
      }
    },
    {
      "cell_type": "markdown",
      "source": [
        ">NumPy Strings Exercises"
      ],
      "metadata": {
        "id": "Vg5TvT9t1P-6"
      }
    },
    {
      "cell_type": "markdown",
      "source": [
        "."
      ],
      "metadata": {
        "id": "aHr1pIkR1LfV"
      }
    },
    {
      "cell_type": "markdown",
      "source": [
        "\n",
        "\n",
        "---\n",
        "\n",
        "\n",
        "\n",
        "---\n",
        "\n",
        "\n",
        "\n",
        "---\n",
        "\n"
      ],
      "metadata": {
        "id": "r6N4qsVu1Npk"
      }
    },
    {
      "cell_type": "markdown",
      "source": [
        "52.Create a Numpy array with Strings"
      ],
      "metadata": {
        "id": "ZiiAQK2f1ckw"
      }
    },
    {
      "cell_type": "markdown",
      "source": [
        "53.Repeat all the elements of a NumPy array of strings"
      ],
      "metadata": {
        "id": "XpHt64PW1n7w"
      }
    },
    {
      "cell_type": "markdown",
      "source": [
        " 54.How to split the element of a given NumPy array with spaces?"
      ],
      "metadata": {
        "id": "L0HL4RKB1s3B"
      }
    },
    {
      "cell_type": "markdown",
      "source": [
        "55.How to insert a space between characters of all the elements of a given NumPy array?"
      ],
      "metadata": {
        "id": "0a5wRlNC1vyJ"
      }
    },
    {
      "cell_type": "markdown",
      "source": [
        " 56.Find the length of each string element in the Numpy array"
      ],
      "metadata": {
        "id": "RYTYH6491zB3"
      }
    },
    {
      "cell_type": "markdown",
      "source": [
        " 57.Swap the case of an array of string"
      ],
      "metadata": {
        "id": "uEVRYPb9115J"
      }
    },
    {
      "cell_type": "markdown",
      "source": [
        " 58.Change the case to uppercase of elements of an array"
      ],
      "metadata": {
        "id": "36mwy5uj15O2"
      }
    },
    {
      "cell_type": "markdown",
      "source": [
        "59.Change the case to lowercase of elements of an array"
      ],
      "metadata": {
        "id": "cNAedy6q17-Q"
      }
    },
    {
      "cell_type": "markdown",
      "source": [
        "60.Join String by a separator"
      ],
      "metadata": {
        "id": "sRYl87rw1-Yb"
      }
    },
    {
      "cell_type": "markdown",
      "source": [
        " 61.Check if two same shaped string arrayss one by one"
      ],
      "metadata": {
        "id": "BhfRG3uP2AvP"
      }
    },
    {
      "cell_type": "markdown",
      "source": [
        " 62.Count the number of substrings in an array"
      ],
      "metadata": {
        "id": "1s2fcNuV2DWi"
      }
    },
    {
      "cell_type": "markdown",
      "source": [
        " 63.Find the lowest index of the substring in an array"
      ],
      "metadata": {
        "id": "j8cpJe212GP0"
      }
    },
    {
      "cell_type": "markdown",
      "source": [
        " 64.Get the boolean array when values end with a particular character"
      ],
      "metadata": {
        "id": "oP-4Bx9K2ItE"
      }
    },
    {
      "cell_type": "markdown",
      "source": [
        "\n",
        "\n",
        "---\n",
        "\n",
        "\n",
        "\n",
        "---\n",
        "\n",
        "\n",
        "\n",
        "---\n",
        "\n"
      ],
      "metadata": {
        "id": "RCrB-xcn2tk9"
      }
    },
    {
      "cell_type": "markdown",
      "source": [
        "."
      ],
      "metadata": {
        "id": "yevfR77e2u21"
      }
    },
    {
      "cell_type": "markdown",
      "source": [
        "                                                                            \n",
        "                                                                             \n",
        "                                                                              \n",
        "                                                                               \n",
        "                                                                                \n",
        "                                                                                 \n",
        "                                                                                  \n",
        "                                                                          Pandas\n",
        "\n"
      ],
      "metadata": {
        "id": "fYW2kTTk2s-L"
      }
    },
    {
      "cell_type": "markdown",
      "source": [
        "."
      ],
      "metadata": {
        "id": "IiVX7X852wND"
      }
    },
    {
      "cell_type": "markdown",
      "source": [
        "\n",
        "\n",
        "---\n",
        "\n",
        "\n",
        "\n",
        "---\n",
        "\n",
        "\n",
        "\n",
        "---\n",
        "\n"
      ],
      "metadata": {
        "id": "zrg-3OzD2w8O"
      }
    },
    {
      "cell_type": "markdown",
      "source": [
        "> List of Pandas Exercises"
      ],
      "metadata": {
        "id": "kIdN_AAj2ydy"
      }
    },
    {
      "cell_type": "markdown",
      "source": [
        "\n",
        "\n",
        "---\n",
        "\n",
        "\n",
        "\n",
        "---\n",
        "\n",
        "\n",
        "\n",
        "---\n",
        "\n"
      ],
      "metadata": {
        "id": "qOrG5p2b3Edn"
      }
    },
    {
      "cell_type": "markdown",
      "source": [
        "1.Make a Pandas DataFrame with a two-dimensional list | Python"
      ],
      "metadata": {
        "id": "5qIRxfoJ3GG2"
      }
    },
    {
      "cell_type": "markdown",
      "source": [
        " 2.Python | Creating DataFrame from dict of narray/lists"
      ],
      "metadata": {
        "id": "eUf4NWbf3Jut"
      }
    },
    {
      "cell_type": "markdown",
      "source": [
        " 3.Python | Creating DataFrame from dict of narray/lists"
      ],
      "metadata": {
        "id": "wIvYuazp3MHx"
      }
    },
    {
      "cell_type": "markdown",
      "source": [
        " 4.Creating Pandas dataframe using list of lists"
      ],
      "metadata": {
        "id": "dKGp7l6h3PKv"
      }
    },
    {
      "cell_type": "markdown",
      "source": [
        " 5.Creating a Pandas dataframe using list of tuples"
      ],
      "metadata": {
        "id": "q__ED0u_3Rp8"
      }
    },
    {
      "cell_type": "markdown",
      "source": [
        " 6.Create a Pandas DataFrame from List of Dicts"
      ],
      "metadata": {
        "id": "nclx_jv_3URH"
      }
    },
    {
      "cell_type": "markdown",
      "source": [
        " 7.Python | Convert list of nested dictionary into Pandas dataframe"
      ],
      "metadata": {
        "id": "ssbiUaku3WVl"
      }
    },
    {
      "cell_type": "markdown",
      "source": [
        " 8.Replace values in Pandas dataframe using regex"
      ],
      "metadata": {
        "id": "Fiw5B43d3ZTE"
      }
    },
    {
      "cell_type": "markdown",
      "source": [
        " 10.Creating a dataframe from Pandas series"
      ],
      "metadata": {
        "id": "1O15fUJf3bbi"
      }
    },
    {
      "cell_type": "markdown",
      "source": [
        " 11.Construct a DataFrame in Pandas using string data"
      ],
      "metadata": {
        "id": "6sjE0t4m3eN2"
      }
    },
    {
      "cell_type": "markdown",
      "source": [
        " 12.Clean the string data in the given Pandas Dataframe"
      ],
      "metadata": {
        "id": "HkmIt6G93goB"
      }
    },
    {
      "cell_type": "markdown",
      "source": [
        "13.Reindexing in Pandas DataFrame"
      ],
      "metadata": {
        "id": "jUqhkZfh3jTE"
      }
    },
    {
      "cell_type": "markdown",
      "source": [
        " 14.Mapping external values to dataframe values in Pandas"
      ],
      "metadata": {
        "id": "f3--73Tj3mGt"
      }
    },
    {
      "cell_type": "markdown",
      "source": [
        " 15.Reshape a pandas DataFrame using stack, unstack and melt method"
      ],
      "metadata": {
        "id": "AVZrLuhu3oq4"
      }
    },
    {
      "cell_type": "markdown",
      "source": [
        "16.Reset Index in Pandas Dataframe"
      ],
      "metadata": {
        "id": "r1y-FxBM3sLm"
      }
    },
    {
      "cell_type": "markdown",
      "source": [
        " 17.Python | Change column names and row indexes in Pandas DataFrame"
      ],
      "metadata": {
        "id": "YazkXZN63uY6"
      }
    },
    {
      "cell_type": "markdown",
      "source": [
        "\n",
        "\n",
        "---\n",
        "\n",
        "\n",
        "\n",
        "---\n",
        "\n",
        "\n",
        "\n",
        "---\n",
        "\n"
      ],
      "metadata": {
        "id": "IKJh8n0p32fA"
      }
    },
    {
      "cell_type": "markdown",
      "source": [
        "> Pandas Dataframe Rows - Practice Exercise"
      ],
      "metadata": {
        "id": "5fqweVQr3wzC"
      }
    },
    {
      "cell_type": "markdown",
      "source": [
        "\n",
        "\n",
        "---\n",
        "\n",
        "\n",
        "\n",
        "---\n",
        "\n",
        "\n",
        "\n",
        "---\n",
        "\n"
      ],
      "metadata": {
        "id": "j769u5dC34P3"
      }
    },
    {
      "cell_type": "markdown",
      "source": [
        "18.How to iterate over rows in Pandas Dataframe"
      ],
      "metadata": {
        "id": "eow9yF6s35jU"
      }
    },
    {
      "cell_type": "markdown",
      "source": [
        " 19.Different ways to iterate over rows in Pandas Dataframe"
      ],
      "metadata": {
        "id": "GlHzlayH39ir"
      }
    },
    {
      "cell_type": "markdown",
      "source": [
        " 20.Selecting rows in pandas DataFrame based on conditions"
      ],
      "metadata": {
        "id": "mfWv7MFI4At1"
      }
    },
    {
      "cell_type": "markdown",
      "source": [
        "21.Select any row from a Dataframe using iloc[] and iat[] in Pandas"
      ],
      "metadata": {
        "id": "NmAxYlIV4C_J"
      }
    },
    {
      "cell_type": "markdown",
      "source": [
        " 22.Limited rows selection with given column in Pandas | Python"
      ],
      "metadata": {
        "id": "ccFnsvJq4FHp"
      }
    },
    {
      "cell_type": "markdown",
      "source": [
        " 23.Drop rows from the dataframe based on certain condition applied on a column"
      ],
      "metadata": {
        "id": "sCiZ_pEO4II_"
      }
    },
    {
      "cell_type": "markdown",
      "source": [
        "24.Insert row at given position in Pandas Dataframe"
      ],
      "metadata": {
        "id": "PTW6eu8r4KsF"
      }
    },
    {
      "cell_type": "markdown",
      "source": [
        "25.Create a list from rows in Pandas dataframe"
      ],
      "metadata": {
        "id": "gK2ySvIb4NK9"
      }
    },
    {
      "cell_type": "markdown",
      "source": [
        "26.Create a list from rows in Pandas DataFrame | Set 2"
      ],
      "metadata": {
        "id": "g-OHGLHE4QKw"
      }
    },
    {
      "cell_type": "markdown",
      "source": [
        "27.Ranking Rows of Pandas DataFrame"
      ],
      "metadata": {
        "id": "xBp-2Xf54TZ_"
      }
    },
    {
      "cell_type": "markdown",
      "source": [
        " 28.Sorting rows in pandas DataFrame"
      ],
      "metadata": {
        "id": "aPWu8d-L4V-W"
      }
    },
    {
      "cell_type": "markdown",
      "source": [
        " 29.Select row with maximum and minimum value in Pandas dataframe"
      ],
      "metadata": {
        "id": "OqxbWla14YFz"
      }
    },
    {
      "cell_type": "markdown",
      "source": [
        " 30.Get all rows in a Pandas DataFrame containing given substring"
      ],
      "metadata": {
        "id": "ex1s3YsS4aSo"
      }
    },
    {
      "cell_type": "markdown",
      "source": [
        " 31.Convert a column to row name/index in Pandas"
      ],
      "metadata": {
        "id": "qyggQvKn4ckt"
      }
    },
    {
      "cell_type": "markdown",
      "source": [
        "32.How to randomly select rows from Pandas DataFrame"
      ],
      "metadata": {
        "id": "9RLG88074enl"
      }
    },
    {
      "cell_type": "markdown",
      "source": [
        "\n",
        "\n",
        "---\n",
        "\n",
        "\n",
        "\n",
        "---\n",
        "\n",
        "\n",
        "\n",
        "---\n",
        "\n"
      ],
      "metadata": {
        "id": "aKzY8QHn4gln"
      }
    },
    {
      "cell_type": "markdown",
      "source": [
        "> Pandas Dataframe Columns - Practice Exercise"
      ],
      "metadata": {
        "id": "nYMU06Px4mqM"
      }
    },
    {
      "cell_type": "markdown",
      "source": [
        " 33.Create a pandas column using for loop"
      ],
      "metadata": {
        "id": "R2knECbD4qXv"
      }
    },
    {
      "cell_type": "markdown",
      "source": [
        " 34.How to get column names in Pandas dataframe"
      ],
      "metadata": {
        "id": "5SEmq9oc4tFp"
      }
    },
    {
      "cell_type": "markdown",
      "source": [
        " 35.How to rename columns in Pandas DataFrame"
      ],
      "metadata": {
        "id": "B3dkPqlI4xAf"
      }
    },
    {
      "cell_type": "markdown",
      "source": [
        "36.Collapse multiple Columns in Pandas"
      ],
      "metadata": {
        "id": "wUImqo2R4zn2"
      }
    },
    {
      "cell_type": "markdown",
      "source": [
        " 37.Get unique values from a column in Pandas DataFrame"
      ],
      "metadata": {
        "id": "rvVpEh1F42Fx"
      }
    },
    {
      "cell_type": "markdown",
      "source": [
        "38.Conditional operation on Pandas DataFrame columns"
      ],
      "metadata": {
        "id": "uBErV0Qj44L7"
      }
    },
    {
      "cell_type": "markdown",
      "source": [
        " 39.Return the Index label if some condition is satisfied over a column in Panda Dataframe"
      ],
      "metadata": {
        "id": "B_K8ThFi46SE"
      }
    },
    {
      "cell_type": "markdown",
      "source": [
        " 40.Using dictionary to remap values in Pandas DataFrame columns"
      ],
      "metadata": {
        "id": "KqTLJ2Bg49Mh"
      }
    },
    {
      "cell_type": "markdown",
      "source": [
        "41.Formatting integer column of Dataframe in Pandas"
      ],
      "metadata": {
        "id": "zdgf-I2G4_nu"
      }
    },
    {
      "cell_type": "markdown",
      "source": [
        "42.Create a new column in Pandas DataFrame based on the existing columns"
      ],
      "metadata": {
        "id": "U60KpjnY5GWt"
      }
    },
    {
      "cell_type": "markdown",
      "source": [
        " 43.Python | Creating a Pandas dataframe column based on a given condition"
      ],
      "metadata": {
        "id": "KkGW4fIR5Iq2"
      }
    },
    {
      "cell_type": "markdown",
      "source": [
        " 44.Split a column in Pandas dataframe and get part of it"
      ],
      "metadata": {
        "id": "4CztONLU5KyC"
      }
    },
    {
      "cell_type": "markdown",
      "source": [
        " 45.Getting Unique values from a column in Pandas dataframe"
      ],
      "metadata": {
        "id": "Zw77ztoP5M8K"
      }
    },
    {
      "cell_type": "markdown",
      "source": [
        " 46.Split a String into columns using regex in pandas DataFrame"
      ],
      "metadata": {
        "id": "Buxs6gnr5PYH"
      }
    },
    {
      "cell_type": "markdown",
      "source": [
        " 47.Getting frequency counts of a columns in Pandas DataFrame"
      ],
      "metadata": {
        "id": "lUf5iNfI5Rey"
      }
    },
    {
      "cell_type": "markdown",
      "source": [
        " 48.Change Data Type for one or more columns in Pandas Dataframe"
      ],
      "metadata": {
        "id": "zDC0o7s-5UBW"
      }
    },
    {
      "cell_type": "markdown",
      "source": [
        "49.Split a text column into two columns in Pandas DataFrame"
      ],
      "metadata": {
        "id": "-cwbMc0X5WGG"
      }
    },
    {
      "cell_type": "markdown",
      "source": [
        " 50.Difference of two columns in Pandas dataframe"
      ],
      "metadata": {
        "id": "66CdzdQZ5YZh"
      }
    },
    {
      "cell_type": "markdown",
      "source": [
        "51.Get the index of maximum value in DataFrame column"
      ],
      "metadata": {
        "id": "EHlPH_4d5aj_"
      }
    },
    {
      "cell_type": "markdown",
      "source": [
        " 52.Get the index of minimum value in DataFrame column"
      ],
      "metadata": {
        "id": "CW15w9fN5cvk"
      }
    },
    {
      "cell_type": "markdown",
      "source": [
        " 53.Get n-largest values from a particular column in Pandas DataFrame"
      ],
      "metadata": {
        "id": "1aWIJngg5e5P"
      }
    },
    {
      "cell_type": "markdown",
      "source": [
        " 54.Get n-smallest values from a particular column in Pandas DataFrame"
      ],
      "metadata": {
        "id": "9REGq7h65hJP"
      }
    },
    {
      "cell_type": "markdown",
      "source": [
        " 55.How to drop one or multiple columns in Pandas Dataframe"
      ],
      "metadata": {
        "id": "I7TKFM2Z5kNK"
      }
    },
    {
      "cell_type": "markdown",
      "source": [
        " 56.How to lowercase column names in Pandas dataframe"
      ],
      "metadata": {
        "id": "KtBu2zxt5n3U"
      }
    },
    {
      "cell_type": "markdown",
      "source": [
        "57.Capitalize first letter of a column in Pandas dataframe"
      ],
      "metadata": {
        "id": "Vi2Vlg205qxm"
      }
    },
    {
      "cell_type": "markdown",
      "source": [
        "58.Apply uppercase to a column in Pandas dataframe"
      ],
      "metadata": {
        "id": "sBhRw4Es5tO9"
      }
    },
    {
      "cell_type": "markdown",
      "source": [
        " 59.Free Python 3 Tutorial Data Types Control Flow Functions List String Set Tuple Dictionary Oops"
      ],
      "metadata": {
        "id": "kTqR-0mk5vQk"
      }
    },
    {
      "cell_type": "markdown",
      "source": [
        "\n",
        "\n",
        "---\n",
        "\n",
        "\n",
        "\n",
        "---\n",
        "\n",
        "\n",
        "\n",
        "---\n",
        "\n"
      ],
      "metadata": {
        "id": "gcJAAdhf56e7"
      }
    },
    {
      "cell_type": "markdown",
      "source": [
        "> Pandas Series - Practice Exercise"
      ],
      "metadata": {
        "id": "FO8aljJD5ye2"
      }
    },
    {
      "cell_type": "markdown",
      "source": [
        "\n",
        "\n",
        "---\n",
        "\n",
        "\n",
        "\n",
        "---\n",
        "\n",
        "\n",
        "\n",
        "---\n",
        "\n"
      ],
      "metadata": {
        "id": "IlVz97JI549B"
      }
    },
    {
      "cell_type": "markdown",
      "source": [
        " 60.Create a Pandas Series"
      ],
      "metadata": {
        "id": "vGEPC1h_50fn"
      }
    },
    {
      "cell_type": "markdown",
      "source": [
        " 61.Create a Pandas Series from array"
      ],
      "metadata": {
        "id": "8ybIopjl6OHC"
      }
    },
    {
      "cell_type": "markdown",
      "source": [
        " 62.Creating a Pandas Series from Dictionary"
      ],
      "metadata": {
        "id": "U7aMfHIV6RQx"
      }
    },
    {
      "cell_type": "markdown",
      "source": [
        " 63.Creating a Pandas Series from Lists"
      ],
      "metadata": {
        "id": "-NTQ_15Y6TPP"
      }
    },
    {
      "cell_type": "markdown",
      "source": [
        " 64.Create Pandas Series using NumPy functions"
      ],
      "metadata": {
        "id": "zMLHcpXd6VQY"
      }
    },
    {
      "cell_type": "markdown",
      "source": [
        " 65.Access the elements of a Series in Pandas"
      ],
      "metadata": {
        "id": "iCwGst0p6bDk"
      }
    },
    {
      "cell_type": "markdown",
      "source": [
        "\n",
        "\n",
        "---\n",
        "\n",
        "\n",
        "\n",
        "---\n",
        "\n",
        "\n",
        "\n",
        "---\n",
        "\n"
      ],
      "metadata": {
        "id": "ezTNuoTn6kor"
      }
    },
    {
      "cell_type": "markdown",
      "source": [
        "> Pandas Date and Time - Practice Exercise"
      ],
      "metadata": {
        "id": "JlO6IAml6eH1"
      }
    },
    {
      "cell_type": "markdown",
      "source": [
        "\n",
        "\n",
        "---\n",
        "\n",
        "\n",
        "\n",
        "---\n",
        "\n",
        "\n",
        "\n",
        "---\n",
        "\n"
      ],
      "metadata": {
        "id": "UQhtF2wZ6l1v"
      }
    },
    {
      "cell_type": "markdown",
      "source": [
        " 66.Pandas | Basic of Time Series Manipulation"
      ],
      "metadata": {
        "id": "5dUZnT9D6m1K"
      }
    },
    {
      "cell_type": "markdown",
      "source": [
        " 67.Using Timedelta and Period to create DateTime based indexes in Pandas"
      ],
      "metadata": {
        "id": "kXa1Fq7u6o3r"
      }
    },
    {
      "cell_type": "markdown",
      "source": [
        " 68.Convert the column type from string to datetime format in Pandas dataframe"
      ],
      "metadata": {
        "id": "5XyKaIgs6q4m"
      }
    }
  ]
}